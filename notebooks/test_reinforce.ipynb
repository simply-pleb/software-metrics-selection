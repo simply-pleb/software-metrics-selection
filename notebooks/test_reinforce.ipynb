{
 "cells": [
  {
   "cell_type": "code",
   "execution_count": 1,
   "metadata": {},
   "outputs": [],
   "source": [
    "import numpy as np\n",
    "import pandas as pd\n",
    "import matplotlib.pyplot as plt\n",
    "\n",
    "import torch\n",
    "\n",
    "import sys\n",
    "\n",
    "sys.path.append(\"../\")\n",
    "\n",
    "from src.envs import RLFSEnvSparse\n",
    "from src.rl import REINFORCE\n",
    "from src.errors import sammon_error"
   ]
  },
  {
   "cell_type": "code",
   "execution_count": 2,
   "metadata": {},
   "outputs": [],
   "source": [
    "INF_LOOP_CNT = 5"
   ]
  },
  {
   "cell_type": "code",
   "execution_count": 3,
   "metadata": {},
   "outputs": [],
   "source": [
    "def get_data_frames(train_path, test_path):\n",
    "    data_train = pd.read_csv(train_path, sep=\",\")\n",
    "    data_test = pd.read_csv(test_path, sep=\",\")\n",
    "\n",
    "    return data_train, data_test\n",
    "\n",
    "\n",
    "def get_data_train_test(data_train, data_test):\n",
    "    X_train = data_train.drop(columns=[\"repository\"], inplace=False)\n",
    "    X_train = X_train.to_numpy()\n",
    "\n",
    "    X_test = data_test.drop(columns=[\"repository\"], inplace=False)\n",
    "    X_test = X_test.to_numpy()\n",
    "\n",
    "    return X_train, X_test\n",
    "\n",
    "def powers_of_two_less_than(n):\n",
    "    max_exponent = int(np.log2(n))  # Find the largest exponent such that 2^k < N\n",
    "    return 2 ** np.arange(max_exponent+1)"
   ]
  },
  {
   "cell_type": "code",
   "execution_count": 4,
   "metadata": {},
   "outputs": [],
   "source": [
    "def train_reinforce_agent(X_train, agent, device, make_plots=False):\n",
    "    state_space = X_train.shape[1]\n",
    "    action_space = X_train.shape[1]\n",
    "    for i, num_features in enumerate(powers_of_two_less_than(state_space//2)):\n",
    "            env = RLFSEnvSparse(\n",
    "                state_size=state_space, data=X_train, max_features=num_features\n",
    "            )\n",
    "            print(f\"Iteration {i}, Number of features {num_features}\")\n",
    "            episode_returns = agent.train(\n",
    "                env=env,\n",
    "                num_episodes=500 + 1000 // (i+1),\n",
    "                max_steps=num_features,\n",
    "            )\n",
    "            # torch.save(agent.policy.state_dict(), \"models/REINFORCE/policy_weights.pth\")\n",
    "            if make_plots:\n",
    "                plt.plot(episode_returns)\n",
    "                plt.show()"
   ]
  },
  {
   "cell_type": "code",
   "execution_count": 5,
   "metadata": {},
   "outputs": [],
   "source": [
    "def test_agent(X_test, data_test, agent, verbose=True):\n",
    "    state_space = X_test.shape[1]\n",
    "    action_space = X_test.shape[1]\n",
    "    env = RLFSEnvSparse(state_size=state_space, data=X_test, max_features=state_space)\n",
    "    errors = []\n",
    "    num_ftrs = []\n",
    "    selected_features = []\n",
    "    if verbose:\n",
    "        print(\"waiting...\")\n",
    "    for n in range(1, state_space+1):\n",
    "        state = env.reset()\n",
    "        # errors.append(sammon_error(X_test, state))\n",
    "        state_cnt = 0  # int(np.sum(state))\n",
    "        done = False\n",
    "        # if verbose:\n",
    "        #     print(f\"n={n}\")\n",
    "        inf_loop_cnt = INF_LOOP_CNT\n",
    "        action_sequence = []\n",
    "        while state_cnt < n and not done:\n",
    "            if inf_loop_cnt > 0:\n",
    "                action, action_prob = agent.select_action_deterministic(state)\n",
    "            else:\n",
    "                # print(\"+\")\n",
    "                action, action_prob = agent.select_action(state)\n",
    "                # print(np.exp(action_prob.detach().numpy()))\n",
    "\n",
    "            next_state, _, done, _ = env.step(action)\n",
    "            action_sequence.append(action)\n",
    "\n",
    "            if int(np.sum(next_state)) > state_cnt:\n",
    "                # print(state_cnt)\n",
    "                inf_loop_cnt = INF_LOOP_CNT\n",
    "                state_cnt = int(np.sum(next_state))\n",
    "            else:\n",
    "                inf_loop_cnt -= 1\n",
    "\n",
    "            state = next_state\n",
    "        # print(np.sum(state))\n",
    "        error = sammon_error(X_test, state)\n",
    "        errors.append(error)\n",
    "        num_ftrs.append(n)\n",
    "        selected_features.append(\n",
    "            [data_test.drop(columns=[\"repository\"]).columns[action] for action in action_sequence]\n",
    "        )\n",
    "\n",
    "    return errors, num_ftrs, selected_features"
   ]
  },
  {
   "cell_type": "code",
   "execution_count": 6,
   "metadata": {},
   "outputs": [],
   "source": [
    "train_path_class = \"../data/data_class_train.csv\"\n",
    "test_path_class = \"../data/data_class.csv\"\n",
    "train_path_method = \"../data/data_method_train.csv\"\n",
    "test_path_method = \"../data/data_method.csv\""
   ]
  },
  {
   "cell_type": "code",
   "execution_count": 7,
   "metadata": {},
   "outputs": [],
   "source": [
    "data_train_method, data_test_method = get_data_frames(train_path_method, test_path_method)\n",
    "X_train_method, X_test_method = get_data_train_test(data_train_method, data_test_method)\n",
    "state_space_method = X_train_method.shape[1]\n",
    "action_space_method = X_train_method.shape[1]\n",
    "\n",
    "data_train_class, data_test_class = get_data_frames(train_path_class, test_path_class)\n",
    "X_train_class, X_test_class = get_data_train_test(data_train_class, data_test_class)\n",
    "state_space_class = X_train_class.shape[1]\n",
    "action_space_class = X_train_class.shape[1]"
   ]
  },
  {
   "cell_type": "code",
   "execution_count": 8,
   "metadata": {},
   "outputs": [
    {
     "data": {
      "text/plain": [
       "((53, 27), (106, 27))"
      ]
     },
     "execution_count": 8,
     "metadata": {},
     "output_type": "execute_result"
    }
   ],
   "source": [
    "data_train_method.shape, data_test_method.shape"
   ]
  },
  {
   "cell_type": "code",
   "execution_count": 9,
   "metadata": {},
   "outputs": [
    {
     "data": {
      "text/plain": [
       "((64, 31), (128, 31))"
      ]
     },
     "execution_count": 9,
     "metadata": {},
     "output_type": "execute_result"
    }
   ],
   "source": [
    "data_train_class.shape, data_test_class.shape"
   ]
  },
  {
   "cell_type": "code",
   "execution_count": 10,
   "metadata": {},
   "outputs": [],
   "source": [
    "device = torch.device(\"cuda\" if torch.cuda.is_available() else \"cpu\")\n",
    "agent = REINFORCE.REINFORCEAgent(state_space_method, action_space_method, gamma=1, lr=0.0001)"
   ]
  },
  {
   "cell_type": "code",
   "execution_count": 11,
   "metadata": {},
   "outputs": [],
   "source": [
    "def run_train_test(X_train, X_test, data_test, agent, device):\n",
    "    train_reinforce_agent(X_train, agent, device)\n",
    "    return test_agent(X_test, data_test, agent)"
   ]
  },
  {
   "cell_type": "code",
   "execution_count": 12,
   "metadata": {},
   "outputs": [],
   "source": [
    "device = torch.device(\"cuda\" if torch.cuda.is_available() else \"cpu\")"
   ]
  },
  {
   "cell_type": "code",
   "execution_count": 13,
   "metadata": {},
   "outputs": [
    {
     "name": "stdout",
     "output_type": "stream",
     "text": [
      "Iteration 0, Number of features 1\n"
     ]
    },
    {
     "name": "stderr",
     "output_type": "stream",
     "text": [
      "Training Episodes: 100%|██████████| 1500/1500 [00:01<00:00, 1255.35it/s, LR=0.0001, Return=0.00275]\n"
     ]
    },
    {
     "name": "stdout",
     "output_type": "stream",
     "text": [
      "Iteration 1, Number of features 2\n"
     ]
    },
    {
     "name": "stderr",
     "output_type": "stream",
     "text": [
      "Training Episodes: 100%|██████████| 1000/1000 [00:00<00:00, 1035.40it/s, LR=0.0001, Return=0.351] \n"
     ]
    },
    {
     "name": "stdout",
     "output_type": "stream",
     "text": [
      "Iteration 2, Number of features 4\n"
     ]
    },
    {
     "name": "stderr",
     "output_type": "stream",
     "text": [
      "Training Episodes: 100%|██████████| 833/833 [00:01<00:00, 763.46it/s, LR=0.0001, Return=0.317] \n"
     ]
    },
    {
     "name": "stdout",
     "output_type": "stream",
     "text": [
      "Iteration 3, Number of features 8\n"
     ]
    },
    {
     "name": "stderr",
     "output_type": "stream",
     "text": [
      "Training Episodes: 100%|██████████| 750/750 [00:01<00:00, 528.60it/s, LR=0.0001, Return=4.25] \n"
     ]
    },
    {
     "name": "stdout",
     "output_type": "stream",
     "text": [
      "waiting...\n",
      "[['HEFF'], ['HEFF', 'HVOL'], ['HEFF', 'HVOL', 'MI'], ['HEFF', 'HVOL', 'MI', 'HCPL'], ['HEFF', 'HVOL', 'MI', 'HCPL', 'HTRP'], ['HEFF', 'HVOL', 'MI', 'HCPL', 'HTRP', 'TLOC'], ['HEFF', 'HVOL', 'MI', 'HCPL', 'HTRP', 'TLOC', 'LOC'], ['HEFF', 'HVOL', 'MI', 'HCPL', 'HTRP', 'TLOC', 'LOC', 'TLLOC'], ['HEFF', 'HVOL', 'MI', 'HCPL', 'HTRP', 'TLOC', 'LOC', 'TLLOC', 'LLOC'], ['HEFF', 'HVOL', 'MI', 'HCPL', 'HTRP', 'TLOC', 'LOC', 'TLLOC', 'LLOC', 'HPL'], ['HEFF', 'HVOL', 'MI', 'HCPL', 'HTRP', 'TLOC', 'LOC', 'TLLOC', 'LLOC', 'HPL', 'NOS'], ['HEFF', 'HVOL', 'MI', 'HCPL', 'HTRP', 'TLOC', 'LOC', 'TLLOC', 'LLOC', 'HPL', 'NOS', 'CLOC'], ['HEFF', 'HVOL', 'MI', 'HCPL', 'HTRP', 'TLOC', 'LOC', 'TLLOC', 'LLOC', 'HPL', 'NOS', 'CLOC', 'TCLOC'], ['HEFF', 'HVOL', 'MI', 'HCPL', 'HTRP', 'TLOC', 'LOC', 'TLLOC', 'LLOC', 'HPL', 'NOS', 'CLOC', 'TCLOC', 'TNOS'], ['HEFF', 'HVOL', 'MI', 'HCPL', 'HTRP', 'TLOC', 'LOC', 'TLLOC', 'LLOC', 'HPL', 'NOS', 'CLOC', 'TCLOC', 'TNOS', 'DLOC'], ['HEFF', 'HVOL', 'MI', 'HCPL', 'HTRP', 'TLOC', 'LOC', 'TLLOC', 'LLOC', 'HPL', 'NOS', 'CLOC', 'TCLOC', 'TNOS', 'DLOC', 'HPV'], ['HEFF', 'HVOL', 'MI', 'HCPL', 'HTRP', 'TLOC', 'LOC', 'TLLOC', 'LLOC', 'HPL', 'NOS', 'CLOC', 'TCLOC', 'TNOS', 'DLOC', 'HPV', 'McCC'], ['HEFF', 'HVOL', 'MI', 'HCPL', 'HTRP', 'TLOC', 'LOC', 'TLLOC', 'LLOC', 'HPL', 'NOS', 'CLOC', 'TCLOC', 'TNOS', 'DLOC', 'HPV', 'McCC', 'NUMPAR'], ['HEFF', 'HVOL', 'MI', 'HCPL', 'HTRP', 'TLOC', 'LOC', 'TLLOC', 'LLOC', 'HPL', 'NOS', 'CLOC', 'TCLOC', 'TNOS', 'DLOC', 'HPV', 'McCC', 'NUMPAR', 'NL'], ['HEFF', 'HVOL', 'MI', 'HCPL', 'HTRP', 'TLOC', 'LOC', 'TLLOC', 'LLOC', 'HPL', 'NOS', 'CLOC', 'TCLOC', 'TNOS', 'DLOC', 'HPV', 'McCC', 'NUMPAR', 'NL', 'TCD'], ['HEFF', 'HVOL', 'MI', 'HCPL', 'HTRP', 'TLOC', 'LOC', 'TLLOC', 'LLOC', 'HPL', 'NOS', 'CLOC', 'TCLOC', 'TNOS', 'DLOC', 'HPV', 'McCC', 'NUMPAR', 'NL', 'TCD', 'NOI'], ['HEFF', 'HVOL', 'MI', 'HCPL', 'HTRP', 'TLOC', 'LOC', 'TLLOC', 'LLOC', 'HPL', 'NOS', 'CLOC', 'TCLOC', 'TNOS', 'DLOC', 'HPV', 'McCC', 'NUMPAR', 'NL', 'TCD', 'NOI', 'NII'], ['HEFF', 'HVOL', 'MI', 'HCPL', 'HTRP', 'TLOC', 'LOC', 'TLLOC', 'LLOC', 'HPL', 'NOS', 'CLOC', 'TCLOC', 'TNOS', 'DLOC', 'HPV', 'McCC', 'NUMPAR', 'NL', 'TCD', 'NOI', 'NII', 'NLE'], ['HEFF', 'HVOL', 'MI', 'HCPL', 'HTRP', 'TLOC', 'LOC', 'TLLOC', 'LLOC', 'HPL', 'NOS', 'CLOC', 'TCLOC', 'TNOS', 'DLOC', 'HPV', 'McCC', 'NUMPAR', 'NL', 'TCD', 'NOI', 'NII', 'NLE', 'HNDB'], ['HEFF', 'HVOL', 'MI', 'HCPL', 'HTRP', 'TLOC', 'LOC', 'TLLOC', 'LLOC', 'HPL', 'NOS', 'CLOC', 'TCLOC', 'TNOS', 'DLOC', 'HPV', 'McCC', 'NUMPAR', 'NL', 'TCD', 'NOI', 'NII', 'NLE', 'HNDB', 'HDIF'], ['HEFF', 'HVOL', 'MI', 'HCPL', 'HTRP', 'TLOC', 'LOC', 'TLLOC', 'LLOC', 'HPL', 'NOS', 'CLOC', 'TCLOC', 'TNOS', 'DLOC', 'HPV', 'McCC', 'NUMPAR', 'NL', 'TCD', 'NOI', 'NII', 'NLE', 'HNDB', 'HDIF', 'CD']]\n"
     ]
    }
   ],
   "source": [
    "agent_method = REINFORCE.REINFORCEAgent(\n",
    "    state_space_method, action_space_method, gamma=1, lr=0.0001\n",
    ")\n",
    "errors, num_ftrs, selected_features = run_train_test(\n",
    "    X_train=X_train_method,\n",
    "    X_test=X_test_method,\n",
    "    data_test=data_test_method,\n",
    "    agent=agent_method,\n",
    "    device=device,\n",
    ")\n",
    "\n",
    "print(selected_features)\n"
   ]
  },
  {
   "cell_type": "code",
   "execution_count": 14,
   "metadata": {},
   "outputs": [],
   "source": [
    "selected_features_ = []\n",
    "selected_features_.extend(selected_features[-1])"
   ]
  },
  {
   "cell_type": "code",
   "execution_count": 15,
   "metadata": {},
   "outputs": [
    {
     "data": {
      "image/png": "[encoded data removed]",
      "text/plain": [
       "<Figure size 1000x750 with 1 Axes>"
      ]
     },
     "metadata": {},
     "output_type": "display_data"
    }
   ],
   "source": [
    "# Plot\n",
    "plt.figure(figsize=(10, 7.5))\n",
    "plt.plot(num_ftrs, errors, marker='o', linestyle='-', color='b')\n",
    "plt.xlabel('Sequentially Selected Metrics')\n",
    "plt.ylabel('Sammon Error')\n",
    "# plt.title('Sammon Error vs Number of Features')\n",
    "plt.xticks(num_ftrs, selected_features_, rotation=45, ha='right')  # Map indices to feature names\n",
    "plt.grid(True)\n",
    "plt.show()"
   ]
  },
  {
   "cell_type": "code",
   "execution_count": 16,
   "metadata": {},
   "outputs": [
    {
     "name": "stdout",
     "output_type": "stream",
     "text": [
      "Iteration 0, Number of features 1\n"
     ]
    },
    {
     "name": "stderr",
     "output_type": "stream",
     "text": [
      "Training Episodes: 100%|██████████| 1500/1500 [00:01<00:00, 1292.29it/s, LR=0.0001, Return=-1e-5]  \n"
     ]
    },
    {
     "name": "stdout",
     "output_type": "stream",
     "text": [
      "Iteration 1, Number of features 2\n"
     ]
    },
    {
     "name": "stderr",
     "output_type": "stream",
     "text": [
      "Training Episodes: 100%|██████████| 1000/1000 [00:01<00:00, 938.06it/s, LR=0.0001, Return=0.00624]\n"
     ]
    },
    {
     "name": "stdout",
     "output_type": "stream",
     "text": [
      "Iteration 2, Number of features 4\n"
     ]
    },
    {
     "name": "stderr",
     "output_type": "stream",
     "text": [
      "Training Episodes: 100%|██████████| 833/833 [00:01<00:00, 727.88it/s, LR=0.0001, Return=0.175]  \n"
     ]
    },
    {
     "name": "stdout",
     "output_type": "stream",
     "text": [
      "Iteration 3, Number of features 8\n"
     ]
    },
    {
     "name": "stderr",
     "output_type": "stream",
     "text": [
      "Training Episodes: 100%|██████████| 750/750 [00:01<00:00, 457.09it/s, LR=0.0001, Return=0.491]\n"
     ]
    },
    {
     "name": "stdout",
     "output_type": "stream",
     "text": [
      "waiting...\n"
     ]
    }
   ],
   "source": [
    "agent_class = REINFORCE.REINFORCEAgent(\n",
    "    state_space_class, action_space_class, gamma=1, lr=0.0001\n",
    ")\n",
    "errors, num_ftrs, selected_features = run_train_test(\n",
    "    X_train=X_train_class,\n",
    "    X_test=X_test_class,\n",
    "    data_test=data_test_class,\n",
    "    agent=agent_class,\n",
    "    device=device,\n",
    ")"
   ]
  },
  {
   "cell_type": "code",
   "execution_count": 20,
   "metadata": {},
   "outputs": [],
   "source": [
    "selected_features_ = []\n",
    "selected_features_.extend(selected_features[-1])"
   ]
  },
  {
   "cell_type": "code",
   "execution_count": 21,
   "metadata": {},
   "outputs": [
    {
     "name": "stdout",
     "output_type": "stream",
     "text": [
      "['LOC', 'TLOC', 'LLOC', 'TLLOC', 'TNOS', 'NOS', 'CLOC', 'WMC', 'TNM', 'NM', 'RFC', 'TNLM', 'NLM', 'NOI', 'LCOM5', 'TNA', 'NLE', 'NLA', 'CD', 'NOC', 'NOA', 'CBO', 'CBOI', 'NII', 'NOD', 'NA', 'TNLA', 'DIT', 'NOP', 'NL']\n"
     ]
    }
   ],
   "source": [
    "print(selected_features_)"
   ]
  },
  {
   "cell_type": "code",
   "execution_count": 22,
   "metadata": {},
   "outputs": [
    {
     "data": {
      "image/png": "[encoded data removed]",
      "text/plain": [
       "<Figure size 1000x750 with 1 Axes>"
      ]
     },
     "metadata": {},
     "output_type": "display_data"
    }
   ],
   "source": [
    "# Plot\n",
    "plt.figure(figsize=(10, 7.5))\n",
    "plt.plot(num_ftrs, errors, marker='o', linestyle='-', color='b')\n",
    "plt.xlabel('Sequentially Selected Metrics')\n",
    "plt.ylabel('Sammon Error')\n",
    "# plt.title('Sammon Error vs Number of Features')\n",
    "plt.xticks(num_ftrs, selected_features_, rotation=45, ha='right')  # Map indices to feature names\n",
    "plt.grid(True)\n",
    "plt.show()"
   ]
  },
  {
   "cell_type": "code",
   "execution_count": 23,
   "metadata": {},
   "outputs": [],
   "source": [
    "def test_stability(X_train, X_test, data_test, num_iters=10):\n",
    "    state_space = X_train.shape[1]\n",
    "    action_space = X_train.shape[1]\n",
    "    device = torch.device(\"cuda\" if torch.cuda.is_available() else \"cpu\")\n",
    "    \n",
    "    all_errors = []\n",
    "    all_num_ftrs = []\n",
    "    all_selected_features = []\n",
    "    for i in range(num_iters):\n",
    "        agent = REINFORCE.REINFORCEAgent(state_space, action_space, gamma=1, lr=0.0001)\n",
    "        errors, num_ftrs, selected_features = run_train_test(\n",
    "            X_train, X_test, data_test, agent, device\n",
    "        )\n",
    "        all_errors.append(errors)\n",
    "        all_num_ftrs.append(num_ftrs)\n",
    "        all_selected_features.append(selected_features)\n",
    "\n",
    "    return all_errors, all_num_ftrs, all_selected_features"
   ]
  },
  {
   "cell_type": "code",
   "execution_count": 24,
   "metadata": {},
   "outputs": [
    {
     "name": "stdout",
     "output_type": "stream",
     "text": [
      "Iteration 0, Number of features 1\n"
     ]
    },
    {
     "name": "stderr",
     "output_type": "stream",
     "text": [
      "Training Episodes: 100%|██████████| 1500/1500 [00:01<00:00, 1218.91it/s, LR=0.0001, Return=-1e-5]  \n"
     ]
    },
    {
     "name": "stdout",
     "output_type": "stream",
     "text": [
      "Iteration 1, Number of features 2\n"
     ]
    },
    {
     "name": "stderr",
     "output_type": "stream",
     "text": [
      "Training Episodes: 100%|██████████| 1000/1000 [00:01<00:00, 977.05it/s, LR=0.0001, Return=1.35]  \n"
     ]
    },
    {
     "name": "stdout",
     "output_type": "stream",
     "text": [
      "Iteration 2, Number of features 4\n"
     ]
    },
    {
     "name": "stderr",
     "output_type": "stream",
     "text": [
      "Training Episodes: 100%|██████████| 833/833 [00:01<00:00, 703.60it/s, LR=0.0001, Return=0.00833]\n"
     ]
    },
    {
     "name": "stdout",
     "output_type": "stream",
     "text": [
      "Iteration 3, Number of features 8\n"
     ]
    },
    {
     "name": "stderr",
     "output_type": "stream",
     "text": [
      "Training Episodes: 100%|██████████| 750/750 [00:01<00:00, 513.25it/s, LR=0.0001, Return=0.442] \n"
     ]
    },
    {
     "name": "stdout",
     "output_type": "stream",
     "text": [
      "waiting...\n",
      "Iteration 0, Number of features 1\n"
     ]
    },
    {
     "name": "stderr",
     "output_type": "stream",
     "text": [
      "Training Episodes: 100%|██████████| 1500/1500 [00:01<00:00, 1276.01it/s, LR=0.0001, Return=0.00624]\n"
     ]
    },
    {
     "name": "stdout",
     "output_type": "stream",
     "text": [
      "Iteration 1, Number of features 2\n"
     ]
    },
    {
     "name": "stderr",
     "output_type": "stream",
     "text": [
      "Training Episodes: 100%|██████████| 1000/1000 [00:00<00:00, 1001.61it/s, LR=0.0001, Return=-1e-5] \n"
     ]
    },
    {
     "name": "stdout",
     "output_type": "stream",
     "text": [
      "Iteration 2, Number of features 4\n"
     ]
    },
    {
     "name": "stderr",
     "output_type": "stream",
     "text": [
      "Training Episodes: 100%|██████████| 833/833 [00:01<00:00, 763.54it/s, LR=0.0001, Return=0.287]  \n"
     ]
    },
    {
     "name": "stdout",
     "output_type": "stream",
     "text": [
      "Iteration 3, Number of features 8\n"
     ]
    },
    {
     "name": "stderr",
     "output_type": "stream",
     "text": [
      "Training Episodes: 100%|██████████| 750/750 [00:01<00:00, 516.35it/s, LR=0.0001, Return=1.94] \n"
     ]
    },
    {
     "name": "stdout",
     "output_type": "stream",
     "text": [
      "waiting...\n",
      "Iteration 0, Number of features 1\n"
     ]
    },
    {
     "name": "stderr",
     "output_type": "stream",
     "text": [
      "Training Episodes: 100%|██████████| 1500/1500 [00:01<00:00, 1266.90it/s, LR=0.0001, Return=0.00416]\n"
     ]
    },
    {
     "name": "stdout",
     "output_type": "stream",
     "text": [
      "Iteration 1, Number of features 2\n"
     ]
    },
    {
     "name": "stderr",
     "output_type": "stream",
     "text": [
      "Training Episodes: 100%|██████████| 1000/1000 [00:01<00:00, 951.50it/s, LR=0.0001, Return=0.461]  \n"
     ]
    },
    {
     "name": "stdout",
     "output_type": "stream",
     "text": [
      "Iteration 2, Number of features 4\n"
     ]
    },
    {
     "name": "stderr",
     "output_type": "stream",
     "text": [
      "Training Episodes: 100%|██████████| 833/833 [00:01<00:00, 745.24it/s, LR=0.0001, Return=0.991]  \n"
     ]
    },
    {
     "name": "stdout",
     "output_type": "stream",
     "text": [
      "Iteration 3, Number of features 8\n"
     ]
    },
    {
     "name": "stderr",
     "output_type": "stream",
     "text": [
      "Training Episodes: 100%|██████████| 750/750 [00:01<00:00, 499.28it/s, LR=0.0001, Return=2.23]  \n"
     ]
    },
    {
     "name": "stdout",
     "output_type": "stream",
     "text": [
      "waiting...\n",
      "Iteration 0, Number of features 1\n"
     ]
    },
    {
     "name": "stderr",
     "output_type": "stream",
     "text": [
      "Training Episodes: 100%|██████████| 1500/1500 [00:01<00:00, 1286.64it/s, LR=0.0001, Return=-1e-5]  \n"
     ]
    },
    {
     "name": "stdout",
     "output_type": "stream",
     "text": [
      "Iteration 1, Number of features 2\n"
     ]
    },
    {
     "name": "stderr",
     "output_type": "stream",
     "text": [
      "Training Episodes: 100%|██████████| 1000/1000 [00:00<00:00, 1032.09it/s, LR=0.0001, Return=0.287] \n"
     ]
    },
    {
     "name": "stdout",
     "output_type": "stream",
     "text": [
      "Iteration 2, Number of features 4\n"
     ]
    },
    {
     "name": "stderr",
     "output_type": "stream",
     "text": [
      "Training Episodes: 100%|██████████| 833/833 [00:01<00:00, 765.99it/s, LR=0.0001, Return=1.53]   \n"
     ]
    },
    {
     "name": "stdout",
     "output_type": "stream",
     "text": [
      "Iteration 3, Number of features 8\n"
     ]
    },
    {
     "name": "stderr",
     "output_type": "stream",
     "text": [
      "Training Episodes: 100%|██████████| 750/750 [00:01<00:00, 518.49it/s, LR=0.0001, Return=1.86] \n"
     ]
    },
    {
     "name": "stdout",
     "output_type": "stream",
     "text": [
      "waiting...\n",
      "Iteration 0, Number of features 1\n"
     ]
    },
    {
     "name": "stderr",
     "output_type": "stream",
     "text": [
      "Training Episodes: 100%|██████████| 1500/1500 [00:01<00:00, 1281.21it/s, LR=0.0001, Return=0.438]  \n"
     ]
    },
    {
     "name": "stdout",
     "output_type": "stream",
     "text": [
      "Iteration 1, Number of features 2\n"
     ]
    },
    {
     "name": "stderr",
     "output_type": "stream",
     "text": [
      "Training Episodes: 100%|██████████| 1000/1000 [00:00<00:00, 1029.43it/s, LR=0.0001, Return=1.01]  \n"
     ]
    },
    {
     "name": "stdout",
     "output_type": "stream",
     "text": [
      "Iteration 2, Number of features 4\n"
     ]
    },
    {
     "name": "stderr",
     "output_type": "stream",
     "text": [
      "Training Episodes: 100%|██████████| 833/833 [00:01<00:00, 762.14it/s, LR=0.0001, Return=0.463]  \n"
     ]
    },
    {
     "name": "stdout",
     "output_type": "stream",
     "text": [
      "Iteration 3, Number of features 8\n"
     ]
    },
    {
     "name": "stderr",
     "output_type": "stream",
     "text": [
      "Training Episodes: 100%|██████████| 750/750 [00:01<00:00, 516.08it/s, LR=0.0001, Return=1.79] \n"
     ]
    },
    {
     "name": "stdout",
     "output_type": "stream",
     "text": [
      "waiting...\n",
      "Iteration 0, Number of features 1\n"
     ]
    },
    {
     "name": "stderr",
     "output_type": "stream",
     "text": [
      "Training Episodes: 100%|██████████| 1500/1500 [00:01<00:00, 1270.18it/s, LR=0.0001, Return=0.00575]\n"
     ]
    },
    {
     "name": "stdout",
     "output_type": "stream",
     "text": [
      "Iteration 1, Number of features 2\n"
     ]
    },
    {
     "name": "stderr",
     "output_type": "stream",
     "text": [
      "Training Episodes: 100%|██████████| 1000/1000 [00:00<00:00, 1031.38it/s, LR=0.0001, Return=0.438] \n"
     ]
    },
    {
     "name": "stdout",
     "output_type": "stream",
     "text": [
      "Iteration 2, Number of features 4\n"
     ]
    },
    {
     "name": "stderr",
     "output_type": "stream",
     "text": [
      "Training Episodes: 100%|██████████| 833/833 [00:01<00:00, 749.91it/s, LR=0.0001, Return=0.437]  \n"
     ]
    },
    {
     "name": "stdout",
     "output_type": "stream",
     "text": [
      "Iteration 3, Number of features 8\n"
     ]
    },
    {
     "name": "stderr",
     "output_type": "stream",
     "text": [
      "Training Episodes: 100%|██████████| 750/750 [00:01<00:00, 511.54it/s, LR=0.0001, Return=2.02] \n"
     ]
    },
    {
     "name": "stdout",
     "output_type": "stream",
     "text": [
      "waiting...\n",
      "Iteration 0, Number of features 1\n"
     ]
    },
    {
     "name": "stderr",
     "output_type": "stream",
     "text": [
      "Training Episodes: 100%|██████████| 1500/1500 [00:01<00:00, 1065.15it/s, LR=0.0001, Return=-1e-5]  \n"
     ]
    },
    {
     "name": "stdout",
     "output_type": "stream",
     "text": [
      "Iteration 1, Number of features 2\n"
     ]
    },
    {
     "name": "stderr",
     "output_type": "stream",
     "text": [
      "Training Episodes: 100%|██████████| 1000/1000 [00:01<00:00, 947.38it/s, LR=0.0001, Return=0.998]  \n"
     ]
    },
    {
     "name": "stdout",
     "output_type": "stream",
     "text": [
      "Iteration 2, Number of features 4\n"
     ]
    },
    {
     "name": "stderr",
     "output_type": "stream",
     "text": [
      "Training Episodes: 100%|██████████| 833/833 [00:01<00:00, 750.87it/s, LR=0.0001, Return=1.6]    \n"
     ]
    },
    {
     "name": "stdout",
     "output_type": "stream",
     "text": [
      "Iteration 3, Number of features 8\n"
     ]
    },
    {
     "name": "stderr",
     "output_type": "stream",
     "text": [
      "Training Episodes: 100%|██████████| 750/750 [00:01<00:00, 494.98it/s, LR=0.0001, Return=2.72]  \n"
     ]
    },
    {
     "name": "stdout",
     "output_type": "stream",
     "text": [
      "waiting...\n",
      "Iteration 0, Number of features 1\n"
     ]
    },
    {
     "name": "stderr",
     "output_type": "stream",
     "text": [
      "Training Episodes: 100%|██████████| 1500/1500 [00:01<00:00, 1275.26it/s, LR=0.0001, Return=-1e-5]  \n"
     ]
    },
    {
     "name": "stdout",
     "output_type": "stream",
     "text": [
      "Iteration 1, Number of features 2\n"
     ]
    },
    {
     "name": "stderr",
     "output_type": "stream",
     "text": [
      "Training Episodes: 100%|██████████| 1000/1000 [00:01<00:00, 938.76it/s, LR=0.0001, Return=0.00438]\n"
     ]
    },
    {
     "name": "stdout",
     "output_type": "stream",
     "text": [
      "Iteration 2, Number of features 4\n"
     ]
    },
    {
     "name": "stderr",
     "output_type": "stream",
     "text": [
      "Training Episodes: 100%|██████████| 833/833 [00:01<00:00, 759.64it/s, LR=0.0001, Return=0.462]  \n"
     ]
    },
    {
     "name": "stdout",
     "output_type": "stream",
     "text": [
      "Iteration 3, Number of features 8\n"
     ]
    },
    {
     "name": "stderr",
     "output_type": "stream",
     "text": [
      "Training Episodes: 100%|██████████| 750/750 [00:01<00:00, 515.35it/s, LR=0.0001, Return=2.54] \n"
     ]
    },
    {
     "name": "stdout",
     "output_type": "stream",
     "text": [
      "waiting...\n",
      "Iteration 0, Number of features 1\n"
     ]
    },
    {
     "name": "stderr",
     "output_type": "stream",
     "text": [
      "Training Episodes: 100%|██████████| 1500/1500 [00:01<00:00, 1265.91it/s, LR=0.0001, Return=0.287]  \n"
     ]
    },
    {
     "name": "stdout",
     "output_type": "stream",
     "text": [
      "Iteration 1, Number of features 2\n"
     ]
    },
    {
     "name": "stderr",
     "output_type": "stream",
     "text": [
      "Training Episodes: 100%|██████████| 1000/1000 [00:00<00:00, 1019.77it/s, LR=0.0001, Return=0.996] \n"
     ]
    },
    {
     "name": "stdout",
     "output_type": "stream",
     "text": [
      "Iteration 2, Number of features 4\n"
     ]
    },
    {
     "name": "stderr",
     "output_type": "stream",
     "text": [
      "Training Episodes: 100%|██████████| 833/833 [00:01<00:00, 758.62it/s, LR=0.0001, Return=0.438]  \n"
     ]
    },
    {
     "name": "stdout",
     "output_type": "stream",
     "text": [
      "Iteration 3, Number of features 8\n"
     ]
    },
    {
     "name": "stderr",
     "output_type": "stream",
     "text": [
      "Training Episodes: 100%|██████████| 750/750 [00:01<00:00, 485.60it/s, LR=0.0001, Return=0.349] \n"
     ]
    },
    {
     "name": "stdout",
     "output_type": "stream",
     "text": [
      "waiting...\n",
      "Iteration 0, Number of features 1\n"
     ]
    },
    {
     "name": "stderr",
     "output_type": "stream",
     "text": [
      "Training Episodes: 100%|██████████| 1500/1500 [00:01<00:00, 1208.65it/s, LR=0.0001, Return=-1e-5]  \n"
     ]
    },
    {
     "name": "stdout",
     "output_type": "stream",
     "text": [
      "Iteration 1, Number of features 2\n"
     ]
    },
    {
     "name": "stderr",
     "output_type": "stream",
     "text": [
      "Training Episodes: 100%|██████████| 1000/1000 [00:00<00:00, 1014.04it/s, LR=0.0001, Return=0.0853]\n"
     ]
    },
    {
     "name": "stdout",
     "output_type": "stream",
     "text": [
      "Iteration 2, Number of features 4\n"
     ]
    },
    {
     "name": "stderr",
     "output_type": "stream",
     "text": [
      "Training Episodes: 100%|██████████| 833/833 [00:01<00:00, 763.10it/s, LR=0.0001, Return=0.997]  \n"
     ]
    },
    {
     "name": "stdout",
     "output_type": "stream",
     "text": [
      "Iteration 3, Number of features 8\n"
     ]
    },
    {
     "name": "stderr",
     "output_type": "stream",
     "text": [
      "Training Episodes: 100%|██████████| 750/750 [00:01<00:00, 510.46it/s, LR=0.0001, Return=2.71] \n"
     ]
    },
    {
     "name": "stdout",
     "output_type": "stream",
     "text": [
      "waiting...\n"
     ]
    }
   ],
   "source": [
    "all_errors, all_num_ftrs, all_selected_features = test_stability(X_train_class, X_test_class, data_test_class, num_iters=10)"
   ]
  },
  {
   "cell_type": "code",
   "execution_count": 27,
   "metadata": {},
   "outputs": [
    {
     "data": {
      "text/plain": [
       "(array([2.57124478e-01, 9.75449645e-02, 4.31939462e-02, 1.85016886e-02,\n",
       "        7.79003105e-03, 3.19280335e-03, 6.63314552e-04, 2.65971245e-04,\n",
       "        9.46305014e-05, 3.24146997e-05, 1.60601882e-05, 6.02744665e-06,\n",
       "        1.14528182e-06, 5.72780123e-08, 3.72281631e-08, 3.72281631e-08,\n",
       "        2.40655874e-08, 1.74403051e-08, 1.24886050e-08, 6.66737369e-09,\n",
       "        6.66737369e-09, 6.66737369e-09, 6.66737369e-09, 5.91032200e-10,\n",
       "        1.99403505e-20, 1.99403505e-20, 1.99403505e-20, 1.99403505e-20,\n",
       "        1.99403505e-20, 1.99403505e-20]),\n",
       " array([3.63028417e-01, 1.95966715e-01, 1.01541305e-01, 4.50792091e-02,\n",
       "        1.79793631e-02, 3.67713718e-03, 6.63314552e-04, 2.65971245e-04,\n",
       "        2.28740552e-04, 7.23670215e-05, 5.39062641e-05, 4.21618087e-05,\n",
       "        2.60750098e-06, 1.14528182e-06, 1.11008391e-06, 1.10893861e-06,\n",
       "        1.10893861e-06, 1.10893861e-06, 4.72225426e-08, 4.03805746e-08,\n",
       "        3.77826500e-08, 2.40655874e-08, 2.40655874e-08, 2.40655874e-08,\n",
       "        1.38624526e-08, 9.87328397e-09, 7.33194686e-09, 3.41818704e-09,\n",
       "        1.74027952e-09, 1.99403505e-20]),\n",
       " array([3.20502826e-01, 1.47356450e-01, 6.31678958e-02, 2.88578223e-02,\n",
       "        8.81384340e-03, 3.58027568e-03, 6.63314552e-04, 2.65971245e-04,\n",
       "        1.09438792e-04, 4.01851191e-05, 2.00696570e-05, 1.01585093e-05,\n",
       "        1.43772565e-06, 3.78034157e-07, 3.64500247e-07, 3.58242466e-07,\n",
       "        1.43342445e-07, 1.38684972e-07, 2.84526837e-08, 2.45053188e-08,\n",
       "        1.88125891e-08, 1.49074469e-08, 1.32360085e-08, 9.28780575e-09,\n",
       "        5.41512079e-09, 4.22431507e-09, 2.00948490e-09, 1.02748775e-09,\n",
       "        4.07159123e-10, 1.99403505e-20]))"
      ]
     },
     "execution_count": 27,
     "metadata": {},
     "output_type": "execute_result"
    }
   ],
   "source": [
    "min_errors = np.min(all_errors, axis=0)\n",
    "max_errors = np.max(all_errors, axis=0)\n",
    "avg_errors = np.mean(all_errors, axis=0)\n",
    "min_errors, max_errors, avg_errors"
   ]
  },
  {
   "cell_type": "code",
   "execution_count": 28,
   "metadata": {},
   "outputs": [
    {
     "data": {
      "text/html": [
       "<div>\n",
       "<style scoped>\n",
       "    .dataframe tbody tr th:only-of-type {\n",
       "        vertical-align: middle;\n",
       "    }\n",
       "\n",
       "    .dataframe tbody tr th {\n",
       "        vertical-align: top;\n",
       "    }\n",
       "\n",
       "    .dataframe thead th {\n",
       "        text-align: right;\n",
       "    }\n",
       "</style>\n",
       "<table border=\"1\" class=\"dataframe\">\n",
       "  <thead>\n",
       "    <tr style=\"text-align: right;\">\n",
       "      <th></th>\n",
       "      <th>number_of_features</th>\n",
       "      <th>min_error</th>\n",
       "      <th>max_error</th>\n",
       "      <th>avg_error</th>\n",
       "    </tr>\n",
       "  </thead>\n",
       "  <tbody>\n",
       "    <tr>\n",
       "      <th>0</th>\n",
       "      <td>1</td>\n",
       "      <td>2.571245e-01</td>\n",
       "      <td>3.630284e-01</td>\n",
       "      <td>3.205028e-01</td>\n",
       "    </tr>\n",
       "    <tr>\n",
       "      <th>1</th>\n",
       "      <td>2</td>\n",
       "      <td>9.754496e-02</td>\n",
       "      <td>1.959667e-01</td>\n",
       "      <td>1.473565e-01</td>\n",
       "    </tr>\n",
       "    <tr>\n",
       "      <th>2</th>\n",
       "      <td>3</td>\n",
       "      <td>4.319395e-02</td>\n",
       "      <td>1.015413e-01</td>\n",
       "      <td>6.316790e-02</td>\n",
       "    </tr>\n",
       "    <tr>\n",
       "      <th>3</th>\n",
       "      <td>4</td>\n",
       "      <td>1.850169e-02</td>\n",
       "      <td>4.507921e-02</td>\n",
       "      <td>2.885782e-02</td>\n",
       "    </tr>\n",
       "    <tr>\n",
       "      <th>4</th>\n",
       "      <td>5</td>\n",
       "      <td>7.790031e-03</td>\n",
       "      <td>1.797936e-02</td>\n",
       "      <td>8.813843e-03</td>\n",
       "    </tr>\n",
       "    <tr>\n",
       "      <th>5</th>\n",
       "      <td>6</td>\n",
       "      <td>3.192803e-03</td>\n",
       "      <td>3.677137e-03</td>\n",
       "      <td>3.580276e-03</td>\n",
       "    </tr>\n",
       "    <tr>\n",
       "      <th>6</th>\n",
       "      <td>7</td>\n",
       "      <td>6.633146e-04</td>\n",
       "      <td>6.633146e-04</td>\n",
       "      <td>6.633146e-04</td>\n",
       "    </tr>\n",
       "    <tr>\n",
       "      <th>7</th>\n",
       "      <td>8</td>\n",
       "      <td>2.659712e-04</td>\n",
       "      <td>2.659712e-04</td>\n",
       "      <td>2.659712e-04</td>\n",
       "    </tr>\n",
       "    <tr>\n",
       "      <th>8</th>\n",
       "      <td>9</td>\n",
       "      <td>9.463050e-05</td>\n",
       "      <td>2.287406e-04</td>\n",
       "      <td>1.094388e-04</td>\n",
       "    </tr>\n",
       "    <tr>\n",
       "      <th>9</th>\n",
       "      <td>10</td>\n",
       "      <td>3.241470e-05</td>\n",
       "      <td>7.236702e-05</td>\n",
       "      <td>4.018512e-05</td>\n",
       "    </tr>\n",
       "    <tr>\n",
       "      <th>10</th>\n",
       "      <td>11</td>\n",
       "      <td>1.606019e-05</td>\n",
       "      <td>5.390626e-05</td>\n",
       "      <td>2.006966e-05</td>\n",
       "    </tr>\n",
       "    <tr>\n",
       "      <th>11</th>\n",
       "      <td>12</td>\n",
       "      <td>6.027447e-06</td>\n",
       "      <td>4.216181e-05</td>\n",
       "      <td>1.015851e-05</td>\n",
       "    </tr>\n",
       "    <tr>\n",
       "      <th>12</th>\n",
       "      <td>13</td>\n",
       "      <td>1.145282e-06</td>\n",
       "      <td>2.607501e-06</td>\n",
       "      <td>1.437726e-06</td>\n",
       "    </tr>\n",
       "    <tr>\n",
       "      <th>13</th>\n",
       "      <td>14</td>\n",
       "      <td>5.727801e-08</td>\n",
       "      <td>1.145282e-06</td>\n",
       "      <td>3.780342e-07</td>\n",
       "    </tr>\n",
       "    <tr>\n",
       "      <th>14</th>\n",
       "      <td>15</td>\n",
       "      <td>3.722816e-08</td>\n",
       "      <td>1.110084e-06</td>\n",
       "      <td>3.645002e-07</td>\n",
       "    </tr>\n",
       "    <tr>\n",
       "      <th>15</th>\n",
       "      <td>16</td>\n",
       "      <td>3.722816e-08</td>\n",
       "      <td>1.108939e-06</td>\n",
       "      <td>3.582425e-07</td>\n",
       "    </tr>\n",
       "    <tr>\n",
       "      <th>16</th>\n",
       "      <td>17</td>\n",
       "      <td>2.406559e-08</td>\n",
       "      <td>1.108939e-06</td>\n",
       "      <td>1.433424e-07</td>\n",
       "    </tr>\n",
       "    <tr>\n",
       "      <th>17</th>\n",
       "      <td>18</td>\n",
       "      <td>1.744031e-08</td>\n",
       "      <td>1.108939e-06</td>\n",
       "      <td>1.386850e-07</td>\n",
       "    </tr>\n",
       "    <tr>\n",
       "      <th>18</th>\n",
       "      <td>19</td>\n",
       "      <td>1.248861e-08</td>\n",
       "      <td>4.722254e-08</td>\n",
       "      <td>2.845268e-08</td>\n",
       "    </tr>\n",
       "    <tr>\n",
       "      <th>19</th>\n",
       "      <td>20</td>\n",
       "      <td>6.667374e-09</td>\n",
       "      <td>4.038057e-08</td>\n",
       "      <td>2.450532e-08</td>\n",
       "    </tr>\n",
       "    <tr>\n",
       "      <th>20</th>\n",
       "      <td>21</td>\n",
       "      <td>6.667374e-09</td>\n",
       "      <td>3.778265e-08</td>\n",
       "      <td>1.881259e-08</td>\n",
       "    </tr>\n",
       "    <tr>\n",
       "      <th>21</th>\n",
       "      <td>22</td>\n",
       "      <td>6.667374e-09</td>\n",
       "      <td>2.406559e-08</td>\n",
       "      <td>1.490745e-08</td>\n",
       "    </tr>\n",
       "    <tr>\n",
       "      <th>22</th>\n",
       "      <td>23</td>\n",
       "      <td>6.667374e-09</td>\n",
       "      <td>2.406559e-08</td>\n",
       "      <td>1.323601e-08</td>\n",
       "    </tr>\n",
       "    <tr>\n",
       "      <th>23</th>\n",
       "      <td>24</td>\n",
       "      <td>5.910322e-10</td>\n",
       "      <td>2.406559e-08</td>\n",
       "      <td>9.287806e-09</td>\n",
       "    </tr>\n",
       "    <tr>\n",
       "      <th>24</th>\n",
       "      <td>25</td>\n",
       "      <td>1.994035e-20</td>\n",
       "      <td>1.386245e-08</td>\n",
       "      <td>5.415121e-09</td>\n",
       "    </tr>\n",
       "    <tr>\n",
       "      <th>25</th>\n",
       "      <td>26</td>\n",
       "      <td>1.994035e-20</td>\n",
       "      <td>9.873284e-09</td>\n",
       "      <td>4.224315e-09</td>\n",
       "    </tr>\n",
       "    <tr>\n",
       "      <th>26</th>\n",
       "      <td>27</td>\n",
       "      <td>1.994035e-20</td>\n",
       "      <td>7.331947e-09</td>\n",
       "      <td>2.009485e-09</td>\n",
       "    </tr>\n",
       "    <tr>\n",
       "      <th>27</th>\n",
       "      <td>28</td>\n",
       "      <td>1.994035e-20</td>\n",
       "      <td>3.418187e-09</td>\n",
       "      <td>1.027488e-09</td>\n",
       "    </tr>\n",
       "    <tr>\n",
       "      <th>28</th>\n",
       "      <td>29</td>\n",
       "      <td>1.994035e-20</td>\n",
       "      <td>1.740280e-09</td>\n",
       "      <td>4.071591e-10</td>\n",
       "    </tr>\n",
       "    <tr>\n",
       "      <th>29</th>\n",
       "      <td>30</td>\n",
       "      <td>1.994035e-20</td>\n",
       "      <td>1.994035e-20</td>\n",
       "      <td>1.994035e-20</td>\n",
       "    </tr>\n",
       "  </tbody>\n",
       "</table>\n",
       "</div>"
      ],
      "text/plain": [
       "    number_of_features     min_error     max_error     avg_error\n",
       "0                    1  2.571245e-01  3.630284e-01  3.205028e-01\n",
       "1                    2  9.754496e-02  1.959667e-01  1.473565e-01\n",
       "2                    3  4.319395e-02  1.015413e-01  6.316790e-02\n",
       "3                    4  1.850169e-02  4.507921e-02  2.885782e-02\n",
       "4                    5  7.790031e-03  1.797936e-02  8.813843e-03\n",
       "5                    6  3.192803e-03  3.677137e-03  3.580276e-03\n",
       "6                    7  6.633146e-04  6.633146e-04  6.633146e-04\n",
       "7                    8  2.659712e-04  2.659712e-04  2.659712e-04\n",
       "8                    9  9.463050e-05  2.287406e-04  1.094388e-04\n",
       "9                   10  3.241470e-05  7.236702e-05  4.018512e-05\n",
       "10                  11  1.606019e-05  5.390626e-05  2.006966e-05\n",
       "11                  12  6.027447e-06  4.216181e-05  1.015851e-05\n",
       "12                  13  1.145282e-06  2.607501e-06  1.437726e-06\n",
       "13                  14  5.727801e-08  1.145282e-06  3.780342e-07\n",
       "14                  15  3.722816e-08  1.110084e-06  3.645002e-07\n",
       "15                  16  3.722816e-08  1.108939e-06  3.582425e-07\n",
       "16                  17  2.406559e-08  1.108939e-06  1.433424e-07\n",
       "17                  18  1.744031e-08  1.108939e-06  1.386850e-07\n",
       "18                  19  1.248861e-08  4.722254e-08  2.845268e-08\n",
       "19                  20  6.667374e-09  4.038057e-08  2.450532e-08\n",
       "20                  21  6.667374e-09  3.778265e-08  1.881259e-08\n",
       "21                  22  6.667374e-09  2.406559e-08  1.490745e-08\n",
       "22                  23  6.667374e-09  2.406559e-08  1.323601e-08\n",
       "23                  24  5.910322e-10  2.406559e-08  9.287806e-09\n",
       "24                  25  1.994035e-20  1.386245e-08  5.415121e-09\n",
       "25                  26  1.994035e-20  9.873284e-09  4.224315e-09\n",
       "26                  27  1.994035e-20  7.331947e-09  2.009485e-09\n",
       "27                  28  1.994035e-20  3.418187e-09  1.027488e-09\n",
       "28                  29  1.994035e-20  1.740280e-09  4.071591e-10\n",
       "29                  30  1.994035e-20  1.994035e-20  1.994035e-20"
      ]
     },
     "execution_count": 28,
     "metadata": {},
     "output_type": "execute_result"
    }
   ],
   "source": [
    "df_reinforce_class = pd.DataFrame({\n",
    "    \"number_of_features\": all_num_ftrs[0],\n",
    "    \"min_error\": min_errors,\n",
    "    \"max_error\": max_errors,\n",
    "    \"avg_error\": avg_errors\n",
    "})\n",
    "df_reinforce_class"
   ]
  },
  {
   "cell_type": "code",
   "execution_count": 29,
   "metadata": {},
   "outputs": [],
   "source": [
    "df_reinforce_class.to_csv(\"../data/results/REINFORCE_class.csv\", index=False)"
   ]
  },
  {
   "cell_type": "code",
   "execution_count": 30,
   "metadata": {},
   "outputs": [
    {
     "data": {
      "image/png": "[encoded data removed]",
      "text/plain": [
       "<Figure size 1000x750 with 1 Axes>"
      ]
     },
     "metadata": {},
     "output_type": "display_data"
    }
   ],
   "source": [
    "# Plot\n",
    "plt.figure(figsize=(10, 7.5))\n",
    "plt.plot(all_num_ftrs[0], min_errors, marker='o', label='Minimum Error')\n",
    "plt.plot(all_num_ftrs[0], max_errors, marker='o', label='Maximum Error')\n",
    "plt.plot(all_num_ftrs[0], avg_errors, marker='o', label='Average Error')\n",
    "\n",
    "# Add plot details\n",
    "plt.xlabel('Number of Metrics')\n",
    "plt.ylabel('Sammon Error')\n",
    "# plt.title('Model Stability across Retrainings')\n",
    "plt.xticks(all_num_ftrs[0])  # Ensure x-axis ticks are integers from all_num_ftrs\n",
    "plt.legend()\n",
    "plt.grid(True)\n",
    "plt.show()"
   ]
  },
  {
   "cell_type": "code",
   "execution_count": 31,
   "metadata": {},
   "outputs": [
    {
     "name": "stdout",
     "output_type": "stream",
     "text": [
      "Iteration 0, Number of features 1\n"
     ]
    },
    {
     "name": "stderr",
     "output_type": "stream",
     "text": [
      "Training Episodes: 100%|██████████| 1500/1500 [00:01<00:00, 1227.77it/s, LR=0.0001, Return=0.0402] \n"
     ]
    },
    {
     "name": "stdout",
     "output_type": "stream",
     "text": [
      "Iteration 1, Number of features 2\n"
     ]
    },
    {
     "name": "stderr",
     "output_type": "stream",
     "text": [
      "Training Episodes: 100%|██████████| 1000/1000 [00:00<00:00, 1010.76it/s, LR=0.0001, Return=0.369] \n"
     ]
    },
    {
     "name": "stdout",
     "output_type": "stream",
     "text": [
      "Iteration 2, Number of features 4\n"
     ]
    },
    {
     "name": "stderr",
     "output_type": "stream",
     "text": [
      "Training Episodes: 100%|██████████| 833/833 [00:01<00:00, 772.31it/s, LR=0.0001, Return=0.085]  \n"
     ]
    },
    {
     "name": "stdout",
     "output_type": "stream",
     "text": [
      "Iteration 3, Number of features 8\n"
     ]
    },
    {
     "name": "stderr",
     "output_type": "stream",
     "text": [
      "Training Episodes: 100%|██████████| 750/750 [00:01<00:00, 524.77it/s, LR=0.0001, Return=0.321] \n"
     ]
    },
    {
     "name": "stdout",
     "output_type": "stream",
     "text": [
      "waiting...\n",
      "Iteration 0, Number of features 1\n"
     ]
    },
    {
     "name": "stderr",
     "output_type": "stream",
     "text": [
      "Training Episodes: 100%|██████████| 1500/1500 [00:01<00:00, 1284.18it/s, LR=0.0001, Return=-1e-5]  \n"
     ]
    },
    {
     "name": "stdout",
     "output_type": "stream",
     "text": [
      "Iteration 1, Number of features 2\n"
     ]
    },
    {
     "name": "stderr",
     "output_type": "stream",
     "text": [
      "Training Episodes: 100%|██████████| 1000/1000 [00:00<00:00, 1005.35it/s, LR=0.0001, Return=0.109] \n"
     ]
    },
    {
     "name": "stdout",
     "output_type": "stream",
     "text": [
      "Iteration 2, Number of features 4\n"
     ]
    },
    {
     "name": "stderr",
     "output_type": "stream",
     "text": [
      "Training Episodes: 100%|██████████| 833/833 [00:01<00:00, 770.11it/s, LR=0.0001, Return=0.519] \n"
     ]
    },
    {
     "name": "stdout",
     "output_type": "stream",
     "text": [
      "Iteration 3, Number of features 8\n"
     ]
    },
    {
     "name": "stderr",
     "output_type": "stream",
     "text": [
      "Training Episodes: 100%|██████████| 750/750 [00:01<00:00, 527.01it/s, LR=0.0001, Return=0.402] \n"
     ]
    },
    {
     "name": "stdout",
     "output_type": "stream",
     "text": [
      "waiting...\n",
      "Iteration 0, Number of features 1\n"
     ]
    },
    {
     "name": "stderr",
     "output_type": "stream",
     "text": [
      "Training Episodes: 100%|██████████| 1500/1500 [00:01<00:00, 1272.59it/s, LR=0.0001, Return=0.0726] \n"
     ]
    },
    {
     "name": "stdout",
     "output_type": "stream",
     "text": [
      "Iteration 1, Number of features 2\n"
     ]
    },
    {
     "name": "stderr",
     "output_type": "stream",
     "text": [
      "Training Episodes: 100%|██████████| 1000/1000 [00:00<00:00, 1029.02it/s, LR=0.0001, Return=0.154] \n"
     ]
    },
    {
     "name": "stdout",
     "output_type": "stream",
     "text": [
      "Iteration 2, Number of features 4\n"
     ]
    },
    {
     "name": "stderr",
     "output_type": "stream",
     "text": [
      "Training Episodes: 100%|██████████| 833/833 [00:01<00:00, 756.21it/s, LR=0.0001, Return=0.216]  \n"
     ]
    },
    {
     "name": "stdout",
     "output_type": "stream",
     "text": [
      "Iteration 3, Number of features 8\n"
     ]
    },
    {
     "name": "stderr",
     "output_type": "stream",
     "text": [
      "Training Episodes: 100%|██████████| 750/750 [00:01<00:00, 515.55it/s, LR=0.0001, Return=0.328] \n"
     ]
    },
    {
     "name": "stdout",
     "output_type": "stream",
     "text": [
      "waiting...\n",
      "Iteration 0, Number of features 1\n"
     ]
    },
    {
     "name": "stderr",
     "output_type": "stream",
     "text": [
      "Training Episodes: 100%|██████████| 1500/1500 [00:01<00:00, 1287.45it/s, LR=0.0001, Return=0.106]  \n"
     ]
    },
    {
     "name": "stdout",
     "output_type": "stream",
     "text": [
      "Iteration 1, Number of features 2\n"
     ]
    },
    {
     "name": "stderr",
     "output_type": "stream",
     "text": [
      "Training Episodes: 100%|██████████| 1000/1000 [00:00<00:00, 1030.74it/s, LR=0.0001, Return=4.1]   \n"
     ]
    },
    {
     "name": "stdout",
     "output_type": "stream",
     "text": [
      "Iteration 2, Number of features 4\n"
     ]
    },
    {
     "name": "stderr",
     "output_type": "stream",
     "text": [
      "Training Episodes: 100%|██████████| 833/833 [00:01<00:00, 766.42it/s, LR=0.0001, Return=0.154]  \n"
     ]
    },
    {
     "name": "stdout",
     "output_type": "stream",
     "text": [
      "Iteration 3, Number of features 8\n"
     ]
    },
    {
     "name": "stderr",
     "output_type": "stream",
     "text": [
      "Training Episodes: 100%|██████████| 750/750 [00:01<00:00, 523.33it/s, LR=0.0001, Return=6.08]  \n"
     ]
    },
    {
     "name": "stdout",
     "output_type": "stream",
     "text": [
      "waiting...\n",
      "Iteration 0, Number of features 1\n"
     ]
    },
    {
     "name": "stderr",
     "output_type": "stream",
     "text": [
      "Training Episodes: 100%|██████████| 1500/1500 [00:01<00:00, 1217.13it/s, LR=0.0001, Return=0.254]  \n"
     ]
    },
    {
     "name": "stdout",
     "output_type": "stream",
     "text": [
      "Iteration 1, Number of features 2\n"
     ]
    },
    {
     "name": "stderr",
     "output_type": "stream",
     "text": [
      "Training Episodes: 100%|██████████| 1000/1000 [00:00<00:00, 1026.21it/s, LR=0.0001, Return=0.013] \n"
     ]
    },
    {
     "name": "stdout",
     "output_type": "stream",
     "text": [
      "Iteration 2, Number of features 4\n"
     ]
    },
    {
     "name": "stderr",
     "output_type": "stream",
     "text": [
      "Training Episodes: 100%|██████████| 833/833 [00:01<00:00, 772.46it/s, LR=0.0001, Return=0.345] \n"
     ]
    },
    {
     "name": "stdout",
     "output_type": "stream",
     "text": [
      "Iteration 3, Number of features 8\n"
     ]
    },
    {
     "name": "stderr",
     "output_type": "stream",
     "text": [
      "Training Episodes: 100%|██████████| 750/750 [00:01<00:00, 517.36it/s, LR=0.0001, Return=0.39] \n"
     ]
    },
    {
     "name": "stdout",
     "output_type": "stream",
     "text": [
      "waiting...\n",
      "Iteration 0, Number of features 1\n"
     ]
    },
    {
     "name": "stderr",
     "output_type": "stream",
     "text": [
      "Training Episodes: 100%|██████████| 1500/1500 [00:01<00:00, 1148.87it/s, LR=0.0001, Return=0.109]  \n"
     ]
    },
    {
     "name": "stdout",
     "output_type": "stream",
     "text": [
      "Iteration 1, Number of features 2\n"
     ]
    },
    {
     "name": "stderr",
     "output_type": "stream",
     "text": [
      "Training Episodes: 100%|██████████| 1000/1000 [00:01<00:00, 971.01it/s, LR=0.0001, Return=0.121]  \n"
     ]
    },
    {
     "name": "stdout",
     "output_type": "stream",
     "text": [
      "Iteration 2, Number of features 4\n"
     ]
    },
    {
     "name": "stderr",
     "output_type": "stream",
     "text": [
      "Training Episodes: 100%|██████████| 833/833 [00:01<00:00, 720.61it/s, LR=0.0001, Return=0.51]   \n"
     ]
    },
    {
     "name": "stdout",
     "output_type": "stream",
     "text": [
      "Iteration 3, Number of features 8\n"
     ]
    },
    {
     "name": "stderr",
     "output_type": "stream",
     "text": [
      "Training Episodes: 100%|██████████| 750/750 [00:01<00:00, 534.25it/s, LR=0.0001, Return=4.23] \n"
     ]
    },
    {
     "name": "stdout",
     "output_type": "stream",
     "text": [
      "waiting...\n",
      "Iteration 0, Number of features 1\n"
     ]
    },
    {
     "name": "stderr",
     "output_type": "stream",
     "text": [
      "Training Episodes: 100%|██████████| 1500/1500 [00:01<00:00, 1299.83it/s, LR=0.0001, Return=0.0445] \n"
     ]
    },
    {
     "name": "stdout",
     "output_type": "stream",
     "text": [
      "Iteration 1, Number of features 2\n"
     ]
    },
    {
     "name": "stderr",
     "output_type": "stream",
     "text": [
      "Training Episodes: 100%|██████████| 1000/1000 [00:00<00:00, 1030.89it/s, LR=0.0001, Return=3.86]  \n"
     ]
    },
    {
     "name": "stdout",
     "output_type": "stream",
     "text": [
      "Iteration 2, Number of features 4\n"
     ]
    },
    {
     "name": "stderr",
     "output_type": "stream",
     "text": [
      "Training Episodes: 100%|██████████| 833/833 [00:01<00:00, 768.24it/s, LR=0.0001, Return=0.189] \n"
     ]
    },
    {
     "name": "stdout",
     "output_type": "stream",
     "text": [
      "Iteration 3, Number of features 8\n"
     ]
    },
    {
     "name": "stderr",
     "output_type": "stream",
     "text": [
      "Training Episodes: 100%|██████████| 750/750 [00:01<00:00, 533.86it/s, LR=0.0001, Return=4.52]  \n"
     ]
    },
    {
     "name": "stdout",
     "output_type": "stream",
     "text": [
      "waiting...\n",
      "Iteration 0, Number of features 1\n"
     ]
    },
    {
     "name": "stderr",
     "output_type": "stream",
     "text": [
      "Training Episodes: 100%|██████████| 1500/1500 [00:01<00:00, 1247.92it/s, LR=0.0001, Return=0.154]  \n"
     ]
    },
    {
     "name": "stdout",
     "output_type": "stream",
     "text": [
      "Iteration 1, Number of features 2\n"
     ]
    },
    {
     "name": "stderr",
     "output_type": "stream",
     "text": [
      "Training Episodes: 100%|██████████| 1000/1000 [00:01<00:00, 983.71it/s, LR=0.0001, Return=4.11]   \n"
     ]
    },
    {
     "name": "stdout",
     "output_type": "stream",
     "text": [
      "Iteration 2, Number of features 4\n"
     ]
    },
    {
     "name": "stderr",
     "output_type": "stream",
     "text": [
      "Training Episodes: 100%|██████████| 833/833 [00:01<00:00, 756.12it/s, LR=0.0001, Return=0.263] \n"
     ]
    },
    {
     "name": "stdout",
     "output_type": "stream",
     "text": [
      "Iteration 3, Number of features 8\n"
     ]
    },
    {
     "name": "stderr",
     "output_type": "stream",
     "text": [
      "Training Episodes: 100%|██████████| 750/750 [00:01<00:00, 523.07it/s, LR=0.0001, Return=6.09]  \n"
     ]
    },
    {
     "name": "stdout",
     "output_type": "stream",
     "text": [
      "waiting...\n",
      "Iteration 0, Number of features 1\n"
     ]
    },
    {
     "name": "stderr",
     "output_type": "stream",
     "text": [
      "Training Episodes: 100%|██████████| 1500/1500 [00:01<00:00, 1252.41it/s, LR=0.0001, Return=0.109]  \n"
     ]
    },
    {
     "name": "stdout",
     "output_type": "stream",
     "text": [
      "Iteration 1, Number of features 2\n"
     ]
    },
    {
     "name": "stderr",
     "output_type": "stream",
     "text": [
      "Training Episodes: 100%|██████████| 1000/1000 [00:00<00:00, 1008.57it/s, LR=0.0001, Return=0.172] \n"
     ]
    },
    {
     "name": "stdout",
     "output_type": "stream",
     "text": [
      "Iteration 2, Number of features 4\n"
     ]
    },
    {
     "name": "stderr",
     "output_type": "stream",
     "text": [
      "Training Episodes: 100%|██████████| 833/833 [00:01<00:00, 760.30it/s, LR=0.0001, Return=0.178]  \n"
     ]
    },
    {
     "name": "stdout",
     "output_type": "stream",
     "text": [
      "Iteration 3, Number of features 8\n"
     ]
    },
    {
     "name": "stderr",
     "output_type": "stream",
     "text": [
      "Training Episodes: 100%|██████████| 750/750 [00:01<00:00, 515.65it/s, LR=0.0001, Return=0.391]\n"
     ]
    },
    {
     "name": "stdout",
     "output_type": "stream",
     "text": [
      "waiting...\n",
      "Iteration 0, Number of features 1\n"
     ]
    },
    {
     "name": "stderr",
     "output_type": "stream",
     "text": [
      "Training Episodes: 100%|██████████| 1500/1500 [00:01<00:00, 1286.69it/s, LR=0.0001, Return=0.0143] \n"
     ]
    },
    {
     "name": "stdout",
     "output_type": "stream",
     "text": [
      "Iteration 1, Number of features 2\n"
     ]
    },
    {
     "name": "stderr",
     "output_type": "stream",
     "text": [
      "Training Episodes: 100%|██████████| 1000/1000 [00:01<00:00, 948.89it/s, LR=0.0001, Return=0.28]   \n"
     ]
    },
    {
     "name": "stdout",
     "output_type": "stream",
     "text": [
      "Iteration 2, Number of features 4\n"
     ]
    },
    {
     "name": "stderr",
     "output_type": "stream",
     "text": [
      "Training Episodes: 100%|██████████| 833/833 [00:01<00:00, 733.22it/s, LR=0.0001, Return=0.336]  \n"
     ]
    },
    {
     "name": "stdout",
     "output_type": "stream",
     "text": [
      "Iteration 3, Number of features 8\n"
     ]
    },
    {
     "name": "stderr",
     "output_type": "stream",
     "text": [
      "Training Episodes: 100%|██████████| 750/750 [00:01<00:00, 473.02it/s, LR=0.0001, Return=0.552] \n"
     ]
    },
    {
     "name": "stdout",
     "output_type": "stream",
     "text": [
      "waiting...\n"
     ]
    }
   ],
   "source": [
    "all_errors_m, all_num_ftrs_m, all_selected_features_m = test_stability(X_train_method, X_test_method, data_test_method, num_iters=10)"
   ]
  },
  {
   "cell_type": "code",
   "execution_count": 33,
   "metadata": {},
   "outputs": [
    {
     "name": "stdout",
     "output_type": "stream",
     "text": [
      "['TLOC', 'LOC', 'TLLOC', 'TNOS', 'NOS', 'LLOC', 'CLOC', 'WMC', 'TNM', 'NM', 'RFC', 'TNLM', 'NLM', 'NOC', 'NOI', 'NOA', 'LCOM5', 'TNLA', 'NLE', 'NOP', 'CBO', 'NII', 'TNA', 'DIT', 'NOD', 'NL', 'CBOI', 'NA', 'CD', 'NLA']\n",
      "[0.25777669026353045, 0.09754496447066958, 0.043274685773930927, 0.026608856429451974, 0.017979363121562234, 0.0036771371790677654, 0.000663314552224087, 0.0002659712453194879, 9.463050136472389e-05, 3.2414699660032376e-05, 1.6060188221672594e-05, 6.027446646989955e-06, 1.1452818178649029e-06, 1.1240297545258297e-06, 1.0820920866044532e-06, 1.048956335862148e-06, 2.406558743572561e-08, 2.406558743572561e-08, 2.406558743572561e-08, 1.7742196274142174e-08, 6.667373686160637e-09, 6.667373686160637e-09, 6.667373686160637e-09, 1.7402795168636465e-09, 1.99403504986271e-20, 1.99403504986271e-20, 1.99403504986271e-20, 1.99403504986271e-20, 1.99403504986271e-20, 1.99403504986271e-20]\n"
     ]
    }
   ],
   "source": [
    "print(all_selected_features[0][-1])\n",
    "print([float(error) for error in all_errors[0]])"
   ]
  },
  {
   "cell_type": "code",
   "execution_count": 34,
   "metadata": {},
   "outputs": [
    {
     "name": "stdout",
     "output_type": "stream",
     "text": [
      "['HEFF', 'HVOL', 'MI', 'HCPL', 'HTRP', 'TLOC', 'LOC', 'TLLOC', 'LLOC', 'TCLOC', 'CLOC', 'HPL', 'HPV', 'NOS', 'DLOC', 'TNOS', 'NUMPAR', 'TCD', 'HDIF', 'McCC', 'NOI', 'NLE', 'HNDB', 'NII', 'CD', 'NL']\n",
      "[0.011813886698870594, 0.009016885786702365, 0.0019596797875874477, 0.0017440825400036667, 0.0017211518924381128, 0.0008596289643286363, 0.0003956875744888608, 0.00023038280405010263, 0.00015375953289815947, 7.57908739482448e-05, 2.994428469888183e-05, 2.538607389058575e-05, 2.3636988791089767e-05, 1.717158682412857e-05, 2.1426329486605228e-06, 5.155867740509122e-07, 7.214705722190872e-08, 7.214705722190872e-08, 7.071032594777901e-08, 1.412502739585417e-10, 4.170330986079913e-18, 4.170330986079913e-18, 1.3786943288452742e-20, 1.3786943288452742e-20, 1.3786943288452742e-20, 1.3786943288452742e-20]\n"
     ]
    }
   ],
   "source": [
    "print(all_selected_features_m[0][-1])\n",
    "print([float(error) for error in all_errors_m[0]])"
   ]
  },
  {
   "cell_type": "code",
   "execution_count": 35,
   "metadata": {},
   "outputs": [
    {
     "data": {
      "text/plain": [
       "(array([1.18138867e-02, 9.01688579e-03, 1.95967979e-03, 1.74408254e-03,\n",
       "        8.77128985e-04, 4.08456459e-04, 2.40667091e-04, 2.30382804e-04,\n",
       "        1.53759533e-04, 7.57908739e-05, 2.99442847e-05, 2.48426575e-05,\n",
       "        7.00018890e-06, 2.72230053e-06, 8.38472757e-07, 5.15586774e-07,\n",
       "        7.21470572e-08, 3.00812035e-10, 9.43547399e-11, 4.17033099e-18,\n",
       "        4.17033099e-18, 1.37869433e-20, 1.37869433e-20, 1.37869433e-20,\n",
       "        1.37869433e-20, 1.37869433e-20]),\n",
       " array([1.18138867e-02, 9.01688579e-03, 1.95967979e-03, 1.92779415e-03,\n",
       "        1.72115189e-03, 8.63930090e-04, 5.62495463e-04, 2.30382804e-04,\n",
       "        2.19342626e-04, 1.49504584e-04, 1.31399976e-04, 1.28218164e-04,\n",
       "        5.70247389e-05, 4.94752427e-05, 1.21389888e-05, 6.77832352e-07,\n",
       "        5.15586217e-07, 5.11966894e-07, 5.11966894e-07, 5.11966894e-07,\n",
       "        5.11966894e-07, 4.04821392e-07, 4.04821392e-07, 4.01281769e-07,\n",
       "        9.43296131e-11, 1.37869433e-20]),\n",
       " array([1.18138867e-02, 9.01688579e-03, 1.95967979e-03, 1.76245370e-03,\n",
       "        1.21604597e-03, 7.25997663e-04, 4.13495959e-04, 2.30382804e-04,\n",
       "        1.66876152e-04, 1.37852030e-04, 8.41885918e-05, 4.99867364e-05,\n",
       "        3.12127521e-05, 1.59084804e-05, 3.60232291e-06, 5.31811332e-07,\n",
       "        3.71694452e-07, 2.88601851e-07, 1.53127696e-07, 9.85930030e-08,\n",
       "        5.80564710e-08, 4.05404652e-08, 4.05404652e-08, 4.01582547e-08,\n",
       "        9.43296174e-12, 1.37869433e-20]))"
      ]
     },
     "execution_count": 35,
     "metadata": {},
     "output_type": "execute_result"
    }
   ],
   "source": [
    "min_errors = np.min(all_errors_m, axis=0)\n",
    "max_errors = np.max(all_errors_m, axis=0)\n",
    "avg_errors = np.mean(all_errors_m, axis=0)\n",
    "min_errors, max_errors, avg_errors"
   ]
  },
  {
   "cell_type": "code",
   "execution_count": 36,
   "metadata": {},
   "outputs": [
    {
     "data": {
      "text/html": [
       "<div>\n",
       "<style scoped>\n",
       "    .dataframe tbody tr th:only-of-type {\n",
       "        vertical-align: middle;\n",
       "    }\n",
       "\n",
       "    .dataframe tbody tr th {\n",
       "        vertical-align: top;\n",
       "    }\n",
       "\n",
       "    .dataframe thead th {\n",
       "        text-align: right;\n",
       "    }\n",
       "</style>\n",
       "<table border=\"1\" class=\"dataframe\">\n",
       "  <thead>\n",
       "    <tr style=\"text-align: right;\">\n",
       "      <th></th>\n",
       "      <th>number_of_features</th>\n",
       "      <th>min_error</th>\n",
       "      <th>max_error</th>\n",
       "      <th>avg_error</th>\n",
       "    </tr>\n",
       "  </thead>\n",
       "  <tbody>\n",
       "    <tr>\n",
       "      <th>0</th>\n",
       "      <td>1</td>\n",
       "      <td>1.181389e-02</td>\n",
       "      <td>1.181389e-02</td>\n",
       "      <td>1.181389e-02</td>\n",
       "    </tr>\n",
       "    <tr>\n",
       "      <th>1</th>\n",
       "      <td>2</td>\n",
       "      <td>9.016886e-03</td>\n",
       "      <td>9.016886e-03</td>\n",
       "      <td>9.016886e-03</td>\n",
       "    </tr>\n",
       "    <tr>\n",
       "      <th>2</th>\n",
       "      <td>3</td>\n",
       "      <td>1.959680e-03</td>\n",
       "      <td>1.959680e-03</td>\n",
       "      <td>1.959680e-03</td>\n",
       "    </tr>\n",
       "    <tr>\n",
       "      <th>3</th>\n",
       "      <td>4</td>\n",
       "      <td>1.744083e-03</td>\n",
       "      <td>1.927794e-03</td>\n",
       "      <td>1.762454e-03</td>\n",
       "    </tr>\n",
       "    <tr>\n",
       "      <th>4</th>\n",
       "      <td>5</td>\n",
       "      <td>8.771290e-04</td>\n",
       "      <td>1.721152e-03</td>\n",
       "      <td>1.216046e-03</td>\n",
       "    </tr>\n",
       "    <tr>\n",
       "      <th>5</th>\n",
       "      <td>6</td>\n",
       "      <td>4.084565e-04</td>\n",
       "      <td>8.639301e-04</td>\n",
       "      <td>7.259977e-04</td>\n",
       "    </tr>\n",
       "    <tr>\n",
       "      <th>6</th>\n",
       "      <td>7</td>\n",
       "      <td>2.406671e-04</td>\n",
       "      <td>5.624955e-04</td>\n",
       "      <td>4.134960e-04</td>\n",
       "    </tr>\n",
       "    <tr>\n",
       "      <th>7</th>\n",
       "      <td>8</td>\n",
       "      <td>2.303828e-04</td>\n",
       "      <td>2.303828e-04</td>\n",
       "      <td>2.303828e-04</td>\n",
       "    </tr>\n",
       "    <tr>\n",
       "      <th>8</th>\n",
       "      <td>9</td>\n",
       "      <td>1.537595e-04</td>\n",
       "      <td>2.193426e-04</td>\n",
       "      <td>1.668762e-04</td>\n",
       "    </tr>\n",
       "    <tr>\n",
       "      <th>9</th>\n",
       "      <td>10</td>\n",
       "      <td>7.579087e-05</td>\n",
       "      <td>1.495046e-04</td>\n",
       "      <td>1.378520e-04</td>\n",
       "    </tr>\n",
       "    <tr>\n",
       "      <th>10</th>\n",
       "      <td>11</td>\n",
       "      <td>2.994428e-05</td>\n",
       "      <td>1.314000e-04</td>\n",
       "      <td>8.418859e-05</td>\n",
       "    </tr>\n",
       "    <tr>\n",
       "      <th>11</th>\n",
       "      <td>12</td>\n",
       "      <td>2.484266e-05</td>\n",
       "      <td>1.282182e-04</td>\n",
       "      <td>4.998674e-05</td>\n",
       "    </tr>\n",
       "    <tr>\n",
       "      <th>12</th>\n",
       "      <td>13</td>\n",
       "      <td>7.000189e-06</td>\n",
       "      <td>5.702474e-05</td>\n",
       "      <td>3.121275e-05</td>\n",
       "    </tr>\n",
       "    <tr>\n",
       "      <th>13</th>\n",
       "      <td>14</td>\n",
       "      <td>2.722301e-06</td>\n",
       "      <td>4.947524e-05</td>\n",
       "      <td>1.590848e-05</td>\n",
       "    </tr>\n",
       "    <tr>\n",
       "      <th>14</th>\n",
       "      <td>15</td>\n",
       "      <td>8.384728e-07</td>\n",
       "      <td>1.213899e-05</td>\n",
       "      <td>3.602323e-06</td>\n",
       "    </tr>\n",
       "    <tr>\n",
       "      <th>15</th>\n",
       "      <td>16</td>\n",
       "      <td>5.155868e-07</td>\n",
       "      <td>6.778324e-07</td>\n",
       "      <td>5.318113e-07</td>\n",
       "    </tr>\n",
       "    <tr>\n",
       "      <th>16</th>\n",
       "      <td>17</td>\n",
       "      <td>7.214706e-08</td>\n",
       "      <td>5.155862e-07</td>\n",
       "      <td>3.716945e-07</td>\n",
       "    </tr>\n",
       "    <tr>\n",
       "      <th>17</th>\n",
       "      <td>18</td>\n",
       "      <td>3.008120e-10</td>\n",
       "      <td>5.119669e-07</td>\n",
       "      <td>2.886019e-07</td>\n",
       "    </tr>\n",
       "    <tr>\n",
       "      <th>18</th>\n",
       "      <td>19</td>\n",
       "      <td>9.435474e-11</td>\n",
       "      <td>5.119669e-07</td>\n",
       "      <td>1.531277e-07</td>\n",
       "    </tr>\n",
       "    <tr>\n",
       "      <th>19</th>\n",
       "      <td>20</td>\n",
       "      <td>4.170331e-18</td>\n",
       "      <td>5.119669e-07</td>\n",
       "      <td>9.859300e-08</td>\n",
       "    </tr>\n",
       "    <tr>\n",
       "      <th>20</th>\n",
       "      <td>21</td>\n",
       "      <td>4.170331e-18</td>\n",
       "      <td>5.119669e-07</td>\n",
       "      <td>5.805647e-08</td>\n",
       "    </tr>\n",
       "    <tr>\n",
       "      <th>21</th>\n",
       "      <td>22</td>\n",
       "      <td>1.378694e-20</td>\n",
       "      <td>4.048214e-07</td>\n",
       "      <td>4.054047e-08</td>\n",
       "    </tr>\n",
       "    <tr>\n",
       "      <th>22</th>\n",
       "      <td>23</td>\n",
       "      <td>1.378694e-20</td>\n",
       "      <td>4.048214e-07</td>\n",
       "      <td>4.054047e-08</td>\n",
       "    </tr>\n",
       "    <tr>\n",
       "      <th>23</th>\n",
       "      <td>24</td>\n",
       "      <td>1.378694e-20</td>\n",
       "      <td>4.012818e-07</td>\n",
       "      <td>4.015825e-08</td>\n",
       "    </tr>\n",
       "    <tr>\n",
       "      <th>24</th>\n",
       "      <td>25</td>\n",
       "      <td>1.378694e-20</td>\n",
       "      <td>9.432961e-11</td>\n",
       "      <td>9.432962e-12</td>\n",
       "    </tr>\n",
       "    <tr>\n",
       "      <th>25</th>\n",
       "      <td>26</td>\n",
       "      <td>1.378694e-20</td>\n",
       "      <td>1.378694e-20</td>\n",
       "      <td>1.378694e-20</td>\n",
       "    </tr>\n",
       "  </tbody>\n",
       "</table>\n",
       "</div>"
      ],
      "text/plain": [
       "    number_of_features     min_error     max_error     avg_error\n",
       "0                    1  1.181389e-02  1.181389e-02  1.181389e-02\n",
       "1                    2  9.016886e-03  9.016886e-03  9.016886e-03\n",
       "2                    3  1.959680e-03  1.959680e-03  1.959680e-03\n",
       "3                    4  1.744083e-03  1.927794e-03  1.762454e-03\n",
       "4                    5  8.771290e-04  1.721152e-03  1.216046e-03\n",
       "5                    6  4.084565e-04  8.639301e-04  7.259977e-04\n",
       "6                    7  2.406671e-04  5.624955e-04  4.134960e-04\n",
       "7                    8  2.303828e-04  2.303828e-04  2.303828e-04\n",
       "8                    9  1.537595e-04  2.193426e-04  1.668762e-04\n",
       "9                   10  7.579087e-05  1.495046e-04  1.378520e-04\n",
       "10                  11  2.994428e-05  1.314000e-04  8.418859e-05\n",
       "11                  12  2.484266e-05  1.282182e-04  4.998674e-05\n",
       "12                  13  7.000189e-06  5.702474e-05  3.121275e-05\n",
       "13                  14  2.722301e-06  4.947524e-05  1.590848e-05\n",
       "14                  15  8.384728e-07  1.213899e-05  3.602323e-06\n",
       "15                  16  5.155868e-07  6.778324e-07  5.318113e-07\n",
       "16                  17  7.214706e-08  5.155862e-07  3.716945e-07\n",
       "17                  18  3.008120e-10  5.119669e-07  2.886019e-07\n",
       "18                  19  9.435474e-11  5.119669e-07  1.531277e-07\n",
       "19                  20  4.170331e-18  5.119669e-07  9.859300e-08\n",
       "20                  21  4.170331e-18  5.119669e-07  5.805647e-08\n",
       "21                  22  1.378694e-20  4.048214e-07  4.054047e-08\n",
       "22                  23  1.378694e-20  4.048214e-07  4.054047e-08\n",
       "23                  24  1.378694e-20  4.012818e-07  4.015825e-08\n",
       "24                  25  1.378694e-20  9.432961e-11  9.432962e-12\n",
       "25                  26  1.378694e-20  1.378694e-20  1.378694e-20"
      ]
     },
     "execution_count": 36,
     "metadata": {},
     "output_type": "execute_result"
    }
   ],
   "source": [
    "df_reinforce_method = pd.DataFrame({\n",
    "    \"number_of_features\": all_num_ftrs_m[0],\n",
    "    \"min_error\": min_errors,\n",
    "    \"max_error\": max_errors,\n",
    "    \"avg_error\": avg_errors\n",
    "})\n",
    "df_reinforce_method"
   ]
  },
  {
   "cell_type": "code",
   "execution_count": 37,
   "metadata": {},
   "outputs": [],
   "source": [
    "df_reinforce_method.to_csv(\"../data/results/REINFORCE_method.csv\", index=False)"
   ]
  },
  {
   "cell_type": "code",
   "execution_count": 38,
   "metadata": {},
   "outputs": [
    {
     "data": {
      "image/png": "[encoded data removed]",
      "text/plain": [
       "<Figure size 1000x750 with 1 Axes>"
      ]
     },
     "metadata": {},
     "output_type": "display_data"
    }
   ],
   "source": [
    "# Plot\n",
    "plt.figure(figsize=(10, 7.5))\n",
    "plt.plot(all_num_ftrs_m[0], min_errors, marker='o', label='Minimum Error')\n",
    "plt.plot(all_num_ftrs_m[0], max_errors, marker='o', label='Maximum Error')\n",
    "plt.plot(all_num_ftrs_m[0], avg_errors, marker='o', label='Average Error')\n",
    "\n",
    "# Add plot details\n",
    "plt.xlabel('Number of Metrics')\n",
    "plt.ylabel('Sammon Error')\n",
    "# plt.title('Model Stability across Retrainings')\n",
    "plt.xticks(all_num_ftrs_m[0])  # Ensure x-axis ticks are integers from all_num_ftrs\n",
    "plt.legend()\n",
    "plt.grid(True)\n",
    "plt.show()"
   ]
  },
  {
   "cell_type": "code",
   "execution_count": null,
   "metadata": {},
   "outputs": [],
   "source": []
  }
 ],
 "metadata": {
  "kernelspec": {
   "display_name": "inno-em",
   "language": "python",
   "name": "python3"
  },
  "language_info": {
   "codemirror_mode": {
    "name": "ipython",
    "version": 3
   },
   "file_extension": ".py",
   "mimetype": "text/x-python",
   "name": "python",
   "nbconvert_exporter": "python",
   "pygments_lexer": "ipython3",
   "version": "3.10.14"
  }
 },
 "nbformat": 4,
 "nbformat_minor": 2
}
