{
 "cells": [
  {
   "cell_type": "code",
   "execution_count": 1,
   "metadata": {},
   "outputs": [],
   "source": [
    "import numpy as np\n",
    "import pandas as pd\n",
    "import matplotlib.pyplot as plt\n",
    "\n",
    "import torch\n",
    "\n",
    "import sys\n",
    "\n",
    "sys.path.append(\"../\")\n",
    "\n",
    "from src.envs import RLFSEnvSparse\n",
    "from src.rl.REINFORCE_baseline import REINFORCEWithBaselineAgent\n",
    "from src.errors import sammon_error"
   ]
  },
  {
   "cell_type": "code",
   "execution_count": 2,
   "metadata": {},
   "outputs": [],
   "source": [
    "INF_LOOP_CNT = 5"
   ]
  },
  {
   "cell_type": "code",
   "execution_count": 3,
   "metadata": {},
   "outputs": [],
   "source": [
    "def get_data_frames(train_path, test_path):\n",
    "    data_train = pd.read_csv(train_path, sep=\",\")\n",
    "    data_test = pd.read_csv(test_path, sep=\",\")\n",
    "\n",
    "    return data_train, data_test\n",
    "\n",
    "\n",
    "def get_data_train_test(data_train, data_test):\n",
    "    X_train = data_train.drop(columns=[\"repository\"], inplace=False)\n",
    "    X_train = X_train.to_numpy()\n",
    "\n",
    "    X_test = data_test.drop(columns=[\"repository\"], inplace=False)\n",
    "    X_test = X_test.to_numpy()\n",
    "\n",
    "    return X_train, X_test\n",
    "\n",
    "def powers_of_two_less_than(n):\n",
    "    max_exponent = int(np.log2(n))  # Find the largest exponent such that 2^k < N\n",
    "    return 2 ** np.arange(max_exponent+1)"
   ]
  },
  {
   "cell_type": "code",
   "execution_count": 4,
   "metadata": {},
   "outputs": [],
   "source": [
    "def train_reinforce_agent(X_train, agent, device, make_plots=False):\n",
    "    state_space = X_train.shape[1]\n",
    "    action_space = X_train.shape[1]\n",
    "    for i, num_features in enumerate(powers_of_two_less_than(state_space//2)):\n",
    "            env = RLFSEnvSparse(\n",
    "                state_size=state_space, data=X_train, max_features=num_features\n",
    "            )\n",
    "            print(f\"Iteration {i}, Number of features {num_features}\")\n",
    "            episode_returns = agent.train(\n",
    "                env=env,\n",
    "                num_episodes=500 + 1000 // (i+1),\n",
    "                max_steps=num_features,\n",
    "            )\n",
    "            # print(\"Statistics:\", \"mean\", agent.reward_mean, \"std\", agent.reward_variance/agent.running_count)\n",
    "            # torch.save(agent.policy.state_dict(), \"models/REINFORCE/policy_weights.pth\")\n",
    "            if make_plots:\n",
    "                plt.plot(episode_returns)\n",
    "                plt.show()"
   ]
  },
  {
   "cell_type": "code",
   "execution_count": 5,
   "metadata": {},
   "outputs": [],
   "source": [
    "def test_agent(X_test, data_test, agent: REINFORCEWithBaselineAgent, verbose=True):\n",
    "    state_space = X_test.shape[1]\n",
    "    action_space = X_test.shape[1]\n",
    "    print(state_space)\n",
    "    env = RLFSEnvSparse(state_size=state_space, data=X_test, max_features=state_space)\n",
    "    errors = []\n",
    "    num_ftrs = []\n",
    "    selected_features = []\n",
    "    if verbose:\n",
    "        print(\"waiting...\")\n",
    "    for n in range(1, state_space + 1):\n",
    "        state = env.reset()\n",
    "        # errors.append(sammon_error(X_test, state))\n",
    "        state_cnt = 0  # int(np.sum(state))\n",
    "        done = False\n",
    "        # if verbose:\n",
    "        #     print(f\"n={n}\")\n",
    "        inf_loop_cnt = INF_LOOP_CNT\n",
    "        action_sequence = []\n",
    "        while state_cnt < n and not done:\n",
    "            if inf_loop_cnt > 0:\n",
    "                action, action_prob = agent.select_action_deterministic(state)\n",
    "            else:\n",
    "                # print(\"+\")\n",
    "                action, action_prob = agent.select_action(state)\n",
    "                # print(np.exp(action_prob.detach().numpy()))\n",
    "\n",
    "            next_state, _, done, _ = env.step(action)\n",
    "\n",
    "            # if state changed\n",
    "            if int(np.sum(next_state)) > state_cnt:\n",
    "                # print(state_cnt)\n",
    "                action_sequence.append(action)\n",
    "                inf_loop_cnt = INF_LOOP_CNT\n",
    "                state_cnt = int(np.sum(next_state))\n",
    "            else:\n",
    "                inf_loop_cnt -= 1\n",
    "                continue\n",
    "\n",
    "            state = next_state\n",
    "        # print(np.sum(state))\n",
    "        error = sammon_error(X_test, state)\n",
    "        errors.append(error)\n",
    "        num_ftrs.append(n)\n",
    "        selected_features.append(\n",
    "            [\n",
    "                data_test.drop(columns=[\"repository\"]).columns[action]\n",
    "                for action in action_sequence\n",
    "            ]\n",
    "        )\n",
    "\n",
    "    return errors, num_ftrs, selected_features"
   ]
  },
  {
   "cell_type": "code",
   "execution_count": 6,
   "metadata": {},
   "outputs": [],
   "source": [
    "train_path_class = \"../data/data_class_train.csv\"\n",
    "test_path_class = \"../data/data_class.csv\"\n",
    "train_path_method = \"../data/data_method_train.csv\"\n",
    "test_path_method = \"../data/data_method.csv\""
   ]
  },
  {
   "cell_type": "code",
   "execution_count": 7,
   "metadata": {},
   "outputs": [],
   "source": [
    "data_train_method, data_test_method = get_data_frames(train_path_method, test_path_method)\n",
    "X_train_method, X_test_method = get_data_train_test(data_train_method, data_test_method)\n",
    "state_space_method = X_train_method.shape[1]\n",
    "action_space_method = X_train_method.shape[1]\n",
    "\n",
    "data_train_class, data_test_class = get_data_frames(train_path_class, test_path_class)\n",
    "X_train_class, X_test_class = get_data_train_test(data_train_class, data_test_class)\n",
    "state_space_class = X_train_class.shape[1]\n",
    "action_space_class = X_train_class.shape[1]"
   ]
  },
  {
   "cell_type": "code",
   "execution_count": 8,
   "metadata": {},
   "outputs": [
    {
     "data": {
      "text/plain": [
       "((53, 27), (106, 27))"
      ]
     },
     "execution_count": 8,
     "metadata": {},
     "output_type": "execute_result"
    }
   ],
   "source": [
    "data_train_method.shape, data_test_method.shape"
   ]
  },
  {
   "cell_type": "code",
   "execution_count": 9,
   "metadata": {},
   "outputs": [
    {
     "data": {
      "text/plain": [
       "((64, 31), (128, 31))"
      ]
     },
     "execution_count": 9,
     "metadata": {},
     "output_type": "execute_result"
    }
   ],
   "source": [
    "data_train_class.shape, data_test_class.shape"
   ]
  },
  {
   "cell_type": "code",
   "execution_count": 10,
   "metadata": {},
   "outputs": [],
   "source": [
    "device = torch.device(\"cuda\" if torch.cuda.is_available() else \"cpu\")\n",
    "agent = REINFORCEWithBaselineAgent(state_space_method, action_space_method, gamma=1, lr=0.0001)"
   ]
  },
  {
   "cell_type": "code",
   "execution_count": 11,
   "metadata": {},
   "outputs": [],
   "source": [
    "def run_train_test(X_train, X_test, data_test, agent, device):\n",
    "    train_reinforce_agent(X_train, agent, device)\n",
    "    return test_agent(X_test, data_test, agent)"
   ]
  },
  {
   "cell_type": "code",
   "execution_count": 12,
   "metadata": {},
   "outputs": [],
   "source": [
    "device = torch.device(\"cuda\" if torch.cuda.is_available() else \"cpu\")"
   ]
  },
  {
   "cell_type": "code",
   "execution_count": 13,
   "metadata": {},
   "outputs": [
    {
     "name": "stdout",
     "output_type": "stream",
     "text": [
      "Iteration 0, Number of features 1\n"
     ]
    },
    {
     "name": "stderr",
     "output_type": "stream",
     "text": [
      "Training Episodes:   0%|          | 0/1500 [00:00<?, ?it/s]/Users/yy7/Repos/EM-Team.4-Later/notebooks/../src/rl/REINFORCE_baseline.py:55: UserWarning: Creating a tensor from a list of numpy.ndarrays is extremely slow. Please consider converting the list to a single numpy.ndarray with numpy.array() before converting to a tensor. (Triggered internally at /Users/runner/work/pytorch/pytorch/pytorch/torch/csrc/utils/tensor_new.cpp:281.)\n",
      "  states_tensor = torch.tensor(self.states, dtype=torch.float32)\n",
      "Training Episodes: 100%|██████████| 1500/1500 [00:01<00:00, 1047.53it/s, Return=3.85]  \n"
     ]
    },
    {
     "name": "stdout",
     "output_type": "stream",
     "text": [
      "Iteration 1, Number of features 2\n"
     ]
    },
    {
     "name": "stderr",
     "output_type": "stream",
     "text": [
      "Training Episodes: 100%|██████████| 1000/1000 [00:01<00:00, 973.57it/s, Return=5.26]\n"
     ]
    },
    {
     "name": "stdout",
     "output_type": "stream",
     "text": [
      "Iteration 2, Number of features 4\n"
     ]
    },
    {
     "name": "stderr",
     "output_type": "stream",
     "text": [
      "Training Episodes: 100%|██████████| 833/833 [00:01<00:00, 756.39it/s, Return=6.24]\n"
     ]
    },
    {
     "name": "stdout",
     "output_type": "stream",
     "text": [
      "Iteration 3, Number of features 8\n"
     ]
    },
    {
     "name": "stderr",
     "output_type": "stream",
     "text": [
      "Training Episodes: 100%|██████████| 750/750 [00:01<00:00, 540.33it/s, Return=7.75]\n"
     ]
    },
    {
     "name": "stdout",
     "output_type": "stream",
     "text": [
      "26\n",
      "waiting...\n",
      "[['HEFF'], ['HEFF', 'MI'], ['HEFF', 'MI', 'LOC'], ['HEFF', 'MI', 'LOC', 'HVOL'], ['HEFF', 'MI', 'LOC', 'HVOL', 'TLOC'], ['HEFF', 'MI', 'LOC', 'HVOL', 'TLOC', 'LLOC'], ['HEFF', 'MI', 'LOC', 'HVOL', 'TLOC', 'LLOC', 'CLOC'], ['HEFF', 'MI', 'LOC', 'HVOL', 'TLOC', 'LLOC', 'CLOC', 'DLOC'], ['HEFF', 'MI', 'LOC', 'HVOL', 'TLOC', 'LLOC', 'CLOC', 'DLOC', 'TCLOC'], ['HEFF', 'MI', 'LOC', 'HVOL', 'TLOC', 'LLOC', 'CLOC', 'DLOC', 'TCLOC', 'TLLOC'], ['HEFF', 'MI', 'LOC', 'HVOL', 'TLOC', 'LLOC', 'CLOC', 'DLOC', 'TCLOC', 'TLLOC', 'NII'], ['HEFF', 'MI', 'LOC', 'HVOL', 'TLOC', 'LLOC', 'CLOC', 'DLOC', 'TCLOC', 'TLLOC', 'NII', 'TNOS'], ['HEFF', 'MI', 'LOC', 'HVOL', 'TLOC', 'LLOC', 'CLOC', 'DLOC', 'TCLOC', 'TLLOC', 'NII', 'TNOS', 'McCC'], ['HEFF', 'MI', 'LOC', 'HVOL', 'TLOC', 'LLOC', 'CLOC', 'DLOC', 'TCLOC', 'TLLOC', 'NII', 'TNOS', 'McCC', 'HNDB'], ['HEFF', 'MI', 'LOC', 'HVOL', 'TLOC', 'LLOC', 'CLOC', 'DLOC', 'TCLOC', 'TLLOC', 'NII', 'TNOS', 'McCC', 'HNDB', 'HTRP'], ['HEFF', 'MI', 'LOC', 'HVOL', 'TLOC', 'LLOC', 'CLOC', 'DLOC', 'TCLOC', 'TLLOC', 'NII', 'TNOS', 'McCC', 'HNDB', 'HTRP', 'NL'], ['HEFF', 'MI', 'LOC', 'HVOL', 'TLOC', 'LLOC', 'CLOC', 'DLOC', 'TCLOC', 'TLLOC', 'NII', 'TNOS', 'McCC', 'HNDB', 'HTRP', 'HPV', 'NLE'], ['HEFF', 'MI', 'LOC', 'HVOL', 'TLOC', 'LLOC', 'CLOC', 'DLOC', 'TCLOC', 'TLLOC', 'NII', 'TNOS', 'McCC', 'HNDB', 'HTRP', 'HDIF', 'CD', 'HPL'], ['HEFF', 'MI', 'LOC', 'HVOL', 'TLOC', 'LLOC', 'CLOC', 'DLOC', 'TCLOC', 'TLLOC', 'NII', 'TNOS', 'McCC', 'HNDB', 'HTRP', 'NOI', 'NOS', 'TCD', 'HPV'], ['HEFF', 'MI', 'LOC', 'HVOL', 'TLOC', 'LLOC', 'CLOC', 'DLOC', 'TCLOC', 'TLLOC', 'NII', 'TNOS', 'McCC', 'HNDB', 'HTRP', 'HCPL', 'NOS', 'NUMPAR', 'CD', 'HDIF'], ['HEFF', 'MI', 'LOC', 'HVOL', 'TLOC', 'LLOC', 'CLOC', 'DLOC', 'TCLOC', 'TLLOC', 'NII', 'TNOS', 'McCC', 'HNDB', 'HTRP', 'HPL', 'TCD', 'HPV', 'NOS', 'HDIF', 'NLE'], ['HEFF', 'MI', 'LOC', 'HVOL', 'TLOC', 'LLOC', 'CLOC', 'DLOC', 'TCLOC', 'TLLOC', 'NII', 'TNOS', 'McCC', 'HNDB', 'HTRP', 'HDIF', 'NUMPAR', 'TCD', 'NLE', 'NOS', 'NL', 'HPV'], ['HEFF', 'MI', 'LOC', 'HVOL', 'TLOC', 'LLOC', 'CLOC', 'DLOC', 'TCLOC', 'TLLOC', 'NII', 'TNOS', 'McCC', 'HNDB', 'HTRP', 'HPL', 'HCPL', 'NOI', 'NOS', 'NUMPAR', 'NL', 'CD', 'TCD'], ['HEFF', 'MI', 'LOC', 'HVOL', 'TLOC', 'LLOC', 'CLOC', 'DLOC', 'TCLOC', 'TLLOC', 'NII', 'TNOS', 'McCC', 'HNDB', 'HTRP', 'NOI', 'NOS', 'TCD', 'HPL', 'NUMPAR', 'HPV', 'CD', 'HCPL', 'HDIF'], ['HEFF', 'MI', 'LOC', 'HVOL', 'TLOC', 'LLOC', 'CLOC', 'DLOC', 'TCLOC', 'TLLOC', 'NII', 'TNOS', 'McCC', 'HNDB', 'HTRP', 'HDIF', 'HCPL', 'NOI', 'NL', 'NOS', 'TCD', 'HPV', 'HPL', 'NUMPAR', 'NLE'], ['HEFF', 'MI', 'LOC', 'HVOL', 'TLOC', 'LLOC', 'CLOC', 'DLOC', 'TCLOC', 'TLLOC', 'NII', 'TNOS', 'McCC', 'HNDB', 'HTRP', 'TCD', 'HPV', 'NOI', 'HCPL', 'NOS', 'NLE', 'NL', 'NUMPAR', 'CD', 'HPL', 'HDIF']]\n"
     ]
    }
   ],
   "source": [
    "agent_method = REINFORCEWithBaselineAgent(\n",
    "    state_space_method, action_space_method, gamma=1, lr=0.001\n",
    ")\n",
    "errors, num_ftrs, selected_features = run_train_test(\n",
    "    X_train=X_train_method,\n",
    "    X_test=X_test_method,\n",
    "    data_test=data_test_method,\n",
    "    agent=agent_method,\n",
    "    device=device,\n",
    ")\n",
    "\n",
    "print(selected_features)\n"
   ]
  },
  {
   "cell_type": "code",
   "execution_count": 14,
   "metadata": {},
   "outputs": [],
   "source": [
    "selected_features_ = []\n",
    "selected_features_.extend(selected_features[-1])"
   ]
  },
  {
   "cell_type": "code",
   "execution_count": 15,
   "metadata": {},
   "outputs": [
    {
     "data": {
      "text/plain": [
       "[['HEFF'],\n",
       " ['HEFF', 'MI'],\n",
       " ['HEFF', 'MI', 'LOC'],\n",
       " ['HEFF', 'MI', 'LOC', 'HVOL'],\n",
       " ['HEFF', 'MI', 'LOC', 'HVOL', 'TLOC'],\n",
       " ['HEFF', 'MI', 'LOC', 'HVOL', 'TLOC', 'LLOC'],\n",
       " ['HEFF', 'MI', 'LOC', 'HVOL', 'TLOC', 'LLOC', 'CLOC'],\n",
       " ['HEFF', 'MI', 'LOC', 'HVOL', 'TLOC', 'LLOC', 'CLOC', 'DLOC'],\n",
       " ['HEFF', 'MI', 'LOC', 'HVOL', 'TLOC', 'LLOC', 'CLOC', 'DLOC', 'TCLOC'],\n",
       " ['HEFF',\n",
       "  'MI',\n",
       "  'LOC',\n",
       "  'HVOL',\n",
       "  'TLOC',\n",
       "  'LLOC',\n",
       "  'CLOC',\n",
       "  'DLOC',\n",
       "  'TCLOC',\n",
       "  'TLLOC'],\n",
       " ['HEFF',\n",
       "  'MI',\n",
       "  'LOC',\n",
       "  'HVOL',\n",
       "  'TLOC',\n",
       "  'LLOC',\n",
       "  'CLOC',\n",
       "  'DLOC',\n",
       "  'TCLOC',\n",
       "  'TLLOC',\n",
       "  'NII'],\n",
       " ['HEFF',\n",
       "  'MI',\n",
       "  'LOC',\n",
       "  'HVOL',\n",
       "  'TLOC',\n",
       "  'LLOC',\n",
       "  'CLOC',\n",
       "  'DLOC',\n",
       "  'TCLOC',\n",
       "  'TLLOC',\n",
       "  'NII',\n",
       "  'TNOS'],\n",
       " ['HEFF',\n",
       "  'MI',\n",
       "  'LOC',\n",
       "  'HVOL',\n",
       "  'TLOC',\n",
       "  'LLOC',\n",
       "  'CLOC',\n",
       "  'DLOC',\n",
       "  'TCLOC',\n",
       "  'TLLOC',\n",
       "  'NII',\n",
       "  'TNOS',\n",
       "  'McCC'],\n",
       " ['HEFF',\n",
       "  'MI',\n",
       "  'LOC',\n",
       "  'HVOL',\n",
       "  'TLOC',\n",
       "  'LLOC',\n",
       "  'CLOC',\n",
       "  'DLOC',\n",
       "  'TCLOC',\n",
       "  'TLLOC',\n",
       "  'NII',\n",
       "  'TNOS',\n",
       "  'McCC',\n",
       "  'HNDB'],\n",
       " ['HEFF',\n",
       "  'MI',\n",
       "  'LOC',\n",
       "  'HVOL',\n",
       "  'TLOC',\n",
       "  'LLOC',\n",
       "  'CLOC',\n",
       "  'DLOC',\n",
       "  'TCLOC',\n",
       "  'TLLOC',\n",
       "  'NII',\n",
       "  'TNOS',\n",
       "  'McCC',\n",
       "  'HNDB',\n",
       "  'HTRP'],\n",
       " ['HEFF',\n",
       "  'MI',\n",
       "  'LOC',\n",
       "  'HVOL',\n",
       "  'TLOC',\n",
       "  'LLOC',\n",
       "  'CLOC',\n",
       "  'DLOC',\n",
       "  'TCLOC',\n",
       "  'TLLOC',\n",
       "  'NII',\n",
       "  'TNOS',\n",
       "  'McCC',\n",
       "  'HNDB',\n",
       "  'HTRP',\n",
       "  'NL'],\n",
       " ['HEFF',\n",
       "  'MI',\n",
       "  'LOC',\n",
       "  'HVOL',\n",
       "  'TLOC',\n",
       "  'LLOC',\n",
       "  'CLOC',\n",
       "  'DLOC',\n",
       "  'TCLOC',\n",
       "  'TLLOC',\n",
       "  'NII',\n",
       "  'TNOS',\n",
       "  'McCC',\n",
       "  'HNDB',\n",
       "  'HTRP',\n",
       "  'HPV',\n",
       "  'NLE'],\n",
       " ['HEFF',\n",
       "  'MI',\n",
       "  'LOC',\n",
       "  'HVOL',\n",
       "  'TLOC',\n",
       "  'LLOC',\n",
       "  'CLOC',\n",
       "  'DLOC',\n",
       "  'TCLOC',\n",
       "  'TLLOC',\n",
       "  'NII',\n",
       "  'TNOS',\n",
       "  'McCC',\n",
       "  'HNDB',\n",
       "  'HTRP',\n",
       "  'HDIF',\n",
       "  'CD',\n",
       "  'HPL'],\n",
       " ['HEFF',\n",
       "  'MI',\n",
       "  'LOC',\n",
       "  'HVOL',\n",
       "  'TLOC',\n",
       "  'LLOC',\n",
       "  'CLOC',\n",
       "  'DLOC',\n",
       "  'TCLOC',\n",
       "  'TLLOC',\n",
       "  'NII',\n",
       "  'TNOS',\n",
       "  'McCC',\n",
       "  'HNDB',\n",
       "  'HTRP',\n",
       "  'NOI',\n",
       "  'NOS',\n",
       "  'TCD',\n",
       "  'HPV'],\n",
       " ['HEFF',\n",
       "  'MI',\n",
       "  'LOC',\n",
       "  'HVOL',\n",
       "  'TLOC',\n",
       "  'LLOC',\n",
       "  'CLOC',\n",
       "  'DLOC',\n",
       "  'TCLOC',\n",
       "  'TLLOC',\n",
       "  'NII',\n",
       "  'TNOS',\n",
       "  'McCC',\n",
       "  'HNDB',\n",
       "  'HTRP',\n",
       "  'HCPL',\n",
       "  'NOS',\n",
       "  'NUMPAR',\n",
       "  'CD',\n",
       "  'HDIF'],\n",
       " ['HEFF',\n",
       "  'MI',\n",
       "  'LOC',\n",
       "  'HVOL',\n",
       "  'TLOC',\n",
       "  'LLOC',\n",
       "  'CLOC',\n",
       "  'DLOC',\n",
       "  'TCLOC',\n",
       "  'TLLOC',\n",
       "  'NII',\n",
       "  'TNOS',\n",
       "  'McCC',\n",
       "  'HNDB',\n",
       "  'HTRP',\n",
       "  'HPL',\n",
       "  'TCD',\n",
       "  'HPV',\n",
       "  'NOS',\n",
       "  'HDIF',\n",
       "  'NLE'],\n",
       " ['HEFF',\n",
       "  'MI',\n",
       "  'LOC',\n",
       "  'HVOL',\n",
       "  'TLOC',\n",
       "  'LLOC',\n",
       "  'CLOC',\n",
       "  'DLOC',\n",
       "  'TCLOC',\n",
       "  'TLLOC',\n",
       "  'NII',\n",
       "  'TNOS',\n",
       "  'McCC',\n",
       "  'HNDB',\n",
       "  'HTRP',\n",
       "  'HDIF',\n",
       "  'NUMPAR',\n",
       "  'TCD',\n",
       "  'NLE',\n",
       "  'NOS',\n",
       "  'NL',\n",
       "  'HPV'],\n",
       " ['HEFF',\n",
       "  'MI',\n",
       "  'LOC',\n",
       "  'HVOL',\n",
       "  'TLOC',\n",
       "  'LLOC',\n",
       "  'CLOC',\n",
       "  'DLOC',\n",
       "  'TCLOC',\n",
       "  'TLLOC',\n",
       "  'NII',\n",
       "  'TNOS',\n",
       "  'McCC',\n",
       "  'HNDB',\n",
       "  'HTRP',\n",
       "  'HPL',\n",
       "  'HCPL',\n",
       "  'NOI',\n",
       "  'NOS',\n",
       "  'NUMPAR',\n",
       "  'NL',\n",
       "  'CD',\n",
       "  'TCD'],\n",
       " ['HEFF',\n",
       "  'MI',\n",
       "  'LOC',\n",
       "  'HVOL',\n",
       "  'TLOC',\n",
       "  'LLOC',\n",
       "  'CLOC',\n",
       "  'DLOC',\n",
       "  'TCLOC',\n",
       "  'TLLOC',\n",
       "  'NII',\n",
       "  'TNOS',\n",
       "  'McCC',\n",
       "  'HNDB',\n",
       "  'HTRP',\n",
       "  'NOI',\n",
       "  'NOS',\n",
       "  'TCD',\n",
       "  'HPL',\n",
       "  'NUMPAR',\n",
       "  'HPV',\n",
       "  'CD',\n",
       "  'HCPL',\n",
       "  'HDIF'],\n",
       " ['HEFF',\n",
       "  'MI',\n",
       "  'LOC',\n",
       "  'HVOL',\n",
       "  'TLOC',\n",
       "  'LLOC',\n",
       "  'CLOC',\n",
       "  'DLOC',\n",
       "  'TCLOC',\n",
       "  'TLLOC',\n",
       "  'NII',\n",
       "  'TNOS',\n",
       "  'McCC',\n",
       "  'HNDB',\n",
       "  'HTRP',\n",
       "  'HDIF',\n",
       "  'HCPL',\n",
       "  'NOI',\n",
       "  'NL',\n",
       "  'NOS',\n",
       "  'TCD',\n",
       "  'HPV',\n",
       "  'HPL',\n",
       "  'NUMPAR',\n",
       "  'NLE'],\n",
       " ['HEFF',\n",
       "  'MI',\n",
       "  'LOC',\n",
       "  'HVOL',\n",
       "  'TLOC',\n",
       "  'LLOC',\n",
       "  'CLOC',\n",
       "  'DLOC',\n",
       "  'TCLOC',\n",
       "  'TLLOC',\n",
       "  'NII',\n",
       "  'TNOS',\n",
       "  'McCC',\n",
       "  'HNDB',\n",
       "  'HTRP',\n",
       "  'TCD',\n",
       "  'HPV',\n",
       "  'NOI',\n",
       "  'HCPL',\n",
       "  'NOS',\n",
       "  'NLE',\n",
       "  'NL',\n",
       "  'NUMPAR',\n",
       "  'CD',\n",
       "  'HPL',\n",
       "  'HDIF']]"
      ]
     },
     "execution_count": 15,
     "metadata": {},
     "output_type": "execute_result"
    }
   ],
   "source": [
    "selected_features"
   ]
  },
  {
   "cell_type": "code",
   "execution_count": 16,
   "metadata": {},
   "outputs": [
    {
     "data": {
      "image/png": "[encoded data removed]",
      "text/plain": [
       "<Figure size 1000x750 with 1 Axes>"
      ]
     },
     "metadata": {},
     "output_type": "display_data"
    }
   ],
   "source": [
    "# Plot\n",
    "plt.figure(figsize=(10, 7.5))\n",
    "plt.plot(num_ftrs, errors, marker='o', linestyle='-', color='b')\n",
    "plt.xlabel('Sequentially Selected Metrics')\n",
    "plt.ylabel('Sammon Error')\n",
    "# plt.title('Sammon Error vs Number of Features')\n",
    "plt.xticks(num_ftrs, selected_features_, rotation=45, ha='right')  # Map indices to feature names\n",
    "plt.grid(True)\n",
    "plt.show()"
   ]
  },
  {
   "cell_type": "code",
   "execution_count": 17,
   "metadata": {},
   "outputs": [
    {
     "name": "stdout",
     "output_type": "stream",
     "text": [
      "Iteration 0, Number of features 1\n"
     ]
    },
    {
     "name": "stderr",
     "output_type": "stream",
     "text": [
      "Training Episodes: 100%|██████████| 1500/1500 [00:01<00:00, 1092.82it/s, Return=1.35]  \n"
     ]
    },
    {
     "name": "stdout",
     "output_type": "stream",
     "text": [
      "Iteration 1, Number of features 2\n"
     ]
    },
    {
     "name": "stderr",
     "output_type": "stream",
     "text": [
      "Training Episodes: 100%|██████████| 1000/1000 [00:01<00:00, 960.13it/s, Return=2.3]\n"
     ]
    },
    {
     "name": "stdout",
     "output_type": "stream",
     "text": [
      "Iteration 2, Number of features 4\n"
     ]
    },
    {
     "name": "stderr",
     "output_type": "stream",
     "text": [
      "Training Episodes: 100%|██████████| 833/833 [00:01<00:00, 746.24it/s, Return=3.79]\n"
     ]
    },
    {
     "name": "stdout",
     "output_type": "stream",
     "text": [
      "Iteration 3, Number of features 8\n"
     ]
    },
    {
     "name": "stderr",
     "output_type": "stream",
     "text": [
      "Training Episodes: 100%|██████████| 750/750 [00:01<00:00, 536.91it/s, Return=7.88]\n"
     ]
    },
    {
     "name": "stdout",
     "output_type": "stream",
     "text": [
      "30\n",
      "waiting...\n"
     ]
    }
   ],
   "source": [
    "agent_class = REINFORCEWithBaselineAgent(\n",
    "    state_space_class, action_space_class, gamma=1, lr=0.001\n",
    ")\n",
    "errors, num_ftrs, selected_features = run_train_test(\n",
    "    X_train=X_train_class,\n",
    "    X_test=X_test_class,\n",
    "    data_test=data_test_class,\n",
    "    agent=agent_class,\n",
    "    device=device,\n",
    ")"
   ]
  },
  {
   "cell_type": "code",
   "execution_count": 18,
   "metadata": {},
   "outputs": [],
   "source": [
    "selected_features_ = []\n",
    "selected_features_.extend(selected_features[-1])"
   ]
  },
  {
   "cell_type": "code",
   "execution_count": 19,
   "metadata": {},
   "outputs": [
    {
     "name": "stdout",
     "output_type": "stream",
     "text": [
      "['TLOC', 'LOC', 'LLOC', 'TLLOC', 'CLOC', 'TNOS', 'NOS', 'WMC', 'TNM', 'TNLM', 'NOC', 'NL', 'NOP', 'NLM', 'DIT', 'NII', 'NA', 'RFC', 'LCOM5', 'TNLA', 'CD', 'NOD', 'NOI', 'NM', 'NOA', 'NLA', 'NLE', 'CBOI', 'CBO', 'TNA']\n"
     ]
    }
   ],
   "source": [
    "print(selected_features_)"
   ]
  },
  {
   "cell_type": "code",
   "execution_count": 20,
   "metadata": {},
   "outputs": [
    {
     "data": {
      "image/png": "[encoded data removed]",
      "text/plain": [
       "<Figure size 1000x750 with 1 Axes>"
      ]
     },
     "metadata": {},
     "output_type": "display_data"
    }
   ],
   "source": [
    "# Plot\n",
    "plt.figure(figsize=(10, 7.5))\n",
    "plt.plot(num_ftrs, errors, marker='o', linestyle='-', color='b')\n",
    "plt.xlabel('Sequentially Selected Metrics')\n",
    "plt.ylabel('Sammon Error')\n",
    "# plt.title('Sammon Error vs Number of Features')\n",
    "plt.xticks(num_ftrs, selected_features_, rotation=45, ha='right')  # Map indices to feature names\n",
    "plt.grid(True)\n",
    "plt.show()"
   ]
  },
  {
   "cell_type": "code",
   "execution_count": 21,
   "metadata": {},
   "outputs": [],
   "source": [
    "def test_stability(X_train, X_test, data_test, num_iters=10):\n",
    "    state_space = X_train.shape[1]\n",
    "    action_space = X_train.shape[1]\n",
    "    device = torch.device(\"cuda\" if torch.cuda.is_available() else \"cpu\")\n",
    "    \n",
    "    all_errors = []\n",
    "    all_num_ftrs = []\n",
    "    all_selected_features = []\n",
    "    for i in range(num_iters):\n",
    "        agent = REINFORCEWithBaselineAgent(state_space, action_space, gamma=1, lr=0.001)\n",
    "        errors, num_ftrs, selected_features = run_train_test(\n",
    "            X_train, X_test, data_test, agent, device\n",
    "        )\n",
    "        all_errors.append(errors)\n",
    "        all_num_ftrs.append(num_ftrs)\n",
    "        all_selected_features.append(selected_features)\n",
    "\n",
    "    return all_errors, all_num_ftrs, all_selected_features"
   ]
  },
  {
   "cell_type": "code",
   "execution_count": 22,
   "metadata": {},
   "outputs": [
    {
     "name": "stdout",
     "output_type": "stream",
     "text": [
      "Iteration 0, Number of features 1\n"
     ]
    },
    {
     "name": "stderr",
     "output_type": "stream",
     "text": [
      "Training Episodes: 100%|██████████| 1500/1500 [00:01<00:00, 1111.79it/s, Return=1.35]  \n"
     ]
    },
    {
     "name": "stdout",
     "output_type": "stream",
     "text": [
      "Iteration 1, Number of features 2\n"
     ]
    },
    {
     "name": "stderr",
     "output_type": "stream",
     "text": [
      "Training Episodes: 100%|██████████| 1000/1000 [00:01<00:00, 939.34it/s, Return=2.3] \n"
     ]
    },
    {
     "name": "stdout",
     "output_type": "stream",
     "text": [
      "Iteration 2, Number of features 4\n"
     ]
    },
    {
     "name": "stderr",
     "output_type": "stream",
     "text": [
      "Training Episodes: 100%|██████████| 833/833 [00:01<00:00, 736.91it/s, Return=3.79]\n"
     ]
    },
    {
     "name": "stdout",
     "output_type": "stream",
     "text": [
      "Iteration 3, Number of features 8\n"
     ]
    },
    {
     "name": "stderr",
     "output_type": "stream",
     "text": [
      "Training Episodes: 100%|██████████| 750/750 [00:01<00:00, 529.88it/s, Return=7.88]\n"
     ]
    },
    {
     "name": "stdout",
     "output_type": "stream",
     "text": [
      "30\n",
      "waiting...\n",
      "Iteration 0, Number of features 1\n"
     ]
    },
    {
     "name": "stderr",
     "output_type": "stream",
     "text": [
      "Training Episodes: 100%|██████████| 1500/1500 [00:01<00:00, 1167.94it/s, Return=1.35]   \n"
     ]
    },
    {
     "name": "stdout",
     "output_type": "stream",
     "text": [
      "Iteration 1, Number of features 2\n"
     ]
    },
    {
     "name": "stderr",
     "output_type": "stream",
     "text": [
      "Training Episodes: 100%|██████████| 1000/1000 [00:01<00:00, 913.24it/s, Return=2.3]\n"
     ]
    },
    {
     "name": "stdout",
     "output_type": "stream",
     "text": [
      "Iteration 2, Number of features 4\n"
     ]
    },
    {
     "name": "stderr",
     "output_type": "stream",
     "text": [
      "Training Episodes: 100%|██████████| 833/833 [00:01<00:00, 736.32it/s, Return=3.79]\n"
     ]
    },
    {
     "name": "stdout",
     "output_type": "stream",
     "text": [
      "Iteration 3, Number of features 8\n"
     ]
    },
    {
     "name": "stderr",
     "output_type": "stream",
     "text": [
      "Training Episodes: 100%|██████████| 750/750 [00:01<00:00, 415.46it/s, Return=7.42]\n"
     ]
    },
    {
     "name": "stdout",
     "output_type": "stream",
     "text": [
      "30\n",
      "waiting...\n",
      "Iteration 0, Number of features 1\n"
     ]
    },
    {
     "name": "stderr",
     "output_type": "stream",
     "text": [
      "Training Episodes: 100%|██████████| 1500/1500 [00:01<00:00, 876.35it/s, Return=1.35]   \n"
     ]
    },
    {
     "name": "stdout",
     "output_type": "stream",
     "text": [
      "Iteration 1, Number of features 2\n"
     ]
    },
    {
     "name": "stderr",
     "output_type": "stream",
     "text": [
      "Training Episodes: 100%|██████████| 1000/1000 [00:01<00:00, 799.45it/s, Return=2.3]\n"
     ]
    },
    {
     "name": "stdout",
     "output_type": "stream",
     "text": [
      "Iteration 2, Number of features 4\n"
     ]
    },
    {
     "name": "stderr",
     "output_type": "stream",
     "text": [
      "Training Episodes: 100%|██████████| 833/833 [00:01<00:00, 724.51it/s, Return=3.79]\n"
     ]
    },
    {
     "name": "stdout",
     "output_type": "stream",
     "text": [
      "Iteration 3, Number of features 8\n"
     ]
    },
    {
     "name": "stderr",
     "output_type": "stream",
     "text": [
      "Training Episodes: 100%|██████████| 750/750 [00:01<00:00, 516.62it/s, Return=7.42]\n"
     ]
    },
    {
     "name": "stdout",
     "output_type": "stream",
     "text": [
      "30\n",
      "waiting...\n",
      "Iteration 0, Number of features 1\n"
     ]
    },
    {
     "name": "stderr",
     "output_type": "stream",
     "text": [
      "Training Episodes: 100%|██████████| 1500/1500 [00:01<00:00, 874.06it/s, Return=1.35]   \n"
     ]
    },
    {
     "name": "stdout",
     "output_type": "stream",
     "text": [
      "Iteration 1, Number of features 2\n"
     ]
    },
    {
     "name": "stderr",
     "output_type": "stream",
     "text": [
      "Training Episodes: 100%|██████████| 1000/1000 [00:01<00:00, 634.56it/s, Return=2.3]\n"
     ]
    },
    {
     "name": "stdout",
     "output_type": "stream",
     "text": [
      "Iteration 2, Number of features 4\n"
     ]
    },
    {
     "name": "stderr",
     "output_type": "stream",
     "text": [
      "Training Episodes: 100%|██████████| 833/833 [00:01<00:00, 703.01it/s, Return=3.79]\n"
     ]
    },
    {
     "name": "stdout",
     "output_type": "stream",
     "text": [
      "Iteration 3, Number of features 8\n"
     ]
    },
    {
     "name": "stderr",
     "output_type": "stream",
     "text": [
      "Training Episodes: 100%|██████████| 750/750 [00:01<00:00, 508.59it/s, Return=7.88]\n"
     ]
    },
    {
     "name": "stdout",
     "output_type": "stream",
     "text": [
      "30\n",
      "waiting...\n",
      "Iteration 0, Number of features 1\n"
     ]
    },
    {
     "name": "stderr",
     "output_type": "stream",
     "text": [
      "Training Episodes: 100%|██████████| 1500/1500 [00:01<00:00, 1089.13it/s, Return=1.35]  \n"
     ]
    },
    {
     "name": "stdout",
     "output_type": "stream",
     "text": [
      "Iteration 1, Number of features 2\n"
     ]
    },
    {
     "name": "stderr",
     "output_type": "stream",
     "text": [
      "Training Episodes: 100%|██████████| 1000/1000 [00:01<00:00, 901.48it/s, Return=2.3]\n"
     ]
    },
    {
     "name": "stdout",
     "output_type": "stream",
     "text": [
      "Iteration 2, Number of features 4\n"
     ]
    },
    {
     "name": "stderr",
     "output_type": "stream",
     "text": [
      "Training Episodes: 100%|██████████| 833/833 [00:01<00:00, 742.41it/s, Return=3.79]\n"
     ]
    },
    {
     "name": "stdout",
     "output_type": "stream",
     "text": [
      "Iteration 3, Number of features 8\n"
     ]
    },
    {
     "name": "stderr",
     "output_type": "stream",
     "text": [
      "Training Episodes: 100%|██████████| 750/750 [00:01<00:00, 518.91it/s, Return=6.91]\n"
     ]
    },
    {
     "name": "stdout",
     "output_type": "stream",
     "text": [
      "30\n",
      "waiting...\n",
      "Iteration 0, Number of features 1\n"
     ]
    },
    {
     "name": "stderr",
     "output_type": "stream",
     "text": [
      "Training Episodes: 100%|██████████| 1500/1500 [00:01<00:00, 1105.36it/s, Return=1.35]  \n"
     ]
    },
    {
     "name": "stdout",
     "output_type": "stream",
     "text": [
      "Iteration 1, Number of features 2\n"
     ]
    },
    {
     "name": "stderr",
     "output_type": "stream",
     "text": [
      "Training Episodes: 100%|██████████| 1000/1000 [00:01<00:00, 896.83it/s, Return=2.3]\n"
     ]
    },
    {
     "name": "stdout",
     "output_type": "stream",
     "text": [
      "Iteration 2, Number of features 4\n"
     ]
    },
    {
     "name": "stderr",
     "output_type": "stream",
     "text": [
      "Training Episodes: 100%|██████████| 833/833 [00:01<00:00, 738.76it/s, Return=3.63]\n"
     ]
    },
    {
     "name": "stdout",
     "output_type": "stream",
     "text": [
      "Iteration 3, Number of features 8\n"
     ]
    },
    {
     "name": "stderr",
     "output_type": "stream",
     "text": [
      "Training Episodes: 100%|██████████| 750/750 [00:01<00:00, 520.22it/s, Return=7.88]\n"
     ]
    },
    {
     "name": "stdout",
     "output_type": "stream",
     "text": [
      "30\n",
      "waiting...\n",
      "Iteration 0, Number of features 1\n"
     ]
    },
    {
     "name": "stderr",
     "output_type": "stream",
     "text": [
      "Training Episodes: 100%|██████████| 1500/1500 [00:01<00:00, 1078.68it/s, Return=1.35]   \n"
     ]
    },
    {
     "name": "stdout",
     "output_type": "stream",
     "text": [
      "Iteration 1, Number of features 2\n"
     ]
    },
    {
     "name": "stderr",
     "output_type": "stream",
     "text": [
      "Training Episodes: 100%|██████████| 1000/1000 [00:01<00:00, 925.69it/s, Return=2.3]\n"
     ]
    },
    {
     "name": "stdout",
     "output_type": "stream",
     "text": [
      "Iteration 2, Number of features 4\n"
     ]
    },
    {
     "name": "stderr",
     "output_type": "stream",
     "text": [
      "Training Episodes: 100%|██████████| 833/833 [00:01<00:00, 694.19it/s, Return=3.79]\n"
     ]
    },
    {
     "name": "stdout",
     "output_type": "stream",
     "text": [
      "Iteration 3, Number of features 8\n"
     ]
    },
    {
     "name": "stderr",
     "output_type": "stream",
     "text": [
      "Training Episodes: 100%|██████████| 750/750 [00:01<00:00, 507.53it/s, Return=7.88]\n"
     ]
    },
    {
     "name": "stdout",
     "output_type": "stream",
     "text": [
      "30\n",
      "waiting...\n",
      "Iteration 0, Number of features 1\n"
     ]
    },
    {
     "name": "stderr",
     "output_type": "stream",
     "text": [
      "Training Episodes: 100%|██████████| 1500/1500 [00:01<00:00, 1050.46it/s, Return=1.35]  \n"
     ]
    },
    {
     "name": "stdout",
     "output_type": "stream",
     "text": [
      "Iteration 1, Number of features 2\n"
     ]
    },
    {
     "name": "stderr",
     "output_type": "stream",
     "text": [
      "Training Episodes: 100%|██████████| 1000/1000 [00:01<00:00, 894.81it/s, Return=2.3] \n"
     ]
    },
    {
     "name": "stdout",
     "output_type": "stream",
     "text": [
      "Iteration 2, Number of features 4\n"
     ]
    },
    {
     "name": "stderr",
     "output_type": "stream",
     "text": [
      "Training Episodes: 100%|██████████| 833/833 [00:01<00:00, 728.66it/s, Return=3.79]\n"
     ]
    },
    {
     "name": "stdout",
     "output_type": "stream",
     "text": [
      "Iteration 3, Number of features 8\n"
     ]
    },
    {
     "name": "stderr",
     "output_type": "stream",
     "text": [
      "Training Episodes: 100%|██████████| 750/750 [00:01<00:00, 413.54it/s, Return=5.8] \n"
     ]
    },
    {
     "name": "stdout",
     "output_type": "stream",
     "text": [
      "30\n",
      "waiting...\n",
      "Iteration 0, Number of features 1\n"
     ]
    },
    {
     "name": "stderr",
     "output_type": "stream",
     "text": [
      "Training Episodes: 100%|██████████| 1500/1500 [00:01<00:00, 1113.89it/s, Return=1.35]   \n"
     ]
    },
    {
     "name": "stdout",
     "output_type": "stream",
     "text": [
      "Iteration 1, Number of features 2\n"
     ]
    },
    {
     "name": "stderr",
     "output_type": "stream",
     "text": [
      "Training Episodes: 100%|██████████| 1000/1000 [00:01<00:00, 894.11it/s, Return=2.3]\n"
     ]
    },
    {
     "name": "stdout",
     "output_type": "stream",
     "text": [
      "Iteration 2, Number of features 4\n"
     ]
    },
    {
     "name": "stderr",
     "output_type": "stream",
     "text": [
      "Training Episodes: 100%|██████████| 833/833 [00:01<00:00, 710.70it/s, Return=3.79]\n"
     ]
    },
    {
     "name": "stdout",
     "output_type": "stream",
     "text": [
      "Iteration 3, Number of features 8\n"
     ]
    },
    {
     "name": "stderr",
     "output_type": "stream",
     "text": [
      "Training Episodes: 100%|██████████| 750/750 [00:01<00:00, 516.23it/s, Return=7.88]\n"
     ]
    },
    {
     "name": "stdout",
     "output_type": "stream",
     "text": [
      "30\n",
      "waiting...\n",
      "Iteration 0, Number of features 1\n"
     ]
    },
    {
     "name": "stderr",
     "output_type": "stream",
     "text": [
      "Training Episodes: 100%|██████████| 1500/1500 [00:01<00:00, 1138.90it/s, Return=1.35]   \n"
     ]
    },
    {
     "name": "stdout",
     "output_type": "stream",
     "text": [
      "Iteration 1, Number of features 2\n"
     ]
    },
    {
     "name": "stderr",
     "output_type": "stream",
     "text": [
      "Training Episodes: 100%|██████████| 1000/1000 [00:01<00:00, 918.82it/s, Return=2.3]\n"
     ]
    },
    {
     "name": "stdout",
     "output_type": "stream",
     "text": [
      "Iteration 2, Number of features 4\n"
     ]
    },
    {
     "name": "stderr",
     "output_type": "stream",
     "text": [
      "Training Episodes: 100%|██████████| 833/833 [00:01<00:00, 738.37it/s, Return=3.06]\n"
     ]
    },
    {
     "name": "stdout",
     "output_type": "stream",
     "text": [
      "Iteration 3, Number of features 8\n"
     ]
    },
    {
     "name": "stderr",
     "output_type": "stream",
     "text": [
      "Training Episodes: 100%|██████████| 750/750 [00:01<00:00, 522.88it/s, Return=5.89]\n"
     ]
    },
    {
     "name": "stdout",
     "output_type": "stream",
     "text": [
      "30\n",
      "waiting...\n"
     ]
    }
   ],
   "source": [
    "all_errors, all_num_ftrs, all_selected_features = test_stability(X_train_class, X_test_class, data_test_class, num_iters=10)"
   ]
  },
  {
   "cell_type": "code",
   "execution_count": 23,
   "metadata": {},
   "outputs": [
    {
     "data": {
      "text/plain": [
       "(array([2.57124478e-01, 9.75449645e-02, 4.31939462e-02, 1.85016886e-02,\n",
       "        7.79003105e-03, 3.19280335e-03, 6.63314552e-04, 2.65971245e-04,\n",
       "        9.46305014e-05, 7.23670215e-05, 7.23670215e-05, 3.23332099e-05,\n",
       "        1.70777108e-05, 1.70190517e-05, 1.69188362e-05, 1.64144856e-05,\n",
       "        2.55652148e-06, 6.53124746e-06, 6.36505645e-06, 1.07151488e-06,\n",
       "        1.00576320e-06, 2.26044823e-06, 2.20108630e-06, 9.89465820e-07,\n",
       "        4.02062040e-09, 5.91032200e-10, 6.40932674e-09, 1.99403505e-20,\n",
       "        1.99403505e-20, 1.99403505e-20]),\n",
       " array([2.57776690e-01, 9.75449645e-02, 4.32746858e-02, 2.66292282e-02,\n",
       "        1.05866600e-02, 3.67713718e-03, 2.96914129e-03, 6.61892595e-04,\n",
       "        6.61892595e-04, 4.09931342e-04, 3.68280937e-04, 3.67963373e-04,\n",
       "        3.67270115e-04, 3.67270115e-04, 3.66593073e-04, 3.66593073e-04,\n",
       "        3.65920518e-04, 3.36251392e-04, 3.36251392e-04, 2.71116606e-04,\n",
       "        3.35965355e-04, 2.45780985e-04, 2.03680956e-04, 2.45780985e-04,\n",
       "        2.03150153e-04, 5.54996714e-05, 2.02903762e-04, 2.64857979e-06,\n",
       "        2.07698409e-06, 1.99403505e-20]),\n",
       " array([2.57646248e-01, 9.75449645e-02, 4.32423899e-02, 1.93144425e-02,\n",
       "        8.91356179e-03, 3.28968591e-03, 1.05456697e-03, 3.33757950e-04,\n",
       "        2.79694998e-04, 2.13877328e-04, 1.96420559e-04, 1.72881906e-04,\n",
       "        1.61564981e-04, 1.57772002e-04, 1.56648646e-04, 1.46879308e-04,\n",
       "        1.32978716e-04, 1.16517068e-04, 1.16314953e-04, 8.50351467e-05,\n",
       "        9.44092274e-05, 9.52446588e-05, 3.79143548e-05, 6.71555457e-05,\n",
       "        3.02234986e-05, 1.53624568e-05, 2.64649918e-05, 8.59698648e-07,\n",
       "        3.02724621e-07, 1.99403505e-20]))"
      ]
     },
     "execution_count": 23,
     "metadata": {},
     "output_type": "execute_result"
    }
   ],
   "source": [
    "min_errors = np.min(all_errors, axis=0)\n",
    "max_errors = np.max(all_errors, axis=0)\n",
    "avg_errors = np.mean(all_errors, axis=0)\n",
    "min_errors, max_errors, avg_errors"
   ]
  },
  {
   "cell_type": "code",
   "execution_count": 24,
   "metadata": {},
   "outputs": [
    {
     "data": {
      "text/html": [
       "<div>\n",
       "<style scoped>\n",
       "    .dataframe tbody tr th:only-of-type {\n",
       "        vertical-align: middle;\n",
       "    }\n",
       "\n",
       "    .dataframe tbody tr th {\n",
       "        vertical-align: top;\n",
       "    }\n",
       "\n",
       "    .dataframe thead th {\n",
       "        text-align: right;\n",
       "    }\n",
       "</style>\n",
       "<table border=\"1\" class=\"dataframe\">\n",
       "  <thead>\n",
       "    <tr style=\"text-align: right;\">\n",
       "      <th></th>\n",
       "      <th>number_of_features</th>\n",
       "      <th>min_error</th>\n",
       "      <th>max_error</th>\n",
       "      <th>avg_error</th>\n",
       "    </tr>\n",
       "  </thead>\n",
       "  <tbody>\n",
       "    <tr>\n",
       "      <th>0</th>\n",
       "      <td>1</td>\n",
       "      <td>2.571245e-01</td>\n",
       "      <td>2.577767e-01</td>\n",
       "      <td>2.576462e-01</td>\n",
       "    </tr>\n",
       "    <tr>\n",
       "      <th>1</th>\n",
       "      <td>2</td>\n",
       "      <td>9.754496e-02</td>\n",
       "      <td>9.754496e-02</td>\n",
       "      <td>9.754496e-02</td>\n",
       "    </tr>\n",
       "    <tr>\n",
       "      <th>2</th>\n",
       "      <td>3</td>\n",
       "      <td>4.319395e-02</td>\n",
       "      <td>4.327469e-02</td>\n",
       "      <td>4.324239e-02</td>\n",
       "    </tr>\n",
       "    <tr>\n",
       "      <th>3</th>\n",
       "      <td>4</td>\n",
       "      <td>1.850169e-02</td>\n",
       "      <td>2.662923e-02</td>\n",
       "      <td>1.931444e-02</td>\n",
       "    </tr>\n",
       "    <tr>\n",
       "      <th>4</th>\n",
       "      <td>5</td>\n",
       "      <td>7.790031e-03</td>\n",
       "      <td>1.058666e-02</td>\n",
       "      <td>8.913562e-03</td>\n",
       "    </tr>\n",
       "    <tr>\n",
       "      <th>5</th>\n",
       "      <td>6</td>\n",
       "      <td>3.192803e-03</td>\n",
       "      <td>3.677137e-03</td>\n",
       "      <td>3.289686e-03</td>\n",
       "    </tr>\n",
       "    <tr>\n",
       "      <th>6</th>\n",
       "      <td>7</td>\n",
       "      <td>6.633146e-04</td>\n",
       "      <td>2.969141e-03</td>\n",
       "      <td>1.054567e-03</td>\n",
       "    </tr>\n",
       "    <tr>\n",
       "      <th>7</th>\n",
       "      <td>8</td>\n",
       "      <td>2.659712e-04</td>\n",
       "      <td>6.618926e-04</td>\n",
       "      <td>3.337579e-04</td>\n",
       "    </tr>\n",
       "    <tr>\n",
       "      <th>8</th>\n",
       "      <td>9</td>\n",
       "      <td>9.463050e-05</td>\n",
       "      <td>6.618926e-04</td>\n",
       "      <td>2.796950e-04</td>\n",
       "    </tr>\n",
       "    <tr>\n",
       "      <th>9</th>\n",
       "      <td>10</td>\n",
       "      <td>7.236702e-05</td>\n",
       "      <td>4.099313e-04</td>\n",
       "      <td>2.138773e-04</td>\n",
       "    </tr>\n",
       "    <tr>\n",
       "      <th>10</th>\n",
       "      <td>11</td>\n",
       "      <td>7.236702e-05</td>\n",
       "      <td>3.682809e-04</td>\n",
       "      <td>1.964206e-04</td>\n",
       "    </tr>\n",
       "    <tr>\n",
       "      <th>11</th>\n",
       "      <td>12</td>\n",
       "      <td>3.233321e-05</td>\n",
       "      <td>3.679634e-04</td>\n",
       "      <td>1.728819e-04</td>\n",
       "    </tr>\n",
       "    <tr>\n",
       "      <th>12</th>\n",
       "      <td>13</td>\n",
       "      <td>1.707771e-05</td>\n",
       "      <td>3.672701e-04</td>\n",
       "      <td>1.615650e-04</td>\n",
       "    </tr>\n",
       "    <tr>\n",
       "      <th>13</th>\n",
       "      <td>14</td>\n",
       "      <td>1.701905e-05</td>\n",
       "      <td>3.672701e-04</td>\n",
       "      <td>1.577720e-04</td>\n",
       "    </tr>\n",
       "    <tr>\n",
       "      <th>14</th>\n",
       "      <td>15</td>\n",
       "      <td>1.691884e-05</td>\n",
       "      <td>3.665931e-04</td>\n",
       "      <td>1.566486e-04</td>\n",
       "    </tr>\n",
       "    <tr>\n",
       "      <th>15</th>\n",
       "      <td>16</td>\n",
       "      <td>1.641449e-05</td>\n",
       "      <td>3.665931e-04</td>\n",
       "      <td>1.468793e-04</td>\n",
       "    </tr>\n",
       "    <tr>\n",
       "      <th>16</th>\n",
       "      <td>17</td>\n",
       "      <td>2.556521e-06</td>\n",
       "      <td>3.659205e-04</td>\n",
       "      <td>1.329787e-04</td>\n",
       "    </tr>\n",
       "    <tr>\n",
       "      <th>17</th>\n",
       "      <td>18</td>\n",
       "      <td>6.531247e-06</td>\n",
       "      <td>3.362514e-04</td>\n",
       "      <td>1.165171e-04</td>\n",
       "    </tr>\n",
       "    <tr>\n",
       "      <th>18</th>\n",
       "      <td>19</td>\n",
       "      <td>6.365056e-06</td>\n",
       "      <td>3.362514e-04</td>\n",
       "      <td>1.163150e-04</td>\n",
       "    </tr>\n",
       "    <tr>\n",
       "      <th>19</th>\n",
       "      <td>20</td>\n",
       "      <td>1.071515e-06</td>\n",
       "      <td>2.711166e-04</td>\n",
       "      <td>8.503515e-05</td>\n",
       "    </tr>\n",
       "    <tr>\n",
       "      <th>20</th>\n",
       "      <td>21</td>\n",
       "      <td>1.005763e-06</td>\n",
       "      <td>3.359654e-04</td>\n",
       "      <td>9.440923e-05</td>\n",
       "    </tr>\n",
       "    <tr>\n",
       "      <th>21</th>\n",
       "      <td>22</td>\n",
       "      <td>2.260448e-06</td>\n",
       "      <td>2.457810e-04</td>\n",
       "      <td>9.524466e-05</td>\n",
       "    </tr>\n",
       "    <tr>\n",
       "      <th>22</th>\n",
       "      <td>23</td>\n",
       "      <td>2.201086e-06</td>\n",
       "      <td>2.036810e-04</td>\n",
       "      <td>3.791435e-05</td>\n",
       "    </tr>\n",
       "    <tr>\n",
       "      <th>23</th>\n",
       "      <td>24</td>\n",
       "      <td>9.894658e-07</td>\n",
       "      <td>2.457810e-04</td>\n",
       "      <td>6.715555e-05</td>\n",
       "    </tr>\n",
       "    <tr>\n",
       "      <th>24</th>\n",
       "      <td>25</td>\n",
       "      <td>4.020620e-09</td>\n",
       "      <td>2.031502e-04</td>\n",
       "      <td>3.022350e-05</td>\n",
       "    </tr>\n",
       "    <tr>\n",
       "      <th>25</th>\n",
       "      <td>26</td>\n",
       "      <td>5.910322e-10</td>\n",
       "      <td>5.549967e-05</td>\n",
       "      <td>1.536246e-05</td>\n",
       "    </tr>\n",
       "    <tr>\n",
       "      <th>26</th>\n",
       "      <td>27</td>\n",
       "      <td>6.409327e-09</td>\n",
       "      <td>2.029038e-04</td>\n",
       "      <td>2.646499e-05</td>\n",
       "    </tr>\n",
       "    <tr>\n",
       "      <th>27</th>\n",
       "      <td>28</td>\n",
       "      <td>1.994035e-20</td>\n",
       "      <td>2.648580e-06</td>\n",
       "      <td>8.596986e-07</td>\n",
       "    </tr>\n",
       "    <tr>\n",
       "      <th>28</th>\n",
       "      <td>29</td>\n",
       "      <td>1.994035e-20</td>\n",
       "      <td>2.076984e-06</td>\n",
       "      <td>3.027246e-07</td>\n",
       "    </tr>\n",
       "    <tr>\n",
       "      <th>29</th>\n",
       "      <td>30</td>\n",
       "      <td>1.994035e-20</td>\n",
       "      <td>1.994035e-20</td>\n",
       "      <td>1.994035e-20</td>\n",
       "    </tr>\n",
       "  </tbody>\n",
       "</table>\n",
       "</div>"
      ],
      "text/plain": [
       "    number_of_features     min_error     max_error     avg_error\n",
       "0                    1  2.571245e-01  2.577767e-01  2.576462e-01\n",
       "1                    2  9.754496e-02  9.754496e-02  9.754496e-02\n",
       "2                    3  4.319395e-02  4.327469e-02  4.324239e-02\n",
       "3                    4  1.850169e-02  2.662923e-02  1.931444e-02\n",
       "4                    5  7.790031e-03  1.058666e-02  8.913562e-03\n",
       "5                    6  3.192803e-03  3.677137e-03  3.289686e-03\n",
       "6                    7  6.633146e-04  2.969141e-03  1.054567e-03\n",
       "7                    8  2.659712e-04  6.618926e-04  3.337579e-04\n",
       "8                    9  9.463050e-05  6.618926e-04  2.796950e-04\n",
       "9                   10  7.236702e-05  4.099313e-04  2.138773e-04\n",
       "10                  11  7.236702e-05  3.682809e-04  1.964206e-04\n",
       "11                  12  3.233321e-05  3.679634e-04  1.728819e-04\n",
       "12                  13  1.707771e-05  3.672701e-04  1.615650e-04\n",
       "13                  14  1.701905e-05  3.672701e-04  1.577720e-04\n",
       "14                  15  1.691884e-05  3.665931e-04  1.566486e-04\n",
       "15                  16  1.641449e-05  3.665931e-04  1.468793e-04\n",
       "16                  17  2.556521e-06  3.659205e-04  1.329787e-04\n",
       "17                  18  6.531247e-06  3.362514e-04  1.165171e-04\n",
       "18                  19  6.365056e-06  3.362514e-04  1.163150e-04\n",
       "19                  20  1.071515e-06  2.711166e-04  8.503515e-05\n",
       "20                  21  1.005763e-06  3.359654e-04  9.440923e-05\n",
       "21                  22  2.260448e-06  2.457810e-04  9.524466e-05\n",
       "22                  23  2.201086e-06  2.036810e-04  3.791435e-05\n",
       "23                  24  9.894658e-07  2.457810e-04  6.715555e-05\n",
       "24                  25  4.020620e-09  2.031502e-04  3.022350e-05\n",
       "25                  26  5.910322e-10  5.549967e-05  1.536246e-05\n",
       "26                  27  6.409327e-09  2.029038e-04  2.646499e-05\n",
       "27                  28  1.994035e-20  2.648580e-06  8.596986e-07\n",
       "28                  29  1.994035e-20  2.076984e-06  3.027246e-07\n",
       "29                  30  1.994035e-20  1.994035e-20  1.994035e-20"
      ]
     },
     "execution_count": 24,
     "metadata": {},
     "output_type": "execute_result"
    }
   ],
   "source": [
    "df_reinforce_class = pd.DataFrame({\n",
    "    \"number_of_features\": all_num_ftrs[0],\n",
    "    \"min_error\": min_errors,\n",
    "    \"max_error\": max_errors,\n",
    "    \"avg_error\": avg_errors\n",
    "})\n",
    "df_reinforce_class"
   ]
  },
  {
   "cell_type": "code",
   "execution_count": 33,
   "metadata": {},
   "outputs": [],
   "source": [
    "df_reinforce_class.to_csv(\"../data/results/REINFORCE_baseline_class.csv\", index=False)"
   ]
  },
  {
   "cell_type": "code",
   "execution_count": 26,
   "metadata": {},
   "outputs": [
    {
     "data": {
      "image/png": "[encoded data removed]",
      "text/plain": [
       "<Figure size 1000x750 with 1 Axes>"
      ]
     },
     "metadata": {},
     "output_type": "display_data"
    }
   ],
   "source": [
    "# Plot\n",
    "plt.figure(figsize=(10, 7.5))\n",
    "plt.plot(all_num_ftrs[0], min_errors, marker='o', label='Minimum Error')\n",
    "plt.plot(all_num_ftrs[0], max_errors, marker='o', label='Maximum Error')\n",
    "plt.plot(all_num_ftrs[0], avg_errors, marker='o', label='Average Error')\n",
    "\n",
    "# Add plot details\n",
    "plt.xlabel('Number of Metrics')\n",
    "plt.ylabel('Sammon Error')\n",
    "# plt.title('Model Stability across Retrainings')\n",
    "plt.xticks(all_num_ftrs[0])  # Ensure x-axis ticks are integers from all_num_ftrs\n",
    "plt.legend()\n",
    "plt.grid(True)\n",
    "plt.show()"
   ]
  },
  {
   "cell_type": "code",
   "execution_count": 27,
   "metadata": {},
   "outputs": [
    {
     "name": "stdout",
     "output_type": "stream",
     "text": [
      "Iteration 0, Number of features 1\n"
     ]
    },
    {
     "name": "stderr",
     "output_type": "stream",
     "text": [
      "Training Episodes: 100%|██████████| 1500/1500 [00:01<00:00, 1101.26it/s, Return=3.85]  \n"
     ]
    },
    {
     "name": "stdout",
     "output_type": "stream",
     "text": [
      "Iteration 1, Number of features 2\n"
     ]
    },
    {
     "name": "stderr",
     "output_type": "stream",
     "text": [
      "Training Episodes: 100%|██████████| 1000/1000 [00:01<00:00, 772.34it/s, Return=5.26]\n"
     ]
    },
    {
     "name": "stdout",
     "output_type": "stream",
     "text": [
      "Iteration 2, Number of features 4\n"
     ]
    },
    {
     "name": "stderr",
     "output_type": "stream",
     "text": [
      "Training Episodes: 100%|██████████| 833/833 [00:01<00:00, 724.47it/s, Return=6.24]\n"
     ]
    },
    {
     "name": "stdout",
     "output_type": "stream",
     "text": [
      "Iteration 3, Number of features 8\n"
     ]
    },
    {
     "name": "stderr",
     "output_type": "stream",
     "text": [
      "Training Episodes: 100%|██████████| 750/750 [00:01<00:00, 520.58it/s, Return=8.14]\n"
     ]
    },
    {
     "name": "stdout",
     "output_type": "stream",
     "text": [
      "26\n",
      "waiting...\n",
      "Iteration 0, Number of features 1\n"
     ]
    },
    {
     "name": "stderr",
     "output_type": "stream",
     "text": [
      "Training Episodes: 100%|██████████| 1500/1500 [00:01<00:00, 1133.20it/s, Return=3.85]   \n"
     ]
    },
    {
     "name": "stdout",
     "output_type": "stream",
     "text": [
      "Iteration 1, Number of features 2\n"
     ]
    },
    {
     "name": "stderr",
     "output_type": "stream",
     "text": [
      "Training Episodes: 100%|██████████| 1000/1000 [00:01<00:00, 979.44it/s, Return=5.26]\n"
     ]
    },
    {
     "name": "stdout",
     "output_type": "stream",
     "text": [
      "Iteration 2, Number of features 4\n"
     ]
    },
    {
     "name": "stderr",
     "output_type": "stream",
     "text": [
      "Training Episodes: 100%|██████████| 833/833 [00:01<00:00, 747.09it/s, Return=6.23]\n"
     ]
    },
    {
     "name": "stdout",
     "output_type": "stream",
     "text": [
      "Iteration 3, Number of features 8\n"
     ]
    },
    {
     "name": "stderr",
     "output_type": "stream",
     "text": [
      "Training Episodes: 100%|██████████| 750/750 [00:01<00:00, 521.76it/s, Return=7.55]\n"
     ]
    },
    {
     "name": "stdout",
     "output_type": "stream",
     "text": [
      "26\n",
      "waiting...\n",
      "Iteration 0, Number of features 1\n"
     ]
    },
    {
     "name": "stderr",
     "output_type": "stream",
     "text": [
      "Training Episodes: 100%|██████████| 1500/1500 [00:01<00:00, 1131.51it/s, Return=3.85]  \n"
     ]
    },
    {
     "name": "stdout",
     "output_type": "stream",
     "text": [
      "Iteration 1, Number of features 2\n"
     ]
    },
    {
     "name": "stderr",
     "output_type": "stream",
     "text": [
      "Training Episodes: 100%|██████████| 1000/1000 [00:01<00:00, 968.41it/s, Return=5.26]\n"
     ]
    },
    {
     "name": "stdout",
     "output_type": "stream",
     "text": [
      "Iteration 2, Number of features 4\n"
     ]
    },
    {
     "name": "stderr",
     "output_type": "stream",
     "text": [
      "Training Episodes: 100%|██████████| 833/833 [00:01<00:00, 742.92it/s, Return=6.24]\n"
     ]
    },
    {
     "name": "stdout",
     "output_type": "stream",
     "text": [
      "Iteration 3, Number of features 8\n"
     ]
    },
    {
     "name": "stderr",
     "output_type": "stream",
     "text": [
      "Training Episodes: 100%|██████████| 750/750 [00:01<00:00, 525.10it/s, Return=8.14]\n"
     ]
    },
    {
     "name": "stdout",
     "output_type": "stream",
     "text": [
      "26\n",
      "waiting...\n",
      "Iteration 0, Number of features 1\n"
     ]
    },
    {
     "name": "stderr",
     "output_type": "stream",
     "text": [
      "Training Episodes: 100%|██████████| 1500/1500 [00:01<00:00, 1144.40it/s, Return=3.85]  \n"
     ]
    },
    {
     "name": "stdout",
     "output_type": "stream",
     "text": [
      "Iteration 1, Number of features 2\n"
     ]
    },
    {
     "name": "stderr",
     "output_type": "stream",
     "text": [
      "Training Episodes: 100%|██████████| 1000/1000 [00:01<00:00, 931.95it/s, Return=5.26]\n"
     ]
    },
    {
     "name": "stdout",
     "output_type": "stream",
     "text": [
      "Iteration 2, Number of features 4\n"
     ]
    },
    {
     "name": "stderr",
     "output_type": "stream",
     "text": [
      "Training Episodes: 100%|██████████| 833/833 [00:01<00:00, 751.32it/s, Return=6.24]\n"
     ]
    },
    {
     "name": "stdout",
     "output_type": "stream",
     "text": [
      "Iteration 3, Number of features 8\n"
     ]
    },
    {
     "name": "stderr",
     "output_type": "stream",
     "text": [
      "Training Episodes: 100%|██████████| 750/750 [00:01<00:00, 521.87it/s, Return=8.16]\n"
     ]
    },
    {
     "name": "stdout",
     "output_type": "stream",
     "text": [
      "26\n",
      "waiting...\n",
      "Iteration 0, Number of features 1\n"
     ]
    },
    {
     "name": "stderr",
     "output_type": "stream",
     "text": [
      "Training Episodes: 100%|██████████| 1500/1500 [00:01<00:00, 1154.86it/s, Return=3.85]  \n"
     ]
    },
    {
     "name": "stdout",
     "output_type": "stream",
     "text": [
      "Iteration 1, Number of features 2\n"
     ]
    },
    {
     "name": "stderr",
     "output_type": "stream",
     "text": [
      "Training Episodes: 100%|██████████| 1000/1000 [00:01<00:00, 973.75it/s, Return=5.26] \n"
     ]
    },
    {
     "name": "stdout",
     "output_type": "stream",
     "text": [
      "Iteration 2, Number of features 4\n"
     ]
    },
    {
     "name": "stderr",
     "output_type": "stream",
     "text": [
      "Training Episodes: 100%|██████████| 833/833 [00:01<00:00, 750.32it/s, Return=6.24]\n"
     ]
    },
    {
     "name": "stdout",
     "output_type": "stream",
     "text": [
      "Iteration 3, Number of features 8\n"
     ]
    },
    {
     "name": "stderr",
     "output_type": "stream",
     "text": [
      "Training Episodes: 100%|██████████| 750/750 [00:01<00:00, 528.59it/s, Return=7.12]\n"
     ]
    },
    {
     "name": "stdout",
     "output_type": "stream",
     "text": [
      "26\n",
      "waiting...\n",
      "Iteration 0, Number of features 1\n"
     ]
    },
    {
     "name": "stderr",
     "output_type": "stream",
     "text": [
      "Training Episodes: 100%|██████████| 1500/1500 [00:01<00:00, 1116.52it/s, Return=3.85]  \n"
     ]
    },
    {
     "name": "stdout",
     "output_type": "stream",
     "text": [
      "Iteration 1, Number of features 2\n"
     ]
    },
    {
     "name": "stderr",
     "output_type": "stream",
     "text": [
      "Training Episodes: 100%|██████████| 1000/1000 [00:01<00:00, 966.91it/s, Return=5.26]\n"
     ]
    },
    {
     "name": "stdout",
     "output_type": "stream",
     "text": [
      "Iteration 2, Number of features 4\n"
     ]
    },
    {
     "name": "stderr",
     "output_type": "stream",
     "text": [
      "Training Episodes: 100%|██████████| 833/833 [00:01<00:00, 749.09it/s, Return=6.23]\n"
     ]
    },
    {
     "name": "stdout",
     "output_type": "stream",
     "text": [
      "Iteration 3, Number of features 8\n"
     ]
    },
    {
     "name": "stderr",
     "output_type": "stream",
     "text": [
      "Training Episodes: 100%|██████████| 750/750 [00:01<00:00, 515.47it/s, Return=7.74]\n"
     ]
    },
    {
     "name": "stdout",
     "output_type": "stream",
     "text": [
      "26\n",
      "waiting...\n",
      "Iteration 0, Number of features 1\n"
     ]
    },
    {
     "name": "stderr",
     "output_type": "stream",
     "text": [
      "Training Episodes: 100%|██████████| 1500/1500 [00:01<00:00, 1150.69it/s, Return=3.85]  \n"
     ]
    },
    {
     "name": "stdout",
     "output_type": "stream",
     "text": [
      "Iteration 1, Number of features 2\n"
     ]
    },
    {
     "name": "stderr",
     "output_type": "stream",
     "text": [
      "Training Episodes: 100%|██████████| 1000/1000 [00:01<00:00, 961.06it/s, Return=5.26]\n"
     ]
    },
    {
     "name": "stdout",
     "output_type": "stream",
     "text": [
      "Iteration 2, Number of features 4\n"
     ]
    },
    {
     "name": "stderr",
     "output_type": "stream",
     "text": [
      "Training Episodes: 100%|██████████| 833/833 [00:01<00:00, 725.48it/s, Return=6.24]\n"
     ]
    },
    {
     "name": "stdout",
     "output_type": "stream",
     "text": [
      "Iteration 3, Number of features 8\n"
     ]
    },
    {
     "name": "stderr",
     "output_type": "stream",
     "text": [
      "Training Episodes: 100%|██████████| 750/750 [00:01<00:00, 523.31it/s, Return=8.2] \n"
     ]
    },
    {
     "name": "stdout",
     "output_type": "stream",
     "text": [
      "26\n",
      "waiting...\n",
      "Iteration 0, Number of features 1\n"
     ]
    },
    {
     "name": "stderr",
     "output_type": "stream",
     "text": [
      "Training Episodes: 100%|██████████| 1500/1500 [00:01<00:00, 1158.99it/s, Return=3.85]  \n"
     ]
    },
    {
     "name": "stdout",
     "output_type": "stream",
     "text": [
      "Iteration 1, Number of features 2\n"
     ]
    },
    {
     "name": "stderr",
     "output_type": "stream",
     "text": [
      "Training Episodes: 100%|██████████| 1000/1000 [00:01<00:00, 972.69it/s, Return=5.26]\n"
     ]
    },
    {
     "name": "stdout",
     "output_type": "stream",
     "text": [
      "Iteration 2, Number of features 4\n"
     ]
    },
    {
     "name": "stderr",
     "output_type": "stream",
     "text": [
      "Training Episodes: 100%|██████████| 833/833 [00:01<00:00, 745.49it/s, Return=6.24]\n"
     ]
    },
    {
     "name": "stdout",
     "output_type": "stream",
     "text": [
      "Iteration 3, Number of features 8\n"
     ]
    },
    {
     "name": "stderr",
     "output_type": "stream",
     "text": [
      "Training Episodes: 100%|██████████| 750/750 [00:01<00:00, 530.06it/s, Return=7.79]\n"
     ]
    },
    {
     "name": "stdout",
     "output_type": "stream",
     "text": [
      "26\n",
      "waiting...\n",
      "Iteration 0, Number of features 1\n"
     ]
    },
    {
     "name": "stderr",
     "output_type": "stream",
     "text": [
      "Training Episodes: 100%|██████████| 1500/1500 [00:01<00:00, 1131.88it/s, Return=3.85]  \n"
     ]
    },
    {
     "name": "stdout",
     "output_type": "stream",
     "text": [
      "Iteration 1, Number of features 2\n"
     ]
    },
    {
     "name": "stderr",
     "output_type": "stream",
     "text": [
      "Training Episodes: 100%|██████████| 1000/1000 [00:01<00:00, 936.74it/s, Return=5.26]\n"
     ]
    },
    {
     "name": "stdout",
     "output_type": "stream",
     "text": [
      "Iteration 2, Number of features 4\n"
     ]
    },
    {
     "name": "stderr",
     "output_type": "stream",
     "text": [
      "Training Episodes: 100%|██████████| 833/833 [00:01<00:00, 713.97it/s, Return=6.23]\n"
     ]
    },
    {
     "name": "stdout",
     "output_type": "stream",
     "text": [
      "Iteration 3, Number of features 8\n"
     ]
    },
    {
     "name": "stderr",
     "output_type": "stream",
     "text": [
      "Training Episodes: 100%|██████████| 750/750 [00:01<00:00, 517.79it/s, Return=8.19]\n"
     ]
    },
    {
     "name": "stdout",
     "output_type": "stream",
     "text": [
      "26\n",
      "waiting...\n",
      "Iteration 0, Number of features 1\n"
     ]
    },
    {
     "name": "stderr",
     "output_type": "stream",
     "text": [
      "Training Episodes: 100%|██████████| 1500/1500 [00:01<00:00, 1067.73it/s, Return=3.85]  \n"
     ]
    },
    {
     "name": "stdout",
     "output_type": "stream",
     "text": [
      "Iteration 1, Number of features 2\n"
     ]
    },
    {
     "name": "stderr",
     "output_type": "stream",
     "text": [
      "Training Episodes: 100%|██████████| 1000/1000 [00:01<00:00, 967.62it/s, Return=5.26]\n"
     ]
    },
    {
     "name": "stdout",
     "output_type": "stream",
     "text": [
      "Iteration 2, Number of features 4\n"
     ]
    },
    {
     "name": "stderr",
     "output_type": "stream",
     "text": [
      "Training Episodes: 100%|██████████| 833/833 [00:01<00:00, 736.72it/s, Return=6.25]\n"
     ]
    },
    {
     "name": "stdout",
     "output_type": "stream",
     "text": [
      "Iteration 3, Number of features 8\n"
     ]
    },
    {
     "name": "stderr",
     "output_type": "stream",
     "text": [
      "Training Episodes: 100%|██████████| 750/750 [00:01<00:00, 524.28it/s, Return=8.07]\n"
     ]
    },
    {
     "name": "stdout",
     "output_type": "stream",
     "text": [
      "26\n",
      "waiting...\n"
     ]
    }
   ],
   "source": [
    "all_errors_m, all_num_ftrs_m, all_selected_features_m = test_stability(X_train_method, X_test_method, data_test_method, num_iters=10)"
   ]
  },
  {
   "cell_type": "code",
   "execution_count": 28,
   "metadata": {},
   "outputs": [
    {
     "name": "stdout",
     "output_type": "stream",
     "text": [
      "['HEFF', 'MI', 'LOC', 'HVOL', 'TLOC', 'TLLOC', 'CLOC', 'LLOC', 'DLOC', 'HPV', 'NUMPAR', 'NOS', 'TNOS', 'HCPL', 'McCC', 'NOI', 'TCLOC', 'NII', 'HPL', 'TCD', 'HTRP', 'NLE', 'HDIF', 'CD', 'NL', 'HNDB']\n",
      "[0.011813886698870594, 0.0033288724293837465, 0.002183144915780891, 0.001041893742704388, 0.0005286542611848264, 0.0003401806494834744, 0.00024215515561974306, 0.00015540611967529612, 0.00010054902940282661, 9.412808303402579e-05, 9.144519698535666e-05, 7.910730744781337e-05, 6.866700799013186e-05, 1.7799811277313696e-05, 1.7211155029303632e-05, 1.7187871983570046e-05, 4.0508097079984045e-06, 7.165899201587348e-07, 2.056539738746264e-06, 9.435473991276468e-11, 4.170330986079913e-18, 4.02621684337535e-06, 4.170330986079913e-18, 4.170330986079913e-18, 1.3786943288452742e-20, 1.3786943288452742e-20]\n"
     ]
    }
   ],
   "source": [
    "print(all_selected_features_m[0][-1])\n",
    "print([float(error) for error in all_errors_m[0]])"
   ]
  },
  {
   "cell_type": "code",
   "execution_count": 29,
   "metadata": {},
   "outputs": [
    {
     "data": {
      "text/plain": [
       "(array([1.18138867e-02, 3.32887243e-03, 1.95967979e-03, 1.03562596e-03,\n",
       "        5.28654261e-04, 3.40180649e-04, 2.40667091e-04, 1.53004767e-04,\n",
       "        9.93594888e-05, 3.56567531e-05, 1.53853721e-05, 9.69927210e-06,\n",
       "        5.22488352e-06, 2.83102750e-06, 2.88786950e-06, 4.24409124e-06,\n",
       "        1.53436311e-06, 7.16589920e-07, 7.21468241e-08, 9.43547399e-11,\n",
       "        4.17033099e-18, 6.79200176e-08, 4.17033099e-18, 1.37869433e-20,\n",
       "        1.37869433e-20, 1.37869433e-20]),\n",
       " array([1.18138867e-02, 3.32887243e-03, 2.18314492e-03, 1.51914040e-03,\n",
       "        5.28654261e-04, 4.20825635e-04, 2.47033657e-04, 1.84300095e-04,\n",
       "        1.48562640e-04, 9.41280830e-05, 9.14451970e-05, 7.91073074e-05,\n",
       "        6.86670080e-05, 4.57628453e-05, 4.51764622e-05, 6.81889565e-05,\n",
       "        9.67052259e-06, 9.45758340e-06, 9.45758340e-06, 3.69259862e-05,\n",
       "        5.64963465e-06, 3.79760093e-05, 2.60607535e-06, 2.06782526e-06,\n",
       "        4.01281769e-07, 1.37869433e-20]),\n",
       " array([1.18138867e-02, 3.32887243e-03, 2.13601769e-03, 1.08836485e-03,\n",
       "        5.28654261e-04, 3.49672000e-04, 2.44048807e-04, 1.69168897e-04,\n",
       "        1.05486320e-04, 7.00396427e-05, 3.94046909e-05, 2.54627833e-05,\n",
       "        1.71155617e-05, 1.34873290e-05, 1.21257895e-05, 1.39722166e-05,\n",
       "        5.66550059e-06, 3.83289410e-06, 3.21516223e-06, 7.66141202e-06,\n",
       "        2.66631766e-06, 5.05093406e-06, 7.66796057e-07, 6.22608192e-07,\n",
       "        9.38544814e-08, 1.37869433e-20]))"
      ]
     },
     "execution_count": 29,
     "metadata": {},
     "output_type": "execute_result"
    }
   ],
   "source": [
    "min_errors = np.min(all_errors_m, axis=0)\n",
    "max_errors = np.max(all_errors_m, axis=0)\n",
    "avg_errors = np.mean(all_errors_m, axis=0)\n",
    "min_errors, max_errors, avg_errors"
   ]
  },
  {
   "cell_type": "code",
   "execution_count": 30,
   "metadata": {},
   "outputs": [
    {
     "data": {
      "text/html": [
       "<div>\n",
       "<style scoped>\n",
       "    .dataframe tbody tr th:only-of-type {\n",
       "        vertical-align: middle;\n",
       "    }\n",
       "\n",
       "    .dataframe tbody tr th {\n",
       "        vertical-align: top;\n",
       "    }\n",
       "\n",
       "    .dataframe thead th {\n",
       "        text-align: right;\n",
       "    }\n",
       "</style>\n",
       "<table border=\"1\" class=\"dataframe\">\n",
       "  <thead>\n",
       "    <tr style=\"text-align: right;\">\n",
       "      <th></th>\n",
       "      <th>number_of_features</th>\n",
       "      <th>min_error</th>\n",
       "      <th>max_error</th>\n",
       "      <th>avg_error</th>\n",
       "    </tr>\n",
       "  </thead>\n",
       "  <tbody>\n",
       "    <tr>\n",
       "      <th>0</th>\n",
       "      <td>1</td>\n",
       "      <td>1.181389e-02</td>\n",
       "      <td>1.181389e-02</td>\n",
       "      <td>1.181389e-02</td>\n",
       "    </tr>\n",
       "    <tr>\n",
       "      <th>1</th>\n",
       "      <td>2</td>\n",
       "      <td>3.328872e-03</td>\n",
       "      <td>3.328872e-03</td>\n",
       "      <td>3.328872e-03</td>\n",
       "    </tr>\n",
       "    <tr>\n",
       "      <th>2</th>\n",
       "      <td>3</td>\n",
       "      <td>1.959680e-03</td>\n",
       "      <td>2.183145e-03</td>\n",
       "      <td>2.136018e-03</td>\n",
       "    </tr>\n",
       "    <tr>\n",
       "      <th>3</th>\n",
       "      <td>4</td>\n",
       "      <td>1.035626e-03</td>\n",
       "      <td>1.519140e-03</td>\n",
       "      <td>1.088365e-03</td>\n",
       "    </tr>\n",
       "    <tr>\n",
       "      <th>4</th>\n",
       "      <td>5</td>\n",
       "      <td>5.286543e-04</td>\n",
       "      <td>5.286543e-04</td>\n",
       "      <td>5.286543e-04</td>\n",
       "    </tr>\n",
       "    <tr>\n",
       "      <th>5</th>\n",
       "      <td>6</td>\n",
       "      <td>3.401806e-04</td>\n",
       "      <td>4.208256e-04</td>\n",
       "      <td>3.496720e-04</td>\n",
       "    </tr>\n",
       "    <tr>\n",
       "      <th>6</th>\n",
       "      <td>7</td>\n",
       "      <td>2.406671e-04</td>\n",
       "      <td>2.470337e-04</td>\n",
       "      <td>2.440488e-04</td>\n",
       "    </tr>\n",
       "    <tr>\n",
       "      <th>7</th>\n",
       "      <td>8</td>\n",
       "      <td>1.530048e-04</td>\n",
       "      <td>1.843001e-04</td>\n",
       "      <td>1.691689e-04</td>\n",
       "    </tr>\n",
       "    <tr>\n",
       "      <th>8</th>\n",
       "      <td>9</td>\n",
       "      <td>9.935949e-05</td>\n",
       "      <td>1.485626e-04</td>\n",
       "      <td>1.054863e-04</td>\n",
       "    </tr>\n",
       "    <tr>\n",
       "      <th>9</th>\n",
       "      <td>10</td>\n",
       "      <td>3.565675e-05</td>\n",
       "      <td>9.412808e-05</td>\n",
       "      <td>7.003964e-05</td>\n",
       "    </tr>\n",
       "    <tr>\n",
       "      <th>10</th>\n",
       "      <td>11</td>\n",
       "      <td>1.538537e-05</td>\n",
       "      <td>9.144520e-05</td>\n",
       "      <td>3.940469e-05</td>\n",
       "    </tr>\n",
       "    <tr>\n",
       "      <th>11</th>\n",
       "      <td>12</td>\n",
       "      <td>9.699272e-06</td>\n",
       "      <td>7.910731e-05</td>\n",
       "      <td>2.546278e-05</td>\n",
       "    </tr>\n",
       "    <tr>\n",
       "      <th>12</th>\n",
       "      <td>13</td>\n",
       "      <td>5.224884e-06</td>\n",
       "      <td>6.866701e-05</td>\n",
       "      <td>1.711556e-05</td>\n",
       "    </tr>\n",
       "    <tr>\n",
       "      <th>13</th>\n",
       "      <td>14</td>\n",
       "      <td>2.831028e-06</td>\n",
       "      <td>4.576285e-05</td>\n",
       "      <td>1.348733e-05</td>\n",
       "    </tr>\n",
       "    <tr>\n",
       "      <th>14</th>\n",
       "      <td>15</td>\n",
       "      <td>2.887870e-06</td>\n",
       "      <td>4.517646e-05</td>\n",
       "      <td>1.212579e-05</td>\n",
       "    </tr>\n",
       "    <tr>\n",
       "      <th>15</th>\n",
       "      <td>16</td>\n",
       "      <td>4.244091e-06</td>\n",
       "      <td>6.818896e-05</td>\n",
       "      <td>1.397222e-05</td>\n",
       "    </tr>\n",
       "    <tr>\n",
       "      <th>16</th>\n",
       "      <td>17</td>\n",
       "      <td>1.534363e-06</td>\n",
       "      <td>9.670523e-06</td>\n",
       "      <td>5.665501e-06</td>\n",
       "    </tr>\n",
       "    <tr>\n",
       "      <th>17</th>\n",
       "      <td>18</td>\n",
       "      <td>7.165899e-07</td>\n",
       "      <td>9.457583e-06</td>\n",
       "      <td>3.832894e-06</td>\n",
       "    </tr>\n",
       "    <tr>\n",
       "      <th>18</th>\n",
       "      <td>19</td>\n",
       "      <td>7.214682e-08</td>\n",
       "      <td>9.457583e-06</td>\n",
       "      <td>3.215162e-06</td>\n",
       "    </tr>\n",
       "    <tr>\n",
       "      <th>19</th>\n",
       "      <td>20</td>\n",
       "      <td>9.435474e-11</td>\n",
       "      <td>3.692599e-05</td>\n",
       "      <td>7.661412e-06</td>\n",
       "    </tr>\n",
       "    <tr>\n",
       "      <th>20</th>\n",
       "      <td>21</td>\n",
       "      <td>4.170331e-18</td>\n",
       "      <td>5.649635e-06</td>\n",
       "      <td>2.666318e-06</td>\n",
       "    </tr>\n",
       "    <tr>\n",
       "      <th>21</th>\n",
       "      <td>22</td>\n",
       "      <td>6.792002e-08</td>\n",
       "      <td>3.797601e-05</td>\n",
       "      <td>5.050934e-06</td>\n",
       "    </tr>\n",
       "    <tr>\n",
       "      <th>22</th>\n",
       "      <td>23</td>\n",
       "      <td>4.170331e-18</td>\n",
       "      <td>2.606075e-06</td>\n",
       "      <td>7.667961e-07</td>\n",
       "    </tr>\n",
       "    <tr>\n",
       "      <th>23</th>\n",
       "      <td>24</td>\n",
       "      <td>1.378694e-20</td>\n",
       "      <td>2.067825e-06</td>\n",
       "      <td>6.226082e-07</td>\n",
       "    </tr>\n",
       "    <tr>\n",
       "      <th>24</th>\n",
       "      <td>25</td>\n",
       "      <td>1.378694e-20</td>\n",
       "      <td>4.012818e-07</td>\n",
       "      <td>9.385448e-08</td>\n",
       "    </tr>\n",
       "    <tr>\n",
       "      <th>25</th>\n",
       "      <td>26</td>\n",
       "      <td>1.378694e-20</td>\n",
       "      <td>1.378694e-20</td>\n",
       "      <td>1.378694e-20</td>\n",
       "    </tr>\n",
       "  </tbody>\n",
       "</table>\n",
       "</div>"
      ],
      "text/plain": [
       "    number_of_features     min_error     max_error     avg_error\n",
       "0                    1  1.181389e-02  1.181389e-02  1.181389e-02\n",
       "1                    2  3.328872e-03  3.328872e-03  3.328872e-03\n",
       "2                    3  1.959680e-03  2.183145e-03  2.136018e-03\n",
       "3                    4  1.035626e-03  1.519140e-03  1.088365e-03\n",
       "4                    5  5.286543e-04  5.286543e-04  5.286543e-04\n",
       "5                    6  3.401806e-04  4.208256e-04  3.496720e-04\n",
       "6                    7  2.406671e-04  2.470337e-04  2.440488e-04\n",
       "7                    8  1.530048e-04  1.843001e-04  1.691689e-04\n",
       "8                    9  9.935949e-05  1.485626e-04  1.054863e-04\n",
       "9                   10  3.565675e-05  9.412808e-05  7.003964e-05\n",
       "10                  11  1.538537e-05  9.144520e-05  3.940469e-05\n",
       "11                  12  9.699272e-06  7.910731e-05  2.546278e-05\n",
       "12                  13  5.224884e-06  6.866701e-05  1.711556e-05\n",
       "13                  14  2.831028e-06  4.576285e-05  1.348733e-05\n",
       "14                  15  2.887870e-06  4.517646e-05  1.212579e-05\n",
       "15                  16  4.244091e-06  6.818896e-05  1.397222e-05\n",
       "16                  17  1.534363e-06  9.670523e-06  5.665501e-06\n",
       "17                  18  7.165899e-07  9.457583e-06  3.832894e-06\n",
       "18                  19  7.214682e-08  9.457583e-06  3.215162e-06\n",
       "19                  20  9.435474e-11  3.692599e-05  7.661412e-06\n",
       "20                  21  4.170331e-18  5.649635e-06  2.666318e-06\n",
       "21                  22  6.792002e-08  3.797601e-05  5.050934e-06\n",
       "22                  23  4.170331e-18  2.606075e-06  7.667961e-07\n",
       "23                  24  1.378694e-20  2.067825e-06  6.226082e-07\n",
       "24                  25  1.378694e-20  4.012818e-07  9.385448e-08\n",
       "25                  26  1.378694e-20  1.378694e-20  1.378694e-20"
      ]
     },
     "execution_count": 30,
     "metadata": {},
     "output_type": "execute_result"
    }
   ],
   "source": [
    "df_reinforce_method = pd.DataFrame({\n",
    "    \"number_of_features\": all_num_ftrs_m[0],\n",
    "    \"min_error\": min_errors,\n",
    "    \"max_error\": max_errors,\n",
    "    \"avg_error\": avg_errors\n",
    "})\n",
    "df_reinforce_method"
   ]
  },
  {
   "cell_type": "code",
   "execution_count": 31,
   "metadata": {},
   "outputs": [],
   "source": [
    "df_reinforce_method.to_csv(\"../data/results/REINFORCE_method.csv\", index=False)"
   ]
  },
  {
   "cell_type": "code",
   "execution_count": 32,
   "metadata": {},
   "outputs": [
    {
     "data": {
      "image/png": "[encoded data removed]",
      "text/plain": [
       "<Figure size 1000x750 with 1 Axes>"
      ]
     },
     "metadata": {},
     "output_type": "display_data"
    }
   ],
   "source": [
    "# Plot\n",
    "plt.figure(figsize=(10, 7.5))\n",
    "plt.plot(all_num_ftrs_m[0], min_errors, marker='o', label='Minimum Error')\n",
    "plt.plot(all_num_ftrs_m[0], max_errors, marker='o', label='Maximum Error')\n",
    "plt.plot(all_num_ftrs_m[0], avg_errors, marker='o', label='Average Error')\n",
    "\n",
    "# Add plot details\n",
    "plt.xlabel('Number of Metrics')\n",
    "plt.ylabel('Sammon Error')\n",
    "# plt.title('Model Stability across Retrainings')\n",
    "plt.xticks(all_num_ftrs_m[0])  # Ensure x-axis ticks are integers from all_num_ftrs\n",
    "plt.legend()\n",
    "plt.grid(True)\n",
    "plt.show()"
   ]
  },
  {
   "cell_type": "code",
   "execution_count": 34,
   "metadata": {},
   "outputs": [],
   "source": [
    "df_reinforce_method.to_csv(\"../data/results/REINFORCE_baseline_method.csv\", index=False)"
   ]
  },
  {
   "cell_type": "code",
   "execution_count": null,
   "metadata": {},
   "outputs": [],
   "source": []
  }
 ],
 "metadata": {
  "kernelspec": {
   "display_name": "inno-em",
   "language": "python",
   "name": "python3"
  },
  "language_info": {
   "codemirror_mode": {
    "name": "ipython",
    "version": 3
   },
   "file_extension": ".py",
   "mimetype": "text/x-python",
   "name": "python",
   "nbconvert_exporter": "python",
   "pygments_lexer": "ipython3",
   "version": "3.10.14"
  }
 },
 "nbformat": 4,
 "nbformat_minor": 2
}
