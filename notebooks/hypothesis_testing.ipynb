{
 "cells": [
  {
   "cell_type": "code",
   "execution_count": 35,
   "metadata": {},
   "outputs": [],
   "source": [
    "import pandas as pd\n",
    "import numpy as np\n",
    "\n",
    "from scipy.stats import rankdata\n",
    "from scipy.stats import ks_2samp"
   ]
  },
  {
   "cell_type": "code",
   "execution_count": 36,
   "metadata": {},
   "outputs": [],
   "source": [
    "path_reinforce_class = \"../data/results/REINFORCE_baseline_class.csv\"\n",
    "path_reinforce_method = \"../data/results/REINFORCE_baseline_method.csv\"\n",
    "path_sfs_class = \"../data/results/SFS_class.csv\"\n",
    "path_sfs_method = \"../data/results/SFS_method.csv\""
   ]
  },
  {
   "cell_type": "code",
   "execution_count": 37,
   "metadata": {},
   "outputs": [
    {
     "data": {
      "text/html": [
       "<div>\n",
       "<style scoped>\n",
       "    .dataframe tbody tr th:only-of-type {\n",
       "        vertical-align: middle;\n",
       "    }\n",
       "\n",
       "    .dataframe tbody tr th {\n",
       "        vertical-align: top;\n",
       "    }\n",
       "\n",
       "    .dataframe thead th {\n",
       "        text-align: right;\n",
       "    }\n",
       "</style>\n",
       "<table border=\"1\" class=\"dataframe\">\n",
       "  <thead>\n",
       "    <tr style=\"text-align: right;\">\n",
       "      <th></th>\n",
       "      <th>number_of_features</th>\n",
       "      <th>min_error</th>\n",
       "      <th>max_error</th>\n",
       "      <th>avg_error</th>\n",
       "    </tr>\n",
       "  </thead>\n",
       "  <tbody>\n",
       "    <tr>\n",
       "      <th>0</th>\n",
       "      <td>1</td>\n",
       "      <td>2.571245e-01</td>\n",
       "      <td>2.577767e-01</td>\n",
       "      <td>2.576462e-01</td>\n",
       "    </tr>\n",
       "    <tr>\n",
       "      <th>1</th>\n",
       "      <td>2</td>\n",
       "      <td>9.754496e-02</td>\n",
       "      <td>9.754496e-02</td>\n",
       "      <td>9.754496e-02</td>\n",
       "    </tr>\n",
       "    <tr>\n",
       "      <th>2</th>\n",
       "      <td>3</td>\n",
       "      <td>4.319395e-02</td>\n",
       "      <td>4.327469e-02</td>\n",
       "      <td>4.324239e-02</td>\n",
       "    </tr>\n",
       "    <tr>\n",
       "      <th>3</th>\n",
       "      <td>4</td>\n",
       "      <td>1.850169e-02</td>\n",
       "      <td>2.662923e-02</td>\n",
       "      <td>1.931444e-02</td>\n",
       "    </tr>\n",
       "    <tr>\n",
       "      <th>4</th>\n",
       "      <td>5</td>\n",
       "      <td>7.790031e-03</td>\n",
       "      <td>1.058666e-02</td>\n",
       "      <td>8.913562e-03</td>\n",
       "    </tr>\n",
       "    <tr>\n",
       "      <th>5</th>\n",
       "      <td>6</td>\n",
       "      <td>3.192803e-03</td>\n",
       "      <td>3.677137e-03</td>\n",
       "      <td>3.289686e-03</td>\n",
       "    </tr>\n",
       "    <tr>\n",
       "      <th>6</th>\n",
       "      <td>7</td>\n",
       "      <td>6.633146e-04</td>\n",
       "      <td>2.969141e-03</td>\n",
       "      <td>1.054567e-03</td>\n",
       "    </tr>\n",
       "    <tr>\n",
       "      <th>7</th>\n",
       "      <td>8</td>\n",
       "      <td>2.659712e-04</td>\n",
       "      <td>6.618926e-04</td>\n",
       "      <td>3.337579e-04</td>\n",
       "    </tr>\n",
       "    <tr>\n",
       "      <th>8</th>\n",
       "      <td>9</td>\n",
       "      <td>9.463050e-05</td>\n",
       "      <td>6.618926e-04</td>\n",
       "      <td>2.796950e-04</td>\n",
       "    </tr>\n",
       "    <tr>\n",
       "      <th>9</th>\n",
       "      <td>10</td>\n",
       "      <td>7.236702e-05</td>\n",
       "      <td>4.099313e-04</td>\n",
       "      <td>2.138773e-04</td>\n",
       "    </tr>\n",
       "    <tr>\n",
       "      <th>10</th>\n",
       "      <td>11</td>\n",
       "      <td>7.236702e-05</td>\n",
       "      <td>3.682809e-04</td>\n",
       "      <td>1.964206e-04</td>\n",
       "    </tr>\n",
       "    <tr>\n",
       "      <th>11</th>\n",
       "      <td>12</td>\n",
       "      <td>3.233321e-05</td>\n",
       "      <td>3.679634e-04</td>\n",
       "      <td>1.728819e-04</td>\n",
       "    </tr>\n",
       "    <tr>\n",
       "      <th>12</th>\n",
       "      <td>13</td>\n",
       "      <td>1.707771e-05</td>\n",
       "      <td>3.672701e-04</td>\n",
       "      <td>1.615650e-04</td>\n",
       "    </tr>\n",
       "    <tr>\n",
       "      <th>13</th>\n",
       "      <td>14</td>\n",
       "      <td>1.701905e-05</td>\n",
       "      <td>3.672701e-04</td>\n",
       "      <td>1.577720e-04</td>\n",
       "    </tr>\n",
       "    <tr>\n",
       "      <th>14</th>\n",
       "      <td>15</td>\n",
       "      <td>1.691884e-05</td>\n",
       "      <td>3.665931e-04</td>\n",
       "      <td>1.566486e-04</td>\n",
       "    </tr>\n",
       "    <tr>\n",
       "      <th>15</th>\n",
       "      <td>16</td>\n",
       "      <td>1.641449e-05</td>\n",
       "      <td>3.665931e-04</td>\n",
       "      <td>1.468793e-04</td>\n",
       "    </tr>\n",
       "    <tr>\n",
       "      <th>16</th>\n",
       "      <td>17</td>\n",
       "      <td>2.556521e-06</td>\n",
       "      <td>3.659205e-04</td>\n",
       "      <td>1.329787e-04</td>\n",
       "    </tr>\n",
       "    <tr>\n",
       "      <th>17</th>\n",
       "      <td>18</td>\n",
       "      <td>6.531247e-06</td>\n",
       "      <td>3.362514e-04</td>\n",
       "      <td>1.165171e-04</td>\n",
       "    </tr>\n",
       "    <tr>\n",
       "      <th>18</th>\n",
       "      <td>19</td>\n",
       "      <td>6.365056e-06</td>\n",
       "      <td>3.362514e-04</td>\n",
       "      <td>1.163150e-04</td>\n",
       "    </tr>\n",
       "    <tr>\n",
       "      <th>19</th>\n",
       "      <td>20</td>\n",
       "      <td>1.071515e-06</td>\n",
       "      <td>2.711166e-04</td>\n",
       "      <td>8.503515e-05</td>\n",
       "    </tr>\n",
       "    <tr>\n",
       "      <th>20</th>\n",
       "      <td>21</td>\n",
       "      <td>1.005763e-06</td>\n",
       "      <td>3.359654e-04</td>\n",
       "      <td>9.440923e-05</td>\n",
       "    </tr>\n",
       "    <tr>\n",
       "      <th>21</th>\n",
       "      <td>22</td>\n",
       "      <td>2.260448e-06</td>\n",
       "      <td>2.457810e-04</td>\n",
       "      <td>9.524466e-05</td>\n",
       "    </tr>\n",
       "    <tr>\n",
       "      <th>22</th>\n",
       "      <td>23</td>\n",
       "      <td>2.201086e-06</td>\n",
       "      <td>2.036810e-04</td>\n",
       "      <td>3.791435e-05</td>\n",
       "    </tr>\n",
       "    <tr>\n",
       "      <th>23</th>\n",
       "      <td>24</td>\n",
       "      <td>9.894658e-07</td>\n",
       "      <td>2.457810e-04</td>\n",
       "      <td>6.715555e-05</td>\n",
       "    </tr>\n",
       "    <tr>\n",
       "      <th>24</th>\n",
       "      <td>25</td>\n",
       "      <td>4.020620e-09</td>\n",
       "      <td>2.031502e-04</td>\n",
       "      <td>3.022350e-05</td>\n",
       "    </tr>\n",
       "    <tr>\n",
       "      <th>25</th>\n",
       "      <td>26</td>\n",
       "      <td>5.910322e-10</td>\n",
       "      <td>5.549967e-05</td>\n",
       "      <td>1.536246e-05</td>\n",
       "    </tr>\n",
       "    <tr>\n",
       "      <th>26</th>\n",
       "      <td>27</td>\n",
       "      <td>6.409327e-09</td>\n",
       "      <td>2.029038e-04</td>\n",
       "      <td>2.646499e-05</td>\n",
       "    </tr>\n",
       "    <tr>\n",
       "      <th>27</th>\n",
       "      <td>28</td>\n",
       "      <td>1.994035e-20</td>\n",
       "      <td>2.648580e-06</td>\n",
       "      <td>8.596986e-07</td>\n",
       "    </tr>\n",
       "    <tr>\n",
       "      <th>28</th>\n",
       "      <td>29</td>\n",
       "      <td>1.994035e-20</td>\n",
       "      <td>2.076984e-06</td>\n",
       "      <td>3.027246e-07</td>\n",
       "    </tr>\n",
       "    <tr>\n",
       "      <th>29</th>\n",
       "      <td>30</td>\n",
       "      <td>1.994035e-20</td>\n",
       "      <td>1.994035e-20</td>\n",
       "      <td>1.994035e-20</td>\n",
       "    </tr>\n",
       "  </tbody>\n",
       "</table>\n",
       "</div>"
      ],
      "text/plain": [
       "    number_of_features     min_error     max_error     avg_error\n",
       "0                    1  2.571245e-01  2.577767e-01  2.576462e-01\n",
       "1                    2  9.754496e-02  9.754496e-02  9.754496e-02\n",
       "2                    3  4.319395e-02  4.327469e-02  4.324239e-02\n",
       "3                    4  1.850169e-02  2.662923e-02  1.931444e-02\n",
       "4                    5  7.790031e-03  1.058666e-02  8.913562e-03\n",
       "5                    6  3.192803e-03  3.677137e-03  3.289686e-03\n",
       "6                    7  6.633146e-04  2.969141e-03  1.054567e-03\n",
       "7                    8  2.659712e-04  6.618926e-04  3.337579e-04\n",
       "8                    9  9.463050e-05  6.618926e-04  2.796950e-04\n",
       "9                   10  7.236702e-05  4.099313e-04  2.138773e-04\n",
       "10                  11  7.236702e-05  3.682809e-04  1.964206e-04\n",
       "11                  12  3.233321e-05  3.679634e-04  1.728819e-04\n",
       "12                  13  1.707771e-05  3.672701e-04  1.615650e-04\n",
       "13                  14  1.701905e-05  3.672701e-04  1.577720e-04\n",
       "14                  15  1.691884e-05  3.665931e-04  1.566486e-04\n",
       "15                  16  1.641449e-05  3.665931e-04  1.468793e-04\n",
       "16                  17  2.556521e-06  3.659205e-04  1.329787e-04\n",
       "17                  18  6.531247e-06  3.362514e-04  1.165171e-04\n",
       "18                  19  6.365056e-06  3.362514e-04  1.163150e-04\n",
       "19                  20  1.071515e-06  2.711166e-04  8.503515e-05\n",
       "20                  21  1.005763e-06  3.359654e-04  9.440923e-05\n",
       "21                  22  2.260448e-06  2.457810e-04  9.524466e-05\n",
       "22                  23  2.201086e-06  2.036810e-04  3.791435e-05\n",
       "23                  24  9.894658e-07  2.457810e-04  6.715555e-05\n",
       "24                  25  4.020620e-09  2.031502e-04  3.022350e-05\n",
       "25                  26  5.910322e-10  5.549967e-05  1.536246e-05\n",
       "26                  27  6.409327e-09  2.029038e-04  2.646499e-05\n",
       "27                  28  1.994035e-20  2.648580e-06  8.596986e-07\n",
       "28                  29  1.994035e-20  2.076984e-06  3.027246e-07\n",
       "29                  30  1.994035e-20  1.994035e-20  1.994035e-20"
      ]
     },
     "execution_count": 37,
     "metadata": {},
     "output_type": "execute_result"
    }
   ],
   "source": [
    "df_reinforce_class = pd.read_csv(path_reinforce_class)\n",
    "df_reinforce_method = pd.read_csv(path_reinforce_method)\n",
    "df_sfs_class =pd.read_csv(path_sfs_class)\n",
    "df_sfs_method = pd.read_csv(path_sfs_method)\n",
    "\n",
    "df_reinforce_class"
   ]
  },
  {
   "cell_type": "markdown",
   "metadata": {},
   "source": [
    "### Class"
   ]
  },
  {
   "cell_type": "code",
   "execution_count": 38,
   "metadata": {},
   "outputs": [
    {
     "name": "stdout",
     "output_type": "stream",
     "text": [
      "SFS Ranks: [57.5 55.5 53.5 51.5 49.5 47.5 45.5 43.5 41.5 39.5 37.5 35.5 33.5 31.5\n",
      " 29.5 27.5 25.5 23.5 21.5 10.5 10.5 10.5 10.5 10.5 10.5 10.5 10.5 10.5\n",
      " 10.5]\n",
      "REINFORCE Ranks: [57.5 55.5 53.5 51.5 49.5 47.5 45.5 43.5 41.5 39.5 37.5 35.5 33.5 31.5\n",
      " 29.5 27.5 25.5 23.5 21.5 10.5 10.5 10.5 10.5 10.5 10.5 10.5 10.5 10.5\n",
      " 10.5]\n"
     ]
    }
   ],
   "source": [
    "# Combine data\n",
    "# reinforce = list(df_reinforce_class['avg_error'][1:])\n",
    "reinforce = list(df_sfs_class['error'][1:])\n",
    "sfs = list(df_sfs_class['error'][1:])\n",
    "combined = sfs + reinforce\n",
    "\n",
    "# Rank the data\n",
    "ranks = rankdata(combined)\n",
    "\n",
    "# Split the ranks back into groups\n",
    "reinforce_ranks = ranks[:len(sfs)]\n",
    "sfs_ranks = ranks[len(sfs):]\n",
    "\n",
    "print(\"SFS Ranks:\", sfs_ranks)\n",
    "print(\"REINFORCE Ranks:\", reinforce_ranks)"
   ]
  },
  {
   "cell_type": "code",
   "execution_count": 39,
   "metadata": {},
   "outputs": [
    {
     "name": "stdout",
     "output_type": "stream",
     "text": [
      "Sum of SFS Ranks: 855.5\n",
      "Sum of REINFORCE Ranks: 855.5\n"
     ]
    }
   ],
   "source": [
    "R_SFS = np.sum(sfs_ranks)\n",
    "R_REINFORCE = np.sum(reinforce_ranks)\n",
    "\n",
    "print(f\"Sum of SFS Ranks: {R_SFS}\")\n",
    "print(f\"Sum of REINFORCE Ranks: {R_REINFORCE}\")"
   ]
  },
  {
   "cell_type": "code",
   "execution_count": 40,
   "metadata": {},
   "outputs": [
    {
     "name": "stdout",
     "output_type": "stream",
     "text": [
      "U statistic for SFS: 420.5\n",
      "U statistic for REINFORCE: 420.5\n"
     ]
    }
   ],
   "source": [
    "n1 = len(sfs_ranks)\n",
    "n2 = len(reinforce_ranks)\n",
    "\n",
    "U_SFS = n1 * n2 + (n1 * (n1 + 1)) / 2 - R_SFS\n",
    "U_REINFORCE = n1 * n2 - U_SFS\n",
    "\n",
    "print(f\"U statistic for SFS: {U_SFS}\")\n",
    "print(f\"U statistic for REINFORCE: {U_REINFORCE}\")\n"
   ]
  },
  {
   "cell_type": "code",
   "execution_count": 41,
   "metadata": {},
   "outputs": [
    {
     "name": "stdout",
     "output_type": "stream",
     "text": [
      "Mann-Whitney U statistic: 420.5\n",
      "P-value: 1.0\n"
     ]
    }
   ],
   "source": [
    "from scipy.stats import mannwhitneyu\n",
    "\n",
    "# Perform the Mann-Whitney U test\n",
    "stat, p_value = mannwhitneyu(sfs_ranks, reinforce_ranks, alternative='two-sided')\n",
    "\n",
    "print(f\"Mann-Whitney U statistic: {stat}\")\n",
    "print(f\"P-value: {p_value}\")\n"
   ]
  },
  {
   "cell_type": "code",
   "execution_count": 42,
   "metadata": {},
   "outputs": [],
   "source": [
    "ALPHA = 0.05"
   ]
  },
  {
   "cell_type": "markdown",
   "metadata": {},
   "source": [
    "### 4. Report the Results\n",
    "   Once you have the \\(U\\)-statistics and \\(p\\)-value:\n",
    "   - Summarize the results in a table.\n",
    "   - Mention whether the null hypothesis was rejected or not.\n",
    "\n",
    "For example:\n",
    "\n",
    "| Method        | Sum of Ranks (\\(R\\)) | \\(U\\)-Statistic | \\(p\\)-Value | Conclusion                        |\n",
    "|---------------|-----------------------|-----------------|-------------|----------------------------------|\n",
    "| SFS           | [Calculated Value]   | [Calculated Value] | [Calculated Value] | No significant difference if \\(p \\geq 0.05\\) |\n",
    "| REINFORCE     | [Calculated Value]   | [Calculated Value] | [Calculated Value] | Same conclusion as above |\n",
    "\n",
    "Let me know if you encounter any issues or need further clarification!"
   ]
  },
  {
   "cell_type": "markdown",
   "metadata": {},
   "source": [
    "### Method"
   ]
  },
  {
   "cell_type": "code",
   "execution_count": 21,
   "metadata": {},
   "outputs": [
    {
     "name": "stdout",
     "output_type": "stream",
     "text": [
      "SFS Ranks: [49.5 48.  46.  43.5 42.  40.  38.  36.  34.  33.  31.  30.  27.  26.\n",
      " 28.  23.  20.  19.  24.  18.  21.  15.  14.  12.   4. ]\n",
      "REINFORCE Ranks: [49.5 47.  45.  43.5 41.  39.  37.  35.  32.  29.  25.  22.  17.  16.\n",
      " 13.  11.  10.   9.   8.   4.   4.   4.   4.   4.   4. ]\n"
     ]
    }
   ],
   "source": [
    "# Combine data\n",
    "reinforce = list(df_reinforce_method['avg_error'][1:])\n",
    "sfs = list(df_sfs_method['error'][1:])\n",
    "combined = sfs + reinforce\n",
    "\n",
    "# Rank the data\n",
    "ranks = rankdata(combined)\n",
    "\n",
    "# Split the ranks back into groups\n",
    "reinforce_ranks = ranks[:len(sfs)]\n",
    "sfs_ranks = ranks[len(sfs):]\n",
    "\n",
    "print(\"SFS Ranks:\", sfs_ranks)\n",
    "print(\"REINFORCE Ranks:\", reinforce_ranks)"
   ]
  },
  {
   "cell_type": "code",
   "execution_count": 22,
   "metadata": {},
   "outputs": [
    {
     "name": "stdout",
     "output_type": "stream",
     "text": [
      "Sum of SFS Ranks: 722.0\n",
      "Sum of REINFORCE Ranks: 553.0\n"
     ]
    }
   ],
   "source": [
    "R_SFS = np.sum(sfs_ranks)\n",
    "R_REINFORCE = np.sum(reinforce_ranks)\n",
    "\n",
    "print(f\"Sum of SFS Ranks: {R_SFS}\")\n",
    "print(f\"Sum of REINFORCE Ranks: {R_REINFORCE}\")"
   ]
  },
  {
   "cell_type": "code",
   "execution_count": 23,
   "metadata": {},
   "outputs": [
    {
     "name": "stdout",
     "output_type": "stream",
     "text": [
      "U statistic for SFS: 228.0\n",
      "U statistic for REINFORCE: 397.0\n"
     ]
    }
   ],
   "source": [
    "n1 = len(sfs_ranks)\n",
    "n2 = len(reinforce_ranks)\n",
    "\n",
    "U_SFS = n1 * n2 + (n1 * (n1 + 1)) / 2 - R_SFS\n",
    "U_REINFORCE = n1 * n2 - U_SFS\n",
    "\n",
    "print(f\"U statistic for SFS: {U_SFS}\")\n",
    "print(f\"U statistic for REINFORCE: {U_REINFORCE}\")\n"
   ]
  },
  {
   "cell_type": "code",
   "execution_count": 24,
   "metadata": {},
   "outputs": [
    {
     "name": "stdout",
     "output_type": "stream",
     "text": [
      "Mann-Whitney U statistic: 397.0\n",
      "P-value: 0.10265551589184237\n"
     ]
    }
   ],
   "source": [
    "from scipy.stats import mannwhitneyu\n",
    "\n",
    "# Perform the Mann-Whitney U test\n",
    "stat, p_value = mannwhitneyu(sfs_ranks, reinforce_ranks, alternative='two-sided')\n",
    "\n",
    "print(f\"Mann-Whitney U statistic: {stat}\")\n",
    "print(f\"P-value: {p_value}\")\n"
   ]
  }
 ],
 "metadata": {
  "kernelspec": {
   "display_name": "inno-em",
   "language": "python",
   "name": "python3"
  },
  "language_info": {
   "codemirror_mode": {
    "name": "ipython",
    "version": 3
   },
   "file_extension": ".py",
   "mimetype": "text/x-python",
   "name": "python",
   "nbconvert_exporter": "python",
   "pygments_lexer": "ipython3",
   "version": "3.10.14"
  }
 },
 "nbformat": 4,
 "nbformat_minor": 2
}
